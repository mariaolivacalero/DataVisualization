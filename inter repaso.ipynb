{
  "cells": [
    {
      "cell_type": "markdown",
      "metadata": {
        "id": "xoyr7F7GNiM6"
      },
      "source": [
        "# Prueba Intertrimestral\n",
        "\n",
        "**Nombre:**\n",
        "\n",
        "**Apellidos:**\n",
        "\n",
        "**Tiempo de la prueba: 2 Horas**\n",
        "\n",
        "**Asignatura:** Desarrollo de Aplicaciones para la Visualización de Datos\n",
        "\n",
        "**Fecha:** 18 de octubre de 2023\n",
        "\n",
        "**Instrucciones:**\n",
        "\n",
        "- Escribe código limpio y autoexplicativo.\n",
        "\n",
        "- Se eliminará 0.5 puntos por usar Seaborn o Matplotlib.\n",
        "\n",
        "- Se pueden utilizar los materiales de clase.\n",
        "\n",
        "- Se puede utilizar internet para búsqueda de dudas y documentación.\n",
        "\n",
        "- No se puede utilizar ningún tipo de LLM.\n",
        "\n",
        "- No se puede utilizar mensajería instantánea.\n",
        "\n",
        "- Sube tus resultados a tu repositorio de Github.\n",
        "\n",
        "- Imprime una versión en PDF en A3 y Portrait del notebook.\n",
        "\n",
        "- Envialo tus resultados a dmartincorral@icai.comillas.edu adjuntando el PDF y la url del notebook subido al repositorio de Github.\n"
      ]
    },
    {
      "cell_type": "markdown",
      "metadata": {
        "id": "_yd5v77lO4fW"
      },
      "source": [
        "## Inicialización de librerías\n",
        "\n",
        "Carga aquí todas las librerías que vayas a utilizar."
      ]
    },
    {
      "cell_type": "code",
      "execution_count": 41,
      "metadata": {
        "id": "xCJ9wLIePA99"
      },
      "outputs": [],
      "source": [
        "import pandas as pd\n",
        "import sklearn.datasets\n",
        "import numpy as np  \n",
        "\n",
        "import matplotlib.pyplot as plt\n",
        "import plotly.express as px\n",
        "import plotly.graph_objects as go\n",
        "import dash\n",
        "\n",
        "\n",
        "from sklearn.linear_model import ElasticNet\n",
        "from sklearn.model_selection import train_test_split\n",
        "\n",
        "from sklearn.linear_model import LinearRegression\n",
        "from sklearn.discriminant_analysis import StandardScaler\n",
        "from sklearn.ensemble import RandomForestRegressor\n",
        "from sklearn.pipeline import Pipeline\n",
        "from sklearn.preprocessing import StandardScaler\n",
        "from sklearn.linear_model import SGDClassifier, LogisticRegression\n",
        "\n",
        "from sklearn.metrics import (\n",
        "    r2_score,\n",
        "    mean_absolute_error,\n",
        "    mean_squared_error,\n",
        "    classification_report,\n",
        "    confusion_matrix\n",
        ")\n"
      ]
    },
    {
      "cell_type": "markdown",
      "metadata": {
        "id": "-DcUj8fKPD19"
      },
      "source": [
        "## Ejercicio 1 (2 puntos):\n",
        "\n",
        "a) Crea una función que calcule y devuelva el factorial de un número entero. **(0.6 puntos)**\n",
        "\n",
        "b) Crea una función que verifique si un número es primo o no. **(0.6 puntos)**\n",
        "\n",
        "c) Muestra en un dataframe los 50 primeros números positivos, si es primo y su factorial utilizando las funciones anteriores. **(0.6 puntos)**\n",
        "\n",
        "d) ¿Cómo se podría programar en una clase las tres operaciones anteriores? **(0.2 puntos)**"
      ]
    },
    {
      "cell_type": "code",
      "execution_count": 2,
      "metadata": {
        "id": "IaPhSsDoSBL-"
      },
      "outputs": [],
      "source": [
        "def factorial(n):\n",
        "    if n == 0:\n",
        "        return 1\n",
        "    else:\n",
        "        return n * factorial(n-1)"
      ]
    },
    {
      "cell_type": "code",
      "execution_count": 3,
      "metadata": {},
      "outputs": [],
      "source": [
        "def is_prime(n):\n",
        "    if n <= 1:\n",
        "        return False\n",
        "    for i in range(2, int(n**0.5) + 1):\n",
        "        if n % i == 0:\n",
        "            return False\n",
        "    return True\n"
      ]
    },
    {
      "cell_type": "code",
      "execution_count": 4,
      "metadata": {},
      "outputs": [],
      "source": [
        "df = pd.DataFrame(columns=['n', 'factorial', 'is_prime'], index=None)\n",
        "for i in range(1,51):\n",
        "    df.loc[i] = [i, factorial(i), is_prime(i)]\n"
      ]
    },
    {
      "cell_type": "code",
      "execution_count": 5,
      "metadata": {},
      "outputs": [
        {
          "data": {
            "text/html": [
              "<div>\n",
              "<style scoped>\n",
              "    .dataframe tbody tr th:only-of-type {\n",
              "        vertical-align: middle;\n",
              "    }\n",
              "\n",
              "    .dataframe tbody tr th {\n",
              "        vertical-align: top;\n",
              "    }\n",
              "\n",
              "    .dataframe thead th {\n",
              "        text-align: right;\n",
              "    }\n",
              "</style>\n",
              "<table border=\"1\" class=\"dataframe\">\n",
              "  <thead>\n",
              "    <tr style=\"text-align: right;\">\n",
              "      <th></th>\n",
              "      <th>n</th>\n",
              "      <th>factorial</th>\n",
              "      <th>is_prime</th>\n",
              "    </tr>\n",
              "  </thead>\n",
              "  <tbody>\n",
              "    <tr>\n",
              "      <th>1</th>\n",
              "      <td>1</td>\n",
              "      <td>1</td>\n",
              "      <td>False</td>\n",
              "    </tr>\n",
              "    <tr>\n",
              "      <th>2</th>\n",
              "      <td>2</td>\n",
              "      <td>2</td>\n",
              "      <td>True</td>\n",
              "    </tr>\n",
              "    <tr>\n",
              "      <th>3</th>\n",
              "      <td>3</td>\n",
              "      <td>6</td>\n",
              "      <td>True</td>\n",
              "    </tr>\n",
              "    <tr>\n",
              "      <th>4</th>\n",
              "      <td>4</td>\n",
              "      <td>24</td>\n",
              "      <td>False</td>\n",
              "    </tr>\n",
              "    <tr>\n",
              "      <th>5</th>\n",
              "      <td>5</td>\n",
              "      <td>120</td>\n",
              "      <td>True</td>\n",
              "    </tr>\n",
              "    <tr>\n",
              "      <th>6</th>\n",
              "      <td>6</td>\n",
              "      <td>720</td>\n",
              "      <td>False</td>\n",
              "    </tr>\n",
              "    <tr>\n",
              "      <th>7</th>\n",
              "      <td>7</td>\n",
              "      <td>5040</td>\n",
              "      <td>True</td>\n",
              "    </tr>\n",
              "    <tr>\n",
              "      <th>8</th>\n",
              "      <td>8</td>\n",
              "      <td>40320</td>\n",
              "      <td>False</td>\n",
              "    </tr>\n",
              "    <tr>\n",
              "      <th>9</th>\n",
              "      <td>9</td>\n",
              "      <td>362880</td>\n",
              "      <td>False</td>\n",
              "    </tr>\n",
              "    <tr>\n",
              "      <th>10</th>\n",
              "      <td>10</td>\n",
              "      <td>3628800</td>\n",
              "      <td>False</td>\n",
              "    </tr>\n",
              "  </tbody>\n",
              "</table>\n",
              "</div>"
            ],
            "text/plain": [
              "     n factorial  is_prime\n",
              "1    1         1     False\n",
              "2    2         2      True\n",
              "3    3         6      True\n",
              "4    4        24     False\n",
              "5    5       120      True\n",
              "6    6       720     False\n",
              "7    7      5040      True\n",
              "8    8     40320     False\n",
              "9    9    362880     False\n",
              "10  10   3628800     False"
            ]
          },
          "execution_count": 5,
          "metadata": {},
          "output_type": "execute_result"
        }
      ],
      "source": [
        "df.head(10)"
      ]
    },
    {
      "cell_type": "markdown",
      "metadata": {
        "id": "91Zj0Qo6SEDO"
      },
      "source": [
        "## Ejercicio 2 (4 puntos):\n",
        "\n",
        "a) Extrae de sklearn el conjunto de datos __California Housing dataset__\n",
        " y transfórmalo a dataframe de pandas **(0.25 puntos)**\n",
        "\n",
        "b) Construye una función que muestra la estructura del dataset, el número de NAs, tipos de variables y estadísticas básicas de cada una de las variables. **(0.5 puntos)**\n",
        "\n",
        "c) Construye una __Regresión lineal__ y un __Random forest__ que predigan el __Median house value__ según los datos disponibles. **(0.75 puntos)**\n",
        "\n",
        "d) Visualiza cuales son las variables (coeficientes) más importantes en cada uno de los modelos. **(1.25 puntos)**\n",
        "\n",
        "e) Decide a través de las métricas que consideres oportunas, cuál de los dos modelos es mejor, por qué y explica el proceso que has realizado para responder en los puntos anteriores. **(1.25 puntos)**"
      ]
    },
    {
      "cell_type": "code",
      "execution_count": 6,
      "metadata": {
        "id": "2Aiag2OvUDJF"
      },
      "outputs": [
        {
          "name": "stdout",
          "output_type": "stream",
          "text": [
            "   MedInc  HouseAge  AveRooms  AveBedrms  Population  AveOccup  Latitude  \\\n",
            "0  8.3252      41.0  6.984127   1.023810       322.0  2.555556     37.88   \n",
            "1  8.3014      21.0  6.238137   0.971880      2401.0  2.109842     37.86   \n",
            "2  7.2574      52.0  8.288136   1.073446       496.0  2.802260     37.85   \n",
            "3  5.6431      52.0  5.817352   1.073059       558.0  2.547945     37.85   \n",
            "4  3.8462      52.0  6.281853   1.081081       565.0  2.181467     37.85   \n",
            "\n",
            "   Longitude  target  \n",
            "0    -122.23   4.526  \n",
            "1    -122.22   3.585  \n",
            "2    -122.24   3.521  \n",
            "3    -122.25   3.413  \n",
            "4    -122.25   3.422  \n"
          ]
        }
      ],
      "source": [
        "dataset = sklearn.datasets.fetch_california_housing()\n",
        "\n",
        "df = pd.DataFrame(data = dataset['data'], columns = dataset['feature_names'])\n",
        "df[\"target\"] = dataset[\"target\"]\n",
        "\n",
        "df.to_csv(\"fetch_california_housing.csv\")\n",
        "\n",
        "print(df.head())\n"
      ]
    },
    {
      "cell_type": "code",
      "execution_count": 7,
      "metadata": {},
      "outputs": [],
      "source": [
        "def info(df):\n",
        "    print(\"this dataset has {} rows and {} columns\".format(df.shape[0], df.shape[1]))\n",
        "    print(\"coloumns are: {}\".format(df.columns))\n",
        "    print(df.dtypes)\n",
        "    print(\"there are NAs in the dataset: {}\".format(df.isna().sum()))\n",
        "    print(df.isna().sum())\n",
        "    print(df.describe(include='all'))"
      ]
    },
    {
      "cell_type": "code",
      "execution_count": 8,
      "metadata": {},
      "outputs": [
        {
          "name": "stdout",
          "output_type": "stream",
          "text": [
            "this dataset has 20640 rows and 9 columns\n",
            "coloumns are: Index(['MedInc', 'HouseAge', 'AveRooms', 'AveBedrms', 'Population', 'AveOccup',\n",
            "       'Latitude', 'Longitude', 'target'],\n",
            "      dtype='object')\n",
            "MedInc        float64\n",
            "HouseAge      float64\n",
            "AveRooms      float64\n",
            "AveBedrms     float64\n",
            "Population    float64\n",
            "AveOccup      float64\n",
            "Latitude      float64\n",
            "Longitude     float64\n",
            "target        float64\n",
            "dtype: object\n",
            "there are NAs in the dataset: MedInc        0\n",
            "HouseAge      0\n",
            "AveRooms      0\n",
            "AveBedrms     0\n",
            "Population    0\n",
            "AveOccup      0\n",
            "Latitude      0\n",
            "Longitude     0\n",
            "target        0\n",
            "dtype: int64\n",
            "MedInc        0\n",
            "HouseAge      0\n",
            "AveRooms      0\n",
            "AveBedrms     0\n",
            "Population    0\n",
            "AveOccup      0\n",
            "Latitude      0\n",
            "Longitude     0\n",
            "target        0\n",
            "dtype: int64\n",
            "             MedInc      HouseAge      AveRooms     AveBedrms    Population  \\\n",
            "count  20640.000000  20640.000000  20640.000000  20640.000000  20640.000000   \n",
            "mean       3.870671     28.639486      5.429000      1.096675   1425.476744   \n",
            "std        1.899822     12.585558      2.474173      0.473911   1132.462122   \n",
            "min        0.499900      1.000000      0.846154      0.333333      3.000000   \n",
            "25%        2.563400     18.000000      4.440716      1.006079    787.000000   \n",
            "50%        3.534800     29.000000      5.229129      1.048780   1166.000000   \n",
            "75%        4.743250     37.000000      6.052381      1.099526   1725.000000   \n",
            "max       15.000100     52.000000    141.909091     34.066667  35682.000000   \n",
            "\n",
            "           AveOccup      Latitude     Longitude        target  \n",
            "count  20640.000000  20640.000000  20640.000000  20640.000000  \n",
            "mean       3.070655     35.631861   -119.569704      2.068558  \n",
            "std       10.386050      2.135952      2.003532      1.153956  \n",
            "min        0.692308     32.540000   -124.350000      0.149990  \n",
            "25%        2.429741     33.930000   -121.800000      1.196000  \n",
            "50%        2.818116     34.260000   -118.490000      1.797000  \n",
            "75%        3.282261     37.710000   -118.010000      2.647250  \n",
            "max     1243.333333     41.950000   -114.310000      5.000010  \n"
          ]
        }
      ],
      "source": [
        "info(df)"
      ]
    },
    {
      "cell_type": "code",
      "execution_count": 9,
      "metadata": {},
      "outputs": [
        {
          "name": "stdout",
          "output_type": "stream",
          "text": [
            "Variance explanation Linear regression R^2 = 0.61\n",
            "Variance explanation Random Forest R^2 = 0.94\n"
          ]
        }
      ],
      "source": [
        "\n",
        "\n",
        "\n",
        "X = dataset[\"data\"]\n",
        "y = dataset[\"target\"]\n",
        "X_train, X_test, y_train, y_test = train_test_split(X, y, test_size=0.2, random_state=42)\n",
        "\n",
        "lm = Pipeline(steps=[\n",
        "  ('scaler', StandardScaler()),\n",
        "  (\"lm\", LinearRegression()),\n",
        "])\n",
        "\n",
        "lm = lm.fit(X_train, y_train)\n",
        "\n",
        "print(\"Variance explanation Linear regression R^2 = {}\".format(round(lm.score(X, y),2)))\n",
        "\n",
        "rf = RandomForestRegressor().fit(X_train, y_train)\n",
        "\n",
        "rf = Pipeline(steps=[\n",
        "  ('scaler', StandardScaler()),\n",
        "  (\"rf\", RandomForestRegressor()),\n",
        "])\n",
        "\n",
        "rf = rf.fit(X_train, y_train)\n",
        "\n",
        "print(\"Variance explanation Random Forest R^2 = {}\".format(round(rf.score(X, y),2)))\n",
        "\n"
      ]
    },
    {
      "cell_type": "code",
      "execution_count": 10,
      "metadata": {},
      "outputs": [
        {
          "data": {
            "text/plain": [
              "array([1.46966793, 1.74416962, 2.23145715, ..., 3.39813146, 1.87369056,\n",
              "       1.85958549])"
            ]
          },
          "execution_count": 10,
          "metadata": {},
          "output_type": "execute_result"
        }
      ],
      "source": [
        "reg = ElasticNet().fit(X_train, y_train)\n",
        "predictions = reg.predict(X_test)\n",
        "predictions"
      ]
    },
    {
      "cell_type": "code",
      "execution_count": 11,
      "metadata": {},
      "outputs": [
        {
          "name": "stdout",
          "output_type": "stream",
          "text": [
            "Linear Regression RMSE: 0.7455813830127763\n",
            "Random Forest RMSE: 0.503846627360404\n"
          ]
        }
      ],
      "source": [
        "# Split the dataset into training and testing sets\n",
        "X_train, X_test, y_train, y_test = train_test_split(df.drop('target', axis=1), df['target'], test_size=0.2, random_state=42)\n",
        "\n",
        "# Train the Linear Regression model\n",
        "linear_reg = LinearRegression()\n",
        "linear_reg.fit(X_train, y_train)\n",
        "\n",
        "# Train the Random Forest model\n",
        "random_forest = RandomForestRegressor()\n",
        "random_forest.fit(X_train, y_train)\n",
        "\n",
        "# Evaluate the models\n",
        "linear_reg_rmse = mean_squared_error(y_test, linear_reg.predict(X_test), squared=False)\n",
        "random_forest_rmse = mean_squared_error(y_test, random_forest.predict(X_test), squared=False)\n",
        "\n",
        "print(\"Linear Regression RMSE:\", linear_reg_rmse)\n",
        "print(\"Random Forest RMSE:\", random_forest_rmse)\n",
        "\n",
        "# Make predictions using the trained models\n",
        "linear_reg_predictions = linear_reg.predict(X_test)\n",
        "random_forest_predictions = random_forest.predict(X_test)"
      ]
    },
    {
      "cell_type": "code",
      "execution_count": 12,
      "metadata": {},
      "outputs": [
        {
          "name": "stdout",
          "output_type": "stream",
          "text": [
            "[0.52322729 0.05396732 0.04352921 0.02930985 0.03104839 0.13782552\n",
            " 0.0906751  0.09041731]\n",
            "[ 0.85438303  0.12254624 -0.29441013  0.33925949 -0.00230772 -0.0408291\n",
            " -0.89692888 -0.86984178]\n"
          ]
        },
        {
          "data": {
            "application/vnd.plotly.v1+json": {
              "config": {
                "plotlyServerURL": "https://plot.ly"
              },
              "data": [
                {
                  "marker": {
                    "color": "blue"
                  },
                  "name": "Coefficients importance",
                  "orientation": "v",
                  "type": "bar",
                  "x": [
                    "MedInc",
                    "HouseAge",
                    "AveRooms",
                    "AveBedrms",
                    "Population",
                    "AveOccup",
                    "Latitude",
                    "Longitude",
                    "target"
                  ],
                  "y": [
                    0.8543830309268552,
                    0.12254623807840556,
                    -0.2944101344732992,
                    0.3392594905944842,
                    -0.0023077231458297023,
                    -0.04082910308508741,
                    -0.8969288766386561,
                    -0.8698417752417127
                  ]
                }
              ],
              "layout": {
                "template": {
                  "data": {
                    "bar": [
                      {
                        "error_x": {
                          "color": "#2a3f5f"
                        },
                        "error_y": {
                          "color": "#2a3f5f"
                        },
                        "marker": {
                          "line": {
                            "color": "#E5ECF6",
                            "width": 0.5
                          },
                          "pattern": {
                            "fillmode": "overlay",
                            "size": 10,
                            "solidity": 0.2
                          }
                        },
                        "type": "bar"
                      }
                    ],
                    "barpolar": [
                      {
                        "marker": {
                          "line": {
                            "color": "#E5ECF6",
                            "width": 0.5
                          },
                          "pattern": {
                            "fillmode": "overlay",
                            "size": 10,
                            "solidity": 0.2
                          }
                        },
                        "type": "barpolar"
                      }
                    ],
                    "carpet": [
                      {
                        "aaxis": {
                          "endlinecolor": "#2a3f5f",
                          "gridcolor": "white",
                          "linecolor": "white",
                          "minorgridcolor": "white",
                          "startlinecolor": "#2a3f5f"
                        },
                        "baxis": {
                          "endlinecolor": "#2a3f5f",
                          "gridcolor": "white",
                          "linecolor": "white",
                          "minorgridcolor": "white",
                          "startlinecolor": "#2a3f5f"
                        },
                        "type": "carpet"
                      }
                    ],
                    "choropleth": [
                      {
                        "colorbar": {
                          "outlinewidth": 0,
                          "ticks": ""
                        },
                        "type": "choropleth"
                      }
                    ],
                    "contour": [
                      {
                        "colorbar": {
                          "outlinewidth": 0,
                          "ticks": ""
                        },
                        "colorscale": [
                          [
                            0,
                            "#0d0887"
                          ],
                          [
                            0.1111111111111111,
                            "#46039f"
                          ],
                          [
                            0.2222222222222222,
                            "#7201a8"
                          ],
                          [
                            0.3333333333333333,
                            "#9c179e"
                          ],
                          [
                            0.4444444444444444,
                            "#bd3786"
                          ],
                          [
                            0.5555555555555556,
                            "#d8576b"
                          ],
                          [
                            0.6666666666666666,
                            "#ed7953"
                          ],
                          [
                            0.7777777777777778,
                            "#fb9f3a"
                          ],
                          [
                            0.8888888888888888,
                            "#fdca26"
                          ],
                          [
                            1,
                            "#f0f921"
                          ]
                        ],
                        "type": "contour"
                      }
                    ],
                    "contourcarpet": [
                      {
                        "colorbar": {
                          "outlinewidth": 0,
                          "ticks": ""
                        },
                        "type": "contourcarpet"
                      }
                    ],
                    "heatmap": [
                      {
                        "colorbar": {
                          "outlinewidth": 0,
                          "ticks": ""
                        },
                        "colorscale": [
                          [
                            0,
                            "#0d0887"
                          ],
                          [
                            0.1111111111111111,
                            "#46039f"
                          ],
                          [
                            0.2222222222222222,
                            "#7201a8"
                          ],
                          [
                            0.3333333333333333,
                            "#9c179e"
                          ],
                          [
                            0.4444444444444444,
                            "#bd3786"
                          ],
                          [
                            0.5555555555555556,
                            "#d8576b"
                          ],
                          [
                            0.6666666666666666,
                            "#ed7953"
                          ],
                          [
                            0.7777777777777778,
                            "#fb9f3a"
                          ],
                          [
                            0.8888888888888888,
                            "#fdca26"
                          ],
                          [
                            1,
                            "#f0f921"
                          ]
                        ],
                        "type": "heatmap"
                      }
                    ],
                    "heatmapgl": [
                      {
                        "colorbar": {
                          "outlinewidth": 0,
                          "ticks": ""
                        },
                        "colorscale": [
                          [
                            0,
                            "#0d0887"
                          ],
                          [
                            0.1111111111111111,
                            "#46039f"
                          ],
                          [
                            0.2222222222222222,
                            "#7201a8"
                          ],
                          [
                            0.3333333333333333,
                            "#9c179e"
                          ],
                          [
                            0.4444444444444444,
                            "#bd3786"
                          ],
                          [
                            0.5555555555555556,
                            "#d8576b"
                          ],
                          [
                            0.6666666666666666,
                            "#ed7953"
                          ],
                          [
                            0.7777777777777778,
                            "#fb9f3a"
                          ],
                          [
                            0.8888888888888888,
                            "#fdca26"
                          ],
                          [
                            1,
                            "#f0f921"
                          ]
                        ],
                        "type": "heatmapgl"
                      }
                    ],
                    "histogram": [
                      {
                        "marker": {
                          "pattern": {
                            "fillmode": "overlay",
                            "size": 10,
                            "solidity": 0.2
                          }
                        },
                        "type": "histogram"
                      }
                    ],
                    "histogram2d": [
                      {
                        "colorbar": {
                          "outlinewidth": 0,
                          "ticks": ""
                        },
                        "colorscale": [
                          [
                            0,
                            "#0d0887"
                          ],
                          [
                            0.1111111111111111,
                            "#46039f"
                          ],
                          [
                            0.2222222222222222,
                            "#7201a8"
                          ],
                          [
                            0.3333333333333333,
                            "#9c179e"
                          ],
                          [
                            0.4444444444444444,
                            "#bd3786"
                          ],
                          [
                            0.5555555555555556,
                            "#d8576b"
                          ],
                          [
                            0.6666666666666666,
                            "#ed7953"
                          ],
                          [
                            0.7777777777777778,
                            "#fb9f3a"
                          ],
                          [
                            0.8888888888888888,
                            "#fdca26"
                          ],
                          [
                            1,
                            "#f0f921"
                          ]
                        ],
                        "type": "histogram2d"
                      }
                    ],
                    "histogram2dcontour": [
                      {
                        "colorbar": {
                          "outlinewidth": 0,
                          "ticks": ""
                        },
                        "colorscale": [
                          [
                            0,
                            "#0d0887"
                          ],
                          [
                            0.1111111111111111,
                            "#46039f"
                          ],
                          [
                            0.2222222222222222,
                            "#7201a8"
                          ],
                          [
                            0.3333333333333333,
                            "#9c179e"
                          ],
                          [
                            0.4444444444444444,
                            "#bd3786"
                          ],
                          [
                            0.5555555555555556,
                            "#d8576b"
                          ],
                          [
                            0.6666666666666666,
                            "#ed7953"
                          ],
                          [
                            0.7777777777777778,
                            "#fb9f3a"
                          ],
                          [
                            0.8888888888888888,
                            "#fdca26"
                          ],
                          [
                            1,
                            "#f0f921"
                          ]
                        ],
                        "type": "histogram2dcontour"
                      }
                    ],
                    "mesh3d": [
                      {
                        "colorbar": {
                          "outlinewidth": 0,
                          "ticks": ""
                        },
                        "type": "mesh3d"
                      }
                    ],
                    "parcoords": [
                      {
                        "line": {
                          "colorbar": {
                            "outlinewidth": 0,
                            "ticks": ""
                          }
                        },
                        "type": "parcoords"
                      }
                    ],
                    "pie": [
                      {
                        "automargin": true,
                        "type": "pie"
                      }
                    ],
                    "scatter": [
                      {
                        "fillpattern": {
                          "fillmode": "overlay",
                          "size": 10,
                          "solidity": 0.2
                        },
                        "type": "scatter"
                      }
                    ],
                    "scatter3d": [
                      {
                        "line": {
                          "colorbar": {
                            "outlinewidth": 0,
                            "ticks": ""
                          }
                        },
                        "marker": {
                          "colorbar": {
                            "outlinewidth": 0,
                            "ticks": ""
                          }
                        },
                        "type": "scatter3d"
                      }
                    ],
                    "scattercarpet": [
                      {
                        "marker": {
                          "colorbar": {
                            "outlinewidth": 0,
                            "ticks": ""
                          }
                        },
                        "type": "scattercarpet"
                      }
                    ],
                    "scattergeo": [
                      {
                        "marker": {
                          "colorbar": {
                            "outlinewidth": 0,
                            "ticks": ""
                          }
                        },
                        "type": "scattergeo"
                      }
                    ],
                    "scattergl": [
                      {
                        "marker": {
                          "colorbar": {
                            "outlinewidth": 0,
                            "ticks": ""
                          }
                        },
                        "type": "scattergl"
                      }
                    ],
                    "scattermapbox": [
                      {
                        "marker": {
                          "colorbar": {
                            "outlinewidth": 0,
                            "ticks": ""
                          }
                        },
                        "type": "scattermapbox"
                      }
                    ],
                    "scatterpolar": [
                      {
                        "marker": {
                          "colorbar": {
                            "outlinewidth": 0,
                            "ticks": ""
                          }
                        },
                        "type": "scatterpolar"
                      }
                    ],
                    "scatterpolargl": [
                      {
                        "marker": {
                          "colorbar": {
                            "outlinewidth": 0,
                            "ticks": ""
                          }
                        },
                        "type": "scatterpolargl"
                      }
                    ],
                    "scatterternary": [
                      {
                        "marker": {
                          "colorbar": {
                            "outlinewidth": 0,
                            "ticks": ""
                          }
                        },
                        "type": "scatterternary"
                      }
                    ],
                    "surface": [
                      {
                        "colorbar": {
                          "outlinewidth": 0,
                          "ticks": ""
                        },
                        "colorscale": [
                          [
                            0,
                            "#0d0887"
                          ],
                          [
                            0.1111111111111111,
                            "#46039f"
                          ],
                          [
                            0.2222222222222222,
                            "#7201a8"
                          ],
                          [
                            0.3333333333333333,
                            "#9c179e"
                          ],
                          [
                            0.4444444444444444,
                            "#bd3786"
                          ],
                          [
                            0.5555555555555556,
                            "#d8576b"
                          ],
                          [
                            0.6666666666666666,
                            "#ed7953"
                          ],
                          [
                            0.7777777777777778,
                            "#fb9f3a"
                          ],
                          [
                            0.8888888888888888,
                            "#fdca26"
                          ],
                          [
                            1,
                            "#f0f921"
                          ]
                        ],
                        "type": "surface"
                      }
                    ],
                    "table": [
                      {
                        "cells": {
                          "fill": {
                            "color": "#EBF0F8"
                          },
                          "line": {
                            "color": "white"
                          }
                        },
                        "header": {
                          "fill": {
                            "color": "#C8D4E3"
                          },
                          "line": {
                            "color": "white"
                          }
                        },
                        "type": "table"
                      }
                    ]
                  },
                  "layout": {
                    "annotationdefaults": {
                      "arrowcolor": "#2a3f5f",
                      "arrowhead": 0,
                      "arrowwidth": 1
                    },
                    "autotypenumbers": "strict",
                    "coloraxis": {
                      "colorbar": {
                        "outlinewidth": 0,
                        "ticks": ""
                      }
                    },
                    "colorscale": {
                      "diverging": [
                        [
                          0,
                          "#8e0152"
                        ],
                        [
                          0.1,
                          "#c51b7d"
                        ],
                        [
                          0.2,
                          "#de77ae"
                        ],
                        [
                          0.3,
                          "#f1b6da"
                        ],
                        [
                          0.4,
                          "#fde0ef"
                        ],
                        [
                          0.5,
                          "#f7f7f7"
                        ],
                        [
                          0.6,
                          "#e6f5d0"
                        ],
                        [
                          0.7,
                          "#b8e186"
                        ],
                        [
                          0.8,
                          "#7fbc41"
                        ],
                        [
                          0.9,
                          "#4d9221"
                        ],
                        [
                          1,
                          "#276419"
                        ]
                      ],
                      "sequential": [
                        [
                          0,
                          "#0d0887"
                        ],
                        [
                          0.1111111111111111,
                          "#46039f"
                        ],
                        [
                          0.2222222222222222,
                          "#7201a8"
                        ],
                        [
                          0.3333333333333333,
                          "#9c179e"
                        ],
                        [
                          0.4444444444444444,
                          "#bd3786"
                        ],
                        [
                          0.5555555555555556,
                          "#d8576b"
                        ],
                        [
                          0.6666666666666666,
                          "#ed7953"
                        ],
                        [
                          0.7777777777777778,
                          "#fb9f3a"
                        ],
                        [
                          0.8888888888888888,
                          "#fdca26"
                        ],
                        [
                          1,
                          "#f0f921"
                        ]
                      ],
                      "sequentialminus": [
                        [
                          0,
                          "#0d0887"
                        ],
                        [
                          0.1111111111111111,
                          "#46039f"
                        ],
                        [
                          0.2222222222222222,
                          "#7201a8"
                        ],
                        [
                          0.3333333333333333,
                          "#9c179e"
                        ],
                        [
                          0.4444444444444444,
                          "#bd3786"
                        ],
                        [
                          0.5555555555555556,
                          "#d8576b"
                        ],
                        [
                          0.6666666666666666,
                          "#ed7953"
                        ],
                        [
                          0.7777777777777778,
                          "#fb9f3a"
                        ],
                        [
                          0.8888888888888888,
                          "#fdca26"
                        ],
                        [
                          1,
                          "#f0f921"
                        ]
                      ]
                    },
                    "colorway": [
                      "#636efa",
                      "#EF553B",
                      "#00cc96",
                      "#ab63fa",
                      "#FFA15A",
                      "#19d3f3",
                      "#FF6692",
                      "#B6E880",
                      "#FF97FF",
                      "#FECB52"
                    ],
                    "font": {
                      "color": "#2a3f5f"
                    },
                    "geo": {
                      "bgcolor": "white",
                      "lakecolor": "white",
                      "landcolor": "#E5ECF6",
                      "showlakes": true,
                      "showland": true,
                      "subunitcolor": "white"
                    },
                    "hoverlabel": {
                      "align": "left"
                    },
                    "hovermode": "closest",
                    "mapbox": {
                      "style": "light"
                    },
                    "paper_bgcolor": "white",
                    "plot_bgcolor": "#E5ECF6",
                    "polar": {
                      "angularaxis": {
                        "gridcolor": "white",
                        "linecolor": "white",
                        "ticks": ""
                      },
                      "bgcolor": "#E5ECF6",
                      "radialaxis": {
                        "gridcolor": "white",
                        "linecolor": "white",
                        "ticks": ""
                      }
                    },
                    "scene": {
                      "xaxis": {
                        "backgroundcolor": "#E5ECF6",
                        "gridcolor": "white",
                        "gridwidth": 2,
                        "linecolor": "white",
                        "showbackground": true,
                        "ticks": "",
                        "zerolinecolor": "white"
                      },
                      "yaxis": {
                        "backgroundcolor": "#E5ECF6",
                        "gridcolor": "white",
                        "gridwidth": 2,
                        "linecolor": "white",
                        "showbackground": true,
                        "ticks": "",
                        "zerolinecolor": "white"
                      },
                      "zaxis": {
                        "backgroundcolor": "#E5ECF6",
                        "gridcolor": "white",
                        "gridwidth": 2,
                        "linecolor": "white",
                        "showbackground": true,
                        "ticks": "",
                        "zerolinecolor": "white"
                      }
                    },
                    "shapedefaults": {
                      "line": {
                        "color": "#2a3f5f"
                      }
                    },
                    "ternary": {
                      "aaxis": {
                        "gridcolor": "white",
                        "linecolor": "white",
                        "ticks": ""
                      },
                      "baxis": {
                        "gridcolor": "white",
                        "linecolor": "white",
                        "ticks": ""
                      },
                      "bgcolor": "#E5ECF6",
                      "caxis": {
                        "gridcolor": "white",
                        "linecolor": "white",
                        "ticks": ""
                      }
                    },
                    "title": {
                      "x": 0.05
                    },
                    "xaxis": {
                      "automargin": true,
                      "gridcolor": "white",
                      "linecolor": "white",
                      "ticks": "",
                      "title": {
                        "standoff": 15
                      },
                      "zerolinecolor": "white",
                      "zerolinewidth": 2
                    },
                    "yaxis": {
                      "automargin": true,
                      "gridcolor": "white",
                      "linecolor": "white",
                      "ticks": "",
                      "title": {
                        "standoff": 15
                      },
                      "zerolinecolor": "white",
                      "zerolinewidth": 2
                    }
                  }
                },
                "title": {
                  "text": "Linear Regression"
                },
                "xaxis": {
                  "title": {
                    "text": "Coeficients"
                  }
                }
              }
            }
          },
          "metadata": {},
          "output_type": "display_data"
        },
        {
          "data": {
            "application/vnd.plotly.v1+json": {
              "config": {
                "plotlyServerURL": "https://plot.ly"
              },
              "data": [
                {
                  "marker": {
                    "color": "red"
                  },
                  "name": "Coefficients importance",
                  "orientation": "v",
                  "type": "bar",
                  "x": [
                    "MedInc",
                    "HouseAge",
                    "AveRooms",
                    "AveBedrms",
                    "Population",
                    "AveOccup",
                    "Latitude",
                    "Longitude",
                    "target"
                  ],
                  "y": [
                    0.5232272946703495,
                    0.05396732496074315,
                    0.04352920516982369,
                    0.029309845586205554,
                    0.031048388286532728,
                    0.13782552442936613,
                    0.09067510491473807,
                    0.09041731198224127
                  ]
                }
              ],
              "layout": {
                "template": {
                  "data": {
                    "bar": [
                      {
                        "error_x": {
                          "color": "#2a3f5f"
                        },
                        "error_y": {
                          "color": "#2a3f5f"
                        },
                        "marker": {
                          "line": {
                            "color": "#E5ECF6",
                            "width": 0.5
                          },
                          "pattern": {
                            "fillmode": "overlay",
                            "size": 10,
                            "solidity": 0.2
                          }
                        },
                        "type": "bar"
                      }
                    ],
                    "barpolar": [
                      {
                        "marker": {
                          "line": {
                            "color": "#E5ECF6",
                            "width": 0.5
                          },
                          "pattern": {
                            "fillmode": "overlay",
                            "size": 10,
                            "solidity": 0.2
                          }
                        },
                        "type": "barpolar"
                      }
                    ],
                    "carpet": [
                      {
                        "aaxis": {
                          "endlinecolor": "#2a3f5f",
                          "gridcolor": "white",
                          "linecolor": "white",
                          "minorgridcolor": "white",
                          "startlinecolor": "#2a3f5f"
                        },
                        "baxis": {
                          "endlinecolor": "#2a3f5f",
                          "gridcolor": "white",
                          "linecolor": "white",
                          "minorgridcolor": "white",
                          "startlinecolor": "#2a3f5f"
                        },
                        "type": "carpet"
                      }
                    ],
                    "choropleth": [
                      {
                        "colorbar": {
                          "outlinewidth": 0,
                          "ticks": ""
                        },
                        "type": "choropleth"
                      }
                    ],
                    "contour": [
                      {
                        "colorbar": {
                          "outlinewidth": 0,
                          "ticks": ""
                        },
                        "colorscale": [
                          [
                            0,
                            "#0d0887"
                          ],
                          [
                            0.1111111111111111,
                            "#46039f"
                          ],
                          [
                            0.2222222222222222,
                            "#7201a8"
                          ],
                          [
                            0.3333333333333333,
                            "#9c179e"
                          ],
                          [
                            0.4444444444444444,
                            "#bd3786"
                          ],
                          [
                            0.5555555555555556,
                            "#d8576b"
                          ],
                          [
                            0.6666666666666666,
                            "#ed7953"
                          ],
                          [
                            0.7777777777777778,
                            "#fb9f3a"
                          ],
                          [
                            0.8888888888888888,
                            "#fdca26"
                          ],
                          [
                            1,
                            "#f0f921"
                          ]
                        ],
                        "type": "contour"
                      }
                    ],
                    "contourcarpet": [
                      {
                        "colorbar": {
                          "outlinewidth": 0,
                          "ticks": ""
                        },
                        "type": "contourcarpet"
                      }
                    ],
                    "heatmap": [
                      {
                        "colorbar": {
                          "outlinewidth": 0,
                          "ticks": ""
                        },
                        "colorscale": [
                          [
                            0,
                            "#0d0887"
                          ],
                          [
                            0.1111111111111111,
                            "#46039f"
                          ],
                          [
                            0.2222222222222222,
                            "#7201a8"
                          ],
                          [
                            0.3333333333333333,
                            "#9c179e"
                          ],
                          [
                            0.4444444444444444,
                            "#bd3786"
                          ],
                          [
                            0.5555555555555556,
                            "#d8576b"
                          ],
                          [
                            0.6666666666666666,
                            "#ed7953"
                          ],
                          [
                            0.7777777777777778,
                            "#fb9f3a"
                          ],
                          [
                            0.8888888888888888,
                            "#fdca26"
                          ],
                          [
                            1,
                            "#f0f921"
                          ]
                        ],
                        "type": "heatmap"
                      }
                    ],
                    "heatmapgl": [
                      {
                        "colorbar": {
                          "outlinewidth": 0,
                          "ticks": ""
                        },
                        "colorscale": [
                          [
                            0,
                            "#0d0887"
                          ],
                          [
                            0.1111111111111111,
                            "#46039f"
                          ],
                          [
                            0.2222222222222222,
                            "#7201a8"
                          ],
                          [
                            0.3333333333333333,
                            "#9c179e"
                          ],
                          [
                            0.4444444444444444,
                            "#bd3786"
                          ],
                          [
                            0.5555555555555556,
                            "#d8576b"
                          ],
                          [
                            0.6666666666666666,
                            "#ed7953"
                          ],
                          [
                            0.7777777777777778,
                            "#fb9f3a"
                          ],
                          [
                            0.8888888888888888,
                            "#fdca26"
                          ],
                          [
                            1,
                            "#f0f921"
                          ]
                        ],
                        "type": "heatmapgl"
                      }
                    ],
                    "histogram": [
                      {
                        "marker": {
                          "pattern": {
                            "fillmode": "overlay",
                            "size": 10,
                            "solidity": 0.2
                          }
                        },
                        "type": "histogram"
                      }
                    ],
                    "histogram2d": [
                      {
                        "colorbar": {
                          "outlinewidth": 0,
                          "ticks": ""
                        },
                        "colorscale": [
                          [
                            0,
                            "#0d0887"
                          ],
                          [
                            0.1111111111111111,
                            "#46039f"
                          ],
                          [
                            0.2222222222222222,
                            "#7201a8"
                          ],
                          [
                            0.3333333333333333,
                            "#9c179e"
                          ],
                          [
                            0.4444444444444444,
                            "#bd3786"
                          ],
                          [
                            0.5555555555555556,
                            "#d8576b"
                          ],
                          [
                            0.6666666666666666,
                            "#ed7953"
                          ],
                          [
                            0.7777777777777778,
                            "#fb9f3a"
                          ],
                          [
                            0.8888888888888888,
                            "#fdca26"
                          ],
                          [
                            1,
                            "#f0f921"
                          ]
                        ],
                        "type": "histogram2d"
                      }
                    ],
                    "histogram2dcontour": [
                      {
                        "colorbar": {
                          "outlinewidth": 0,
                          "ticks": ""
                        },
                        "colorscale": [
                          [
                            0,
                            "#0d0887"
                          ],
                          [
                            0.1111111111111111,
                            "#46039f"
                          ],
                          [
                            0.2222222222222222,
                            "#7201a8"
                          ],
                          [
                            0.3333333333333333,
                            "#9c179e"
                          ],
                          [
                            0.4444444444444444,
                            "#bd3786"
                          ],
                          [
                            0.5555555555555556,
                            "#d8576b"
                          ],
                          [
                            0.6666666666666666,
                            "#ed7953"
                          ],
                          [
                            0.7777777777777778,
                            "#fb9f3a"
                          ],
                          [
                            0.8888888888888888,
                            "#fdca26"
                          ],
                          [
                            1,
                            "#f0f921"
                          ]
                        ],
                        "type": "histogram2dcontour"
                      }
                    ],
                    "mesh3d": [
                      {
                        "colorbar": {
                          "outlinewidth": 0,
                          "ticks": ""
                        },
                        "type": "mesh3d"
                      }
                    ],
                    "parcoords": [
                      {
                        "line": {
                          "colorbar": {
                            "outlinewidth": 0,
                            "ticks": ""
                          }
                        },
                        "type": "parcoords"
                      }
                    ],
                    "pie": [
                      {
                        "automargin": true,
                        "type": "pie"
                      }
                    ],
                    "scatter": [
                      {
                        "fillpattern": {
                          "fillmode": "overlay",
                          "size": 10,
                          "solidity": 0.2
                        },
                        "type": "scatter"
                      }
                    ],
                    "scatter3d": [
                      {
                        "line": {
                          "colorbar": {
                            "outlinewidth": 0,
                            "ticks": ""
                          }
                        },
                        "marker": {
                          "colorbar": {
                            "outlinewidth": 0,
                            "ticks": ""
                          }
                        },
                        "type": "scatter3d"
                      }
                    ],
                    "scattercarpet": [
                      {
                        "marker": {
                          "colorbar": {
                            "outlinewidth": 0,
                            "ticks": ""
                          }
                        },
                        "type": "scattercarpet"
                      }
                    ],
                    "scattergeo": [
                      {
                        "marker": {
                          "colorbar": {
                            "outlinewidth": 0,
                            "ticks": ""
                          }
                        },
                        "type": "scattergeo"
                      }
                    ],
                    "scattergl": [
                      {
                        "marker": {
                          "colorbar": {
                            "outlinewidth": 0,
                            "ticks": ""
                          }
                        },
                        "type": "scattergl"
                      }
                    ],
                    "scattermapbox": [
                      {
                        "marker": {
                          "colorbar": {
                            "outlinewidth": 0,
                            "ticks": ""
                          }
                        },
                        "type": "scattermapbox"
                      }
                    ],
                    "scatterpolar": [
                      {
                        "marker": {
                          "colorbar": {
                            "outlinewidth": 0,
                            "ticks": ""
                          }
                        },
                        "type": "scatterpolar"
                      }
                    ],
                    "scatterpolargl": [
                      {
                        "marker": {
                          "colorbar": {
                            "outlinewidth": 0,
                            "ticks": ""
                          }
                        },
                        "type": "scatterpolargl"
                      }
                    ],
                    "scatterternary": [
                      {
                        "marker": {
                          "colorbar": {
                            "outlinewidth": 0,
                            "ticks": ""
                          }
                        },
                        "type": "scatterternary"
                      }
                    ],
                    "surface": [
                      {
                        "colorbar": {
                          "outlinewidth": 0,
                          "ticks": ""
                        },
                        "colorscale": [
                          [
                            0,
                            "#0d0887"
                          ],
                          [
                            0.1111111111111111,
                            "#46039f"
                          ],
                          [
                            0.2222222222222222,
                            "#7201a8"
                          ],
                          [
                            0.3333333333333333,
                            "#9c179e"
                          ],
                          [
                            0.4444444444444444,
                            "#bd3786"
                          ],
                          [
                            0.5555555555555556,
                            "#d8576b"
                          ],
                          [
                            0.6666666666666666,
                            "#ed7953"
                          ],
                          [
                            0.7777777777777778,
                            "#fb9f3a"
                          ],
                          [
                            0.8888888888888888,
                            "#fdca26"
                          ],
                          [
                            1,
                            "#f0f921"
                          ]
                        ],
                        "type": "surface"
                      }
                    ],
                    "table": [
                      {
                        "cells": {
                          "fill": {
                            "color": "#EBF0F8"
                          },
                          "line": {
                            "color": "white"
                          }
                        },
                        "header": {
                          "fill": {
                            "color": "#C8D4E3"
                          },
                          "line": {
                            "color": "white"
                          }
                        },
                        "type": "table"
                      }
                    ]
                  },
                  "layout": {
                    "annotationdefaults": {
                      "arrowcolor": "#2a3f5f",
                      "arrowhead": 0,
                      "arrowwidth": 1
                    },
                    "autotypenumbers": "strict",
                    "coloraxis": {
                      "colorbar": {
                        "outlinewidth": 0,
                        "ticks": ""
                      }
                    },
                    "colorscale": {
                      "diverging": [
                        [
                          0,
                          "#8e0152"
                        ],
                        [
                          0.1,
                          "#c51b7d"
                        ],
                        [
                          0.2,
                          "#de77ae"
                        ],
                        [
                          0.3,
                          "#f1b6da"
                        ],
                        [
                          0.4,
                          "#fde0ef"
                        ],
                        [
                          0.5,
                          "#f7f7f7"
                        ],
                        [
                          0.6,
                          "#e6f5d0"
                        ],
                        [
                          0.7,
                          "#b8e186"
                        ],
                        [
                          0.8,
                          "#7fbc41"
                        ],
                        [
                          0.9,
                          "#4d9221"
                        ],
                        [
                          1,
                          "#276419"
                        ]
                      ],
                      "sequential": [
                        [
                          0,
                          "#0d0887"
                        ],
                        [
                          0.1111111111111111,
                          "#46039f"
                        ],
                        [
                          0.2222222222222222,
                          "#7201a8"
                        ],
                        [
                          0.3333333333333333,
                          "#9c179e"
                        ],
                        [
                          0.4444444444444444,
                          "#bd3786"
                        ],
                        [
                          0.5555555555555556,
                          "#d8576b"
                        ],
                        [
                          0.6666666666666666,
                          "#ed7953"
                        ],
                        [
                          0.7777777777777778,
                          "#fb9f3a"
                        ],
                        [
                          0.8888888888888888,
                          "#fdca26"
                        ],
                        [
                          1,
                          "#f0f921"
                        ]
                      ],
                      "sequentialminus": [
                        [
                          0,
                          "#0d0887"
                        ],
                        [
                          0.1111111111111111,
                          "#46039f"
                        ],
                        [
                          0.2222222222222222,
                          "#7201a8"
                        ],
                        [
                          0.3333333333333333,
                          "#9c179e"
                        ],
                        [
                          0.4444444444444444,
                          "#bd3786"
                        ],
                        [
                          0.5555555555555556,
                          "#d8576b"
                        ],
                        [
                          0.6666666666666666,
                          "#ed7953"
                        ],
                        [
                          0.7777777777777778,
                          "#fb9f3a"
                        ],
                        [
                          0.8888888888888888,
                          "#fdca26"
                        ],
                        [
                          1,
                          "#f0f921"
                        ]
                      ]
                    },
                    "colorway": [
                      "#636efa",
                      "#EF553B",
                      "#00cc96",
                      "#ab63fa",
                      "#FFA15A",
                      "#19d3f3",
                      "#FF6692",
                      "#B6E880",
                      "#FF97FF",
                      "#FECB52"
                    ],
                    "font": {
                      "color": "#2a3f5f"
                    },
                    "geo": {
                      "bgcolor": "white",
                      "lakecolor": "white",
                      "landcolor": "#E5ECF6",
                      "showlakes": true,
                      "showland": true,
                      "subunitcolor": "white"
                    },
                    "hoverlabel": {
                      "align": "left"
                    },
                    "hovermode": "closest",
                    "mapbox": {
                      "style": "light"
                    },
                    "paper_bgcolor": "white",
                    "plot_bgcolor": "#E5ECF6",
                    "polar": {
                      "angularaxis": {
                        "gridcolor": "white",
                        "linecolor": "white",
                        "ticks": ""
                      },
                      "bgcolor": "#E5ECF6",
                      "radialaxis": {
                        "gridcolor": "white",
                        "linecolor": "white",
                        "ticks": ""
                      }
                    },
                    "scene": {
                      "xaxis": {
                        "backgroundcolor": "#E5ECF6",
                        "gridcolor": "white",
                        "gridwidth": 2,
                        "linecolor": "white",
                        "showbackground": true,
                        "ticks": "",
                        "zerolinecolor": "white"
                      },
                      "yaxis": {
                        "backgroundcolor": "#E5ECF6",
                        "gridcolor": "white",
                        "gridwidth": 2,
                        "linecolor": "white",
                        "showbackground": true,
                        "ticks": "",
                        "zerolinecolor": "white"
                      },
                      "zaxis": {
                        "backgroundcolor": "#E5ECF6",
                        "gridcolor": "white",
                        "gridwidth": 2,
                        "linecolor": "white",
                        "showbackground": true,
                        "ticks": "",
                        "zerolinecolor": "white"
                      }
                    },
                    "shapedefaults": {
                      "line": {
                        "color": "#2a3f5f"
                      }
                    },
                    "ternary": {
                      "aaxis": {
                        "gridcolor": "white",
                        "linecolor": "white",
                        "ticks": ""
                      },
                      "baxis": {
                        "gridcolor": "white",
                        "linecolor": "white",
                        "ticks": ""
                      },
                      "bgcolor": "#E5ECF6",
                      "caxis": {
                        "gridcolor": "white",
                        "linecolor": "white",
                        "ticks": ""
                      }
                    },
                    "title": {
                      "x": 0.05
                    },
                    "xaxis": {
                      "automargin": true,
                      "gridcolor": "white",
                      "linecolor": "white",
                      "ticks": "",
                      "title": {
                        "standoff": 15
                      },
                      "zerolinecolor": "white",
                      "zerolinewidth": 2
                    },
                    "yaxis": {
                      "automargin": true,
                      "gridcolor": "white",
                      "linecolor": "white",
                      "ticks": "",
                      "title": {
                        "standoff": 15
                      },
                      "zerolinecolor": "white",
                      "zerolinewidth": 2
                    }
                  }
                },
                "title": {
                  "text": "Random Forest"
                },
                "xaxis": {
                  "title": {
                    "text": "Coeficients"
                  }
                }
              }
            }
          },
          "metadata": {},
          "output_type": "display_data"
        }
      ],
      "source": [
        "lmc = lm.named_steps['lm'].coef_\n",
        "rfc = rf.named_steps['rf'].feature_importances_\n",
        "print(rfc)\n",
        "\n",
        "print(lmc)\n",
        "\n",
        "fig = go.Figure()\n",
        "\n",
        "fig.add_trace(go.Bar(\n",
        "    x = df.columns,\n",
        "    y = lmc,\n",
        "    name = \"Coefficients importance\",\n",
        "    marker_color = \"blue\",\n",
        "    orientation = \"v\"\n",
        "))\n",
        "\n",
        "fig.update_layout(title=\"Linear Regression\",xaxis_title=\"Coeficients\")\n",
        "\n",
        "fig.show()\n",
        "\n",
        "\n",
        "fig2 = go.Figure()\n",
        "\n",
        "fig2.add_trace(go.Bar(\n",
        "    x = df.columns,\n",
        "    y = rfc,\n",
        "    name = \"Coefficients importance\",\n",
        "    marker_color = \"red\",\n",
        "    orientation = \"v\"\n",
        "))\n",
        "\n",
        "fig2.update_layout(title=\"Random Forest\",xaxis_title=\"Coeficients\")"
      ]
    },
    {
      "cell_type": "code",
      "execution_count": 13,
      "metadata": {},
      "outputs": [
        {
          "name": "stdout",
          "output_type": "stream",
          "text": [
            "Mean squared error: 0.56\n",
            "Mean absolute error: 0.53\n",
            "Coefficient of determination: 0.58\n",
            "Mean squared error: 0.25\n",
            "Mean absolute error: 0.32\n",
            "Coefficient of determination: 0.81\n"
          ]
        },
        {
          "name": "stderr",
          "output_type": "stream",
          "text": [
            "/Users/mariaolivacalero/Library/Python/3.9/lib/python/site-packages/sklearn/base.py:458: UserWarning:\n",
            "\n",
            "X has feature names, but StandardScaler was fitted without feature names\n",
            "\n",
            "/Users/mariaolivacalero/Library/Python/3.9/lib/python/site-packages/sklearn/base.py:458: UserWarning:\n",
            "\n",
            "X has feature names, but StandardScaler was fitted without feature names\n",
            "\n"
          ]
        }
      ],
      "source": [
        "y_pred = lm.predict(X_test)\n",
        "\n",
        "print(\"Mean squared error: %.2f\" % mean_squared_error(y_test, y_pred))\n",
        "print(\"Mean absolute error: %.2f\" % mean_absolute_error(y_test, y_pred))\n",
        "print(\"Coefficient of determination: %.2f\" % r2_score(y_test, y_pred))\n",
        "\n",
        "y_pred = rf.predict(X_test)\n",
        "\n",
        "print(\"Mean squared error: %.2f\" % mean_squared_error(y_test, y_pred))\n",
        "print(\"Mean absolute error: %.2f\" % mean_absolute_error(y_test, y_pred))\n",
        "print(\"Coefficient of determination: %.2f\" % r2_score(y_test, y_pred))"
      ]
    },
    {
      "cell_type": "markdown",
      "metadata": {},
      "source": [
        "Según los errores de train y test, el mejor modelo es el Random Forest"
      ]
    },
    {
      "cell_type": "markdown",
      "metadata": {
        "id": "YhuImkegUE5a"
      },
      "source": [
        "## Ejercicio 3 (4 puntos):\n"
      ]
    },
    {
      "cell_type": "markdown",
      "metadata": {
        "id": "kUZlJzRKU1p0"
      },
      "source": [
        "*Consideremos* el dataset que contiene __The Most Streamed Spotify Songs 2023__ que se encuentra en el respositorio.\n",
        "\n",
        "Información de las variables:\n",
        "\n",
        "- track_name: Name of the song\n",
        "- artist(s)_name: Name of the artist(s) of the song\n",
        "- vartist_count: Number of artists contributing to the song\n",
        "- released_year: Year when the song was released\n",
        "- released_month: Month when the song was released\n",
        "- release_day: Day of the month when the song was released\n",
        "- in_spotify_playlists: Number of Spotify playlists the song is included in\n",
        "- in_spotify_charts: Presence and rank of the song on Spotify charts\n",
        "- streams: Total number of streams on Spotify\n",
        "- in_apple_playlists: Number of Apple Music playlists the song is included in\n",
        "- in_apple_charts: Presence and rank of the song on Apple Music charts\n",
        "- in_deezer_playlists: Number of Deezer playlists the song is included in\n",
        "- in_deezer_charts: Presence and rank of the song on Deezer charts\n",
        "- in_shazam_charts: Presence and rank of the song on Shazam charts\n",
        "- bpm: Beats per minute, a measure of song tempo\n",
        "- key: Key of the song\n",
        "- mode: Mode of the song (major or minor)\n",
        "- danceability_%: Percentage indicating how suitable the song is for dancing\n",
        "- valence_%: Positivity of the song's musical content\n",
        "- energy_%: Perceived energy level of the song\n",
        "- acousticness_%: Amount of acoustic sound in the song\n",
        "- instrumentalness_%: Amount of instrumental content in the song\n",
        "- liveness_%: Presence of live performance elements\n",
        "- speechiness_%: Amount of spoken words in the song\n",
        "\n",
        "Para las respuestas b, c, d, e, f y g es imperativo acompañarlas respuestas con una visualización.\n",
        "\n",
        "a) Lee el fichero en formato dataframe, aplica la función del ejercicio 2.b, elimina NAs y convierte a integer si fuera necesario. **(0.25 puntos)**\n",
        "\n",
        "b) ¿Cuántos artistas únicos hay? **(0.25 puntos)**\n",
        "\n",
        "c) ¿Cuál es la distribución de reproducciones? **(0.5 puntos)**\n",
        "\n",
        "d) ¿Existe una diferencia signitificativa en las reproducciones entre las canciones de un solo artista y las de más de uno? **(0.5 puntos)**\n",
        "\n",
        "e) ¿Cuáles son las propiedades de una canción que mejor correlan con el número de reproducciones de una canción? **(0.5 puntos)**\n",
        "\n",
        "f) ¿Cuáles son las variables que mejor predicen las canciones que están por encima el percentil 50? **(1 puntos)**\n",
        "\n",
        "*Nota: Crea una variable binaria (Hit/No Hit) en base a 3.c, crea una regresión logística y visualiza sus coeficientes.*\n",
        "\n",
        "g) Agrupa los 4 gráficos realizados en uno solo y haz una recomendación a un sello discográfico para producir un nuevo hit. **(1 puntos)**\n"
      ]
    },
    {
      "cell_type": "code",
      "execution_count": 14,
      "metadata": {
        "id": "nN73ExlTmNE_"
      },
      "outputs": [
        {
          "name": "stdout",
          "output_type": "stream",
          "text": [
            "this dataset has 953 rows and 24 columns\n",
            "coloumns are: Index(['track_name', 'artist(s)_name', 'artist_count', 'released_year',\n",
            "       'released_month', 'released_day', 'in_spotify_playlists',\n",
            "       'in_spotify_charts', 'streams', 'in_apple_playlists', 'in_apple_charts',\n",
            "       'in_deezer_playlists', 'in_deezer_charts', 'in_shazam_charts', 'bpm',\n",
            "       'key', 'mode', 'danceability_%', 'valence_%', 'energy_%',\n",
            "       'acousticness_%', 'instrumentalness_%', 'liveness_%', 'speechiness_%'],\n",
            "      dtype='object')\n",
            "track_name              object\n",
            "artist(s)_name          object\n",
            "artist_count             int64\n",
            "released_year            int64\n",
            "released_month           int64\n",
            "released_day             int64\n",
            "in_spotify_playlists     int64\n",
            "in_spotify_charts        int64\n",
            "streams                 object\n",
            "in_apple_playlists       int64\n",
            "in_apple_charts          int64\n",
            "in_deezer_playlists     object\n",
            "in_deezer_charts         int64\n",
            "in_shazam_charts        object\n",
            "bpm                      int64\n",
            "key                     object\n",
            "mode                    object\n",
            "danceability_%           int64\n",
            "valence_%                int64\n",
            "energy_%                 int64\n",
            "acousticness_%           int64\n",
            "instrumentalness_%       int64\n",
            "liveness_%               int64\n",
            "speechiness_%            int64\n",
            "dtype: object\n",
            "there are NAs in the dataset: track_name               0\n",
            "artist(s)_name           0\n",
            "artist_count             0\n",
            "released_year            0\n",
            "released_month           0\n",
            "released_day             0\n",
            "in_spotify_playlists     0\n",
            "in_spotify_charts        0\n",
            "streams                  0\n",
            "in_apple_playlists       0\n",
            "in_apple_charts          0\n",
            "in_deezer_playlists      0\n",
            "in_deezer_charts         0\n",
            "in_shazam_charts        50\n",
            "bpm                      0\n",
            "key                     95\n",
            "mode                     0\n",
            "danceability_%           0\n",
            "valence_%                0\n",
            "energy_%                 0\n",
            "acousticness_%           0\n",
            "instrumentalness_%       0\n",
            "liveness_%               0\n",
            "speechiness_%            0\n",
            "dtype: int64\n",
            "track_name               0\n",
            "artist(s)_name           0\n",
            "artist_count             0\n",
            "released_year            0\n",
            "released_month           0\n",
            "released_day             0\n",
            "in_spotify_playlists     0\n",
            "in_spotify_charts        0\n",
            "streams                  0\n",
            "in_apple_playlists       0\n",
            "in_apple_charts          0\n",
            "in_deezer_playlists      0\n",
            "in_deezer_charts         0\n",
            "in_shazam_charts        50\n",
            "bpm                      0\n",
            "key                     95\n",
            "mode                     0\n",
            "danceability_%           0\n",
            "valence_%                0\n",
            "energy_%                 0\n",
            "acousticness_%           0\n",
            "instrumentalness_%       0\n",
            "liveness_%               0\n",
            "speechiness_%            0\n",
            "dtype: int64\n",
            "       track_name artist(s)_name  artist_count  released_year  released_month  \\\n",
            "count         953            953    953.000000     953.000000      953.000000   \n",
            "unique        943            645           NaN            NaN             NaN   \n",
            "top      Daylight   Taylor Swift           NaN            NaN             NaN   \n",
            "freq            2             34           NaN            NaN             NaN   \n",
            "mean          NaN            NaN      1.556139    2018.238195        6.033578   \n",
            "std           NaN            NaN      0.893044      11.116218        3.566435   \n",
            "min           NaN            NaN      1.000000    1930.000000        1.000000   \n",
            "25%           NaN            NaN      1.000000    2020.000000        3.000000   \n",
            "50%           NaN            NaN      1.000000    2022.000000        6.000000   \n",
            "75%           NaN            NaN      2.000000    2022.000000        9.000000   \n",
            "max           NaN            NaN      8.000000    2023.000000       12.000000   \n",
            "\n",
            "        released_day  in_spotify_playlists  in_spotify_charts    streams  \\\n",
            "count     953.000000            953.000000         953.000000        953   \n",
            "unique           NaN                   NaN                NaN        949   \n",
            "top              NaN                   NaN                NaN  723894473   \n",
            "freq             NaN                   NaN                NaN          2   \n",
            "mean       13.930745           5200.124869          12.009444        NaN   \n",
            "std         9.201949           7897.608990          19.575992        NaN   \n",
            "min         1.000000             31.000000           0.000000        NaN   \n",
            "25%         6.000000            875.000000           0.000000        NaN   \n",
            "50%        13.000000           2224.000000           3.000000        NaN   \n",
            "75%        22.000000           5542.000000          16.000000        NaN   \n",
            "max        31.000000          52898.000000         147.000000        NaN   \n",
            "\n",
            "        in_apple_playlists  ...         bpm  key   mode danceability_%  \\\n",
            "count           953.000000  ...  953.000000  858    953      953.00000   \n",
            "unique                 NaN  ...         NaN   11      2            NaN   \n",
            "top                    NaN  ...         NaN   C#  Major            NaN   \n",
            "freq                   NaN  ...         NaN  120    550            NaN   \n",
            "mean             67.812172  ...  122.540399  NaN    NaN       66.96957   \n",
            "std              86.441493  ...   28.057802  NaN    NaN       14.63061   \n",
            "min               0.000000  ...   65.000000  NaN    NaN       23.00000   \n",
            "25%              13.000000  ...  100.000000  NaN    NaN       57.00000   \n",
            "50%              34.000000  ...  121.000000  NaN    NaN       69.00000   \n",
            "75%              88.000000  ...  140.000000  NaN    NaN       78.00000   \n",
            "max             672.000000  ...  206.000000  NaN    NaN       96.00000   \n",
            "\n",
            "         valence_%    energy_% acousticness_%  instrumentalness_%  liveness_%  \\\n",
            "count   953.000000  953.000000     953.000000          953.000000  953.000000   \n",
            "unique         NaN         NaN            NaN                 NaN         NaN   \n",
            "top            NaN         NaN            NaN                 NaN         NaN   \n",
            "freq           NaN         NaN            NaN                 NaN         NaN   \n",
            "mean     51.431270   64.279119      27.057712            1.581322   18.213012   \n",
            "std      23.480632   16.550526      25.996077            8.409800   13.711223   \n",
            "min       4.000000    9.000000       0.000000            0.000000    3.000000   \n",
            "25%      32.000000   53.000000       6.000000            0.000000   10.000000   \n",
            "50%      51.000000   66.000000      18.000000            0.000000   12.000000   \n",
            "75%      70.000000   77.000000      43.000000            0.000000   24.000000   \n",
            "max      97.000000   97.000000      97.000000           91.000000   97.000000   \n",
            "\n",
            "        speechiness_%  \n",
            "count      953.000000  \n",
            "unique            NaN  \n",
            "top               NaN  \n",
            "freq              NaN  \n",
            "mean        10.131165  \n",
            "std          9.912888  \n",
            "min          2.000000  \n",
            "25%          4.000000  \n",
            "50%          6.000000  \n",
            "75%         11.000000  \n",
            "max         64.000000  \n",
            "\n",
            "[11 rows x 24 columns]\n"
          ]
        }
      ],
      "source": [
        "df = pd.read_csv(\"spotify-2023.csv\",encoding=\"ISO-8859-1\")\n",
        "info(df)\n"
      ]
    },
    {
      "cell_type": "code",
      "execution_count": 15,
      "metadata": {},
      "outputs": [
        {
          "name": "stdout",
          "output_type": "stream",
          "text": [
            "this dataset has 953 rows and 24 columns\n",
            "coloumns are: Index(['track_name', 'artist(s)_name', 'artist_count', 'released_year',\n",
            "       'released_month', 'released_day', 'in_spotify_playlists',\n",
            "       'in_spotify_charts', 'streams', 'in_apple_playlists', 'in_apple_charts',\n",
            "       'in_deezer_playlists', 'in_deezer_charts', 'in_shazam_charts', 'bpm',\n",
            "       'key', 'mode', 'danceability_%', 'valence_%', 'energy_%',\n",
            "       'acousticness_%', 'instrumentalness_%', 'liveness_%', 'speechiness_%'],\n",
            "      dtype='object')\n",
            "track_name               object\n",
            "artist(s)_name           object\n",
            "artist_count              int64\n",
            "released_year             int64\n",
            "released_month            int64\n",
            "released_day              int64\n",
            "in_spotify_playlists      int64\n",
            "in_spotify_charts         int64\n",
            "streams                 float64\n",
            "in_apple_playlists        int64\n",
            "in_apple_charts           int64\n",
            "in_deezer_playlists      object\n",
            "in_deezer_charts          int64\n",
            "in_shazam_charts         object\n",
            "bpm                       int64\n",
            "key                      object\n",
            "mode                     object\n",
            "danceability_%            int64\n",
            "valence_%                 int64\n",
            "energy_%                  int64\n",
            "acousticness_%            int64\n",
            "instrumentalness_%        int64\n",
            "liveness_%                int64\n",
            "speechiness_%             int64\n",
            "dtype: object\n",
            "there are NAs in the dataset: track_name               0\n",
            "artist(s)_name           0\n",
            "artist_count             0\n",
            "released_year            0\n",
            "released_month           0\n",
            "released_day             0\n",
            "in_spotify_playlists     0\n",
            "in_spotify_charts        0\n",
            "streams                  1\n",
            "in_apple_playlists       0\n",
            "in_apple_charts          0\n",
            "in_deezer_playlists      0\n",
            "in_deezer_charts         0\n",
            "in_shazam_charts        50\n",
            "bpm                      0\n",
            "key                     95\n",
            "mode                     0\n",
            "danceability_%           0\n",
            "valence_%                0\n",
            "energy_%                 0\n",
            "acousticness_%           0\n",
            "instrumentalness_%       0\n",
            "liveness_%               0\n",
            "speechiness_%            0\n",
            "dtype: int64\n",
            "track_name               0\n",
            "artist(s)_name           0\n",
            "artist_count             0\n",
            "released_year            0\n",
            "released_month           0\n",
            "released_day             0\n",
            "in_spotify_playlists     0\n",
            "in_spotify_charts        0\n",
            "streams                  1\n",
            "in_apple_playlists       0\n",
            "in_apple_charts          0\n",
            "in_deezer_playlists      0\n",
            "in_deezer_charts         0\n",
            "in_shazam_charts        50\n",
            "bpm                      0\n",
            "key                     95\n",
            "mode                     0\n",
            "danceability_%           0\n",
            "valence_%                0\n",
            "energy_%                 0\n",
            "acousticness_%           0\n",
            "instrumentalness_%       0\n",
            "liveness_%               0\n",
            "speechiness_%            0\n",
            "dtype: int64\n",
            "       track_name artist(s)_name  artist_count  released_year  released_month  \\\n",
            "count         953            953    953.000000     953.000000      953.000000   \n",
            "unique        943            645           NaN            NaN             NaN   \n",
            "top      Daylight   Taylor Swift           NaN            NaN             NaN   \n",
            "freq            2             34           NaN            NaN             NaN   \n",
            "mean          NaN            NaN      1.556139    2018.238195        6.033578   \n",
            "std           NaN            NaN      0.893044      11.116218        3.566435   \n",
            "min           NaN            NaN      1.000000    1930.000000        1.000000   \n",
            "25%           NaN            NaN      1.000000    2020.000000        3.000000   \n",
            "50%           NaN            NaN      1.000000    2022.000000        6.000000   \n",
            "75%           NaN            NaN      2.000000    2022.000000        9.000000   \n",
            "max           NaN            NaN      8.000000    2023.000000       12.000000   \n",
            "\n",
            "        released_day  in_spotify_playlists  in_spotify_charts       streams  \\\n",
            "count     953.000000            953.000000         953.000000  9.520000e+02   \n",
            "unique           NaN                   NaN                NaN           NaN   \n",
            "top              NaN                   NaN                NaN           NaN   \n",
            "freq             NaN                   NaN                NaN           NaN   \n",
            "mean       13.930745           5200.124869          12.009444  5.141374e+08   \n",
            "std         9.201949           7897.608990          19.575992  5.668569e+08   \n",
            "min         1.000000             31.000000           0.000000  2.762000e+03   \n",
            "25%         6.000000            875.000000           0.000000  1.416362e+08   \n",
            "50%        13.000000           2224.000000           3.000000  2.905309e+08   \n",
            "75%        22.000000           5542.000000          16.000000  6.738690e+08   \n",
            "max        31.000000          52898.000000         147.000000  3.703895e+09   \n",
            "\n",
            "        in_apple_playlists  ...         bpm  key   mode danceability_%  \\\n",
            "count           953.000000  ...  953.000000  858    953      953.00000   \n",
            "unique                 NaN  ...         NaN   11      2            NaN   \n",
            "top                    NaN  ...         NaN   C#  Major            NaN   \n",
            "freq                   NaN  ...         NaN  120    550            NaN   \n",
            "mean             67.812172  ...  122.540399  NaN    NaN       66.96957   \n",
            "std              86.441493  ...   28.057802  NaN    NaN       14.63061   \n",
            "min               0.000000  ...   65.000000  NaN    NaN       23.00000   \n",
            "25%              13.000000  ...  100.000000  NaN    NaN       57.00000   \n",
            "50%              34.000000  ...  121.000000  NaN    NaN       69.00000   \n",
            "75%              88.000000  ...  140.000000  NaN    NaN       78.00000   \n",
            "max             672.000000  ...  206.000000  NaN    NaN       96.00000   \n",
            "\n",
            "         valence_%    energy_% acousticness_%  instrumentalness_%  liveness_%  \\\n",
            "count   953.000000  953.000000     953.000000          953.000000  953.000000   \n",
            "unique         NaN         NaN            NaN                 NaN         NaN   \n",
            "top            NaN         NaN            NaN                 NaN         NaN   \n",
            "freq           NaN         NaN            NaN                 NaN         NaN   \n",
            "mean     51.431270   64.279119      27.057712            1.581322   18.213012   \n",
            "std      23.480632   16.550526      25.996077            8.409800   13.711223   \n",
            "min       4.000000    9.000000       0.000000            0.000000    3.000000   \n",
            "25%      32.000000   53.000000       6.000000            0.000000   10.000000   \n",
            "50%      51.000000   66.000000      18.000000            0.000000   12.000000   \n",
            "75%      70.000000   77.000000      43.000000            0.000000   24.000000   \n",
            "max      97.000000   97.000000      97.000000           91.000000   97.000000   \n",
            "\n",
            "        speechiness_%  \n",
            "count      953.000000  \n",
            "unique            NaN  \n",
            "top               NaN  \n",
            "freq              NaN  \n",
            "mean        10.131165  \n",
            "std          9.912888  \n",
            "min          2.000000  \n",
            "25%          4.000000  \n",
            "50%          6.000000  \n",
            "75%         11.000000  \n",
            "max         64.000000  \n",
            "\n",
            "[11 rows x 24 columns]\n"
          ]
        }
      ],
      "source": [
        "df.dropna()\n",
        "df['streams'] = pd.to_numeric(df['streams'], errors='coerce')\n",
        "info(df)"
      ]
    },
    {
      "cell_type": "code",
      "execution_count": 16,
      "metadata": {},
      "outputs": [
        {
          "name": "stdout",
          "output_type": "stream",
          "text": [
            "{'chris rea', '', 'interworld', 'rhenzy feliz', 'm', 'king', 'lil yachty', 'dj yo!', 'abhijay sharma', 'mc caverinha', 'eladio carrion', 'ozuna', 'john scott trotter & his orchestra', 'project pat', 'toian', 'jessica darrow', 'ugly dray', 'keane', 'sampha', 'l7nnon', 'jordan fisher', 'bigbang', 'coolio', 'matuï¿½ï¿½', 'nile rodgers', 'rex orange county', 'emilia', 'sky rompiendo', 'stephanie beatriz', 'stromae', 'carolina gaitan', 'paulo londra', 'paul mccartney', \"ax'el\", 'mahalini', \"finneas o'connell\", 'stray kids', 'huilen toledo', 'the weeknd', 'rosalï¿½', 'nle choppa', 'charli xcx', 'raim laode', 'niall horan', 'arcane', 'dj escobar', 'giveon', 'muni long', 'vishal dadlani', 'natanael cano', 'zendaya', 'tate mcrae', 'newjeans', 'macklemore', 'tiago pzk', 'frank sinatra', 'mabel matiz', 'chris brown', 'zï¿½ï¿½ neto & crist', 'schï¿½ï¿½rze', 'supernova ent', 'alvaro diaz', 'gwen stefani', 'future', 'brray', 'shakira', 'bts', 'tv girl', 'junior h', 'bvga beatz', 'dj win', 'becky g', 'dimelo flow', 'maiara &', 'doja cat', 'the ronettes', 'kalush', 'colde', 'halsey', 'mc jhenny', 'mac demarco', 'lisa', 'aventura', 'wizkid', 'offset', 'labrinth', 'eric church', 'bing crosby', 'danny ocean', 'dj khaled', 'sog', 'ayparia', 'willow', 'coldplay', 'the rare occasions', 'lizzo', 'anuel aa', 'anggi marito', 'young miko', 'yoko ono', 'swedish house mafia', 'riton', 'ray dalton', 'the anxiety', 'grupo frontera', 'residente', 'adele', 'la pantera', 'perry como', 'mc tairon', 'sebastian yatra', 'sabrina carpenter', 'jessie reyez', 'fifa sound', 'libianca', 'mert demir', 'sam ryder', 'madonna', 'bad bunny', '347aidan', 'beyoncï¿', 'nightcrawlers', 'blanco', 'central cee', 'godzz__-', 'jason derulo', 'utku inc', 'de la ghetto', 'diane guerrero', 'polima westcoast', 'dj luian', 'mari fernandez', 'dennis', 'arcangel', 'kaifi khalil', 'jay rock', 'pharrell williams', 'kenia os', 'mahmood', 'amanda reifer', 'mr.kitty', 'eminem', '2pac', 'marï¿½ï¿½lia mendonï¿½ï¿½a', 'rauw alejandro', 'lil tjay', 'james arthur', 'olga merediz', 'dj chris no beat', 'semicenk', 'becky hill', 'the police', 'harry styles', 'a$ap rocky', 'colin hay', 'miggy dela rosa', 'selena g', 'daddy yankee', 'radiohead', 'olivia rodrigo', 'khalid', 'lauren spencer smith', \"shakin' stevens\", 'wiu', 'fred again..', 'aerosmith', 'gunna', 'kaliii', 'britney spears', 'megan thee stallion', 'camila cabello', 'jasiel nuï¿½ï¿½ez', 'marshmello', 'robi', 'luis r conriquez', 'tyler', 'dave', 'girl in red', 'jhayco', 'meghan trainor', 'psy', 'leo santana', 'cardi b', 'ak4:20', 'gorillaz', 'interplanetary criminal', 'selena gomez', '(g)i-dle', 'yahritza y su esencia', 'villano antillano', 'luar la l', 'lil nas x', 'nat king cole', 'roisee', 'shekhar ravjiani', 'band aid', 'mc ryan sp', 'shilpa rao', 'elley duhï¿', 'queen', 'annenmaykantereit', 'veigh', 'v', 'don omar', 'mnek', 'lucenzo', 'juseph', 'a-ha', 'cruz cafunï¿½ï¿½', 'dazy', 'lit killah', 'ghostface killah', 'david kushner', 'glass animals', 'yung lean', 'roger', 'mc menor hr', 'aitana', 'the creator', 'rels b', 'christian nodal', 'jack harlow', 'imagine dragons', 'joel corry', 'quevedo', 'kali uchis', 'dean martin', 'kyla', 'the neighbourhood', 'dove cameron', 'nico valdi', 'myke towers', 'nio garcia', 'taylor swift', 'kendrick lamar', 'plan b', 'rosa linn', 'kenshi yonezu', 'neiked', 'nate dogg', 'latto', 'the marï¿½ï', 'vishal-shekhar', 'lum!x', '50 cent', 'juan cruz toledo', 'elton john', 'manuel turizo', 'southstar', 'ana castela', 'jaymes young', 'phoebe bridgers', 'saiko', 'mae muller', 'sia', 'nicki nicole', 'gayle', 'buscabulla', 'bl', 'l-gante', 'kimbra', 'dj biel do furduncinho', 'styrx', 'musical youth', 'swae lee', 'michael bublï¿', 'gotye', 'dj matt d', 'benny blanco', 'the killers', 'kanii', 'david guetta', 'carin leon', 'maria becerra', 'mora', 'iann dior', 'lil wayne', 'pablito pesadilla', 'flowdan', 'tchakabum', 'bobby helms', 'altamash faridi', 'prod malax', 'lady gaga', 'taeyang', 'gustavo mioto', 'josh levi', 'mitchell ayres & his orchestra', 'drake', 'le sserafim', 'steve aoki', '070 shake', 'kanye west', 'varun jain', 'shadab faridi', 'topher ngo', 'jessi', 'polo g', 'rosa walton', 'benson boone', 'conan gray', 'panic! at the disco', 'ghost', 'seafret', 'ed sheeran', 'zach bryan', 'tems', 'imanbek', 'freddie dredd', 'jack black', 'masked wolf', 'coi leray', 'fivio foreign', 'josï¿½ï¿½ felic', 'kayblack', 'rich the kid', 'kevin kaarl', 'agust d', 'simone mendes', 'byor', 'ellie goulding', 'jid', 'mc pedrinho', 'league of legends', 'luciano', 'blake shelton', 'creedence clearwater revival', 'sukriti kakar', 'suga', 'bï¿½', 'tini', 'lizzy mcalpine', 'yandel', 'miguel', 'jhay cortez', 'acraze', 'peggy gou', 'james blake', 'p!nk', 'the harlem community choir', 'sech', 'melody', 'joji', 'ruth b.', 'maldy', 'sped up 8282', 'grupo marca registrada', 'love funk', 'the plastic ono band', 'cigarettes after sex', '24kgoldn', 'mufasa & hypeman', 'dj 900', 'maroon 5', 'demi lovato', 'oliver tree', 'eslabon armado', 'mambo kingz', 'travis scott', 'yoasobi', 'oscar maydon', 'xxxtentacion', 'avicii', 'rihanna', 'fireboy dml', 'treyce', 'mc xenon', 'teto', 'amitabh bhattacharya', 'j-hope', 'beam', 'robin schulz', 'ariana grande', 'lord huron', 'baby keem', 'eden muï¿½ï', \"guns n' roses\", 'alejo', 'la joaqui', 'fuerza regida', 'aitch', 'miley cyrus', 'blxst', 'suki waterhouse', 'sean paul', 'black eyed peas', 'ap dhillon', 'juice wrld', 'dj r', 'armani white', 'bizarrap', 'darlene love', 'boywithuke', 'kim petras', 'dj lk da escï¿½ï¿½cia', 'paloma mami', 'lil uzi vert', 'tom odell', 'jnr choi', 'chefin', 'tiï¿½ï¿½sto', 'roddy ricch', 'la adictiva', 'zzoilo', 'keisya levronka', 'hozier', 'sza', 'mï¿½ï¿½ne', 'pailita', 'xamï¿½ï¿½', 'nirvana', 'nickoog clk', 'jimin', 'oxlade', 'sam dew', 'chris jedi', 'yung gravy', 'yng lvcas', 'anderson .paak', 'mc kevin o chris', 'chencho corleone', 'nicky jam', 'treasure', 'jain', 'frank ocean', 'amitabha bhattacharya', 'sped up nightcore', 'ryan castro', 'kate bush', 'lyanno', 'tyler cole', 'victor cibrian', 'jvke', 'tory lanez', 'yuridia', 'rich music', 'tony dize', 'metallica', 'milo j', 'dopamine', 'cartel de santa', 'steve lacy', 'charlie puth', 'ludwig goransson', 'zion & lennox', 'katy perry', 'snoop dogg', 'ali sethi', 'lost frequencies', 'ovy on the drums', 'agroplay', 'tainy', 'feid', 'farruko', 'tanna leone', 'karol g', 'mainstreet', 'amaarae', 'j. cole', 'dido', 'abhir hathi', 'a boogie wit da hoodie', 'hallie coggins', 'nayeon', 'chase atlantic', 'seventeen', 'cris mj', 'tate m', 'jax jones', 'thxsomch', 'andy williams', 'rï¿½ï', 'bruno mars', 'duncan laurence', 'the chainsmokers', 'gabito ballesteros', 'rusherking', 'chuck berry', 'dj gabriel do borel', 'em beihold', 'j balvin', 'baby rasta', 'nf', 'dina rae', 'adassa', 'daft punk', 'gesaffelstein', 'melanie martinez', 'surf curse', 'mc frog', 'vance joy', 'kordhell', 'tesla jnr', 'lasso', 'chris molitor', 'justin timberlake', 'bradley cooper', 'b. swanson quartet', 'blackbear', 'lil cake', 'davi k', 'pr1isvx', 'dua lipa', 'ryan lewis', 'saweetie', 'kelly clarkson', 'burl ives', 'unxbected', 'dababy', 'raye', 'emmy meli', 'thezth', 'vundabar', 'os gemeos da putaria', 'chino pacas', 'one direction', 'neo b', 'edison lighthouse', 'kodak black', 'mae stephens', 'moliy', 'nicky youre', 'twice', 'bianca', 'fmk', 'george henrique &', 'romeo santos', 'wiz khalifa', 'troye sivan', 'ha sung woon', 'arctic monkeys', 'james hype', 'ive', 'arizonatears', 'linkin park', 'jung kook', 'maluma', 'tiï¿½ï¿', 'iu', '4*town (from disney and pixarï¿½ï¿½ï¿½s turning red)', 'cherish', 'lil baby', 'nengo flow', 'post malone', 'justin quiles', 'duki', '21 savage', 'foudeqush', 'alesso', 'blackpink', 'fujii kaze', 'omar apollo', 'mc menor sg', 'julieta venegas', 'pritam', 'tears for fears', 'tyga', 'childish gambino', 'mc paiva zs', 'beach weather', 'alec benjamin', 'tulus', 'mariah carey', 'prezioso', 'kumaar', 'twisted', 'dr. dre', 'gustah', 'ke personajes', 'beach house', 'bomba estï¿½ï¿½reo', 'fran c', 'john legend', 'onerepublic', 'wham!', 'ava', 'juicy j', 'lenny tavï¿½ï¿½rez', 'lana del rey', 'ckay', 'skrillex', 'grayson vill', 'israel & rodolffo', 'sofia carson', 'dalex', 'c. tangana', 'fifty fifty', 'kar', 'anitta', 'bad b', 'shubh', 'zakaria', 'yeat', 'eliza rose', 'bellakath', 'the kid laroi', 'rvssian', 'gabry ponte', 'jin', 'sachin-jigar', 'blessd', 'el chachito', 'calum scott', 'taiu', 'ice spice', 'chanel', 'niki', 'la kelly', 'nmixx', 'billie eilish', 'anne-marie', 'd4vd', 'enhypen', 'pnb rock', 'playboi carti', 'peso p', 'loreen', 'zï¿½ï¿½ fe', 'silk sonic', 'doï¿½ï¿½u ', 'the walters', 'nav', 'john lennon', 'bebe rexha', 'giant rooks', 'jonas brothers', 'migrantes', 'brenda lee', 'new west', 'aqua', 'wisin & yandel', 'peso pluma', 'shawn mendes', 'matuï¿', 'sam smith', 'intense', 'lewis capaldi', 'bï¿½ï¿½jo', 'the goo goo dolls', 'angela aguilar', 'lf system', 'tomorrow x together', 'shae gill', 'beï¿½ï', 'gurinder gill', 'ella henderson', 'calvin harris', 'big one', 'hugo & g', 'mc livinho', 'don toliver', 'rm', 'mc vitin da igrejinha', 'nessa barrett', 'lil durk', 'luke combs', 'pnau', 'jisoo', 'trueno', 'summer walker', 'mauro castillo', 'encanto - cast', 'sales', 'sidhu moose wala', 'hotel ugly', 'paloma faith', 'pinkpantheress', 'taylour paige', 'standly', 'burna boy', 'stephen sanchez', 'stars music chile', 'sleepy hallow', 'nicki minaj', 'morgan wallen', 'ken darby singers', 'sim', 'young thug', 'riar saab', 'metro boomin', 'pedro sampaio', 'kevin gates', 'dean lewis', 'alicia keys', 'leah kate', 'beth gibbons', 'justin bieber', 'tones and i', 'rï¿½ï¿½ma', 'the fontane sisters', 'luude', 'luï¿½ï¿½sa sonza', 'doechii', 'daniel caesar', 'arijit singh', 'caralisa monteiro', 'l.v.', 'baby tate', 'marï¿½ï¿½lia mendo'}\n",
            "699\n"
          ]
        }
      ],
      "source": [
        "results = set()\n",
        "df['artist(s)_name'].str.lower().str.split(', ').apply(results.update)\n",
        "print(results)\n",
        "print(len(results)) \n"
      ]
    },
    {
      "cell_type": "code",
      "execution_count": 17,
      "metadata": {},
      "outputs": [
        {
          "name": "stdout",
          "output_type": "stream",
          "text": [
            "645\n"
          ]
        }
      ],
      "source": [
        "print(df['artist(s)_name'].unique().size)  ## esta era mi forma que está mal\n"
      ]
    },
    {
      "cell_type": "code",
      "execution_count": 18,
      "metadata": {},
      "outputs": [
        {
          "name": "stdout",
          "output_type": "stream",
          "text": [
            "699\n"
          ]
        }
      ],
      "source": [
        "results = {}\n",
        "for i in range(len(df['artist(s)_name'])):\n",
        "    names = df['artist(s)_name'][i].lower().split(',')\n",
        "    for name in names:\n",
        "        results.update({name.strip(): None})\n",
        "\n",
        "print(len(results))\n"
      ]
    },
    {
      "cell_type": "code",
      "execution_count": 21,
      "metadata": {},
      "outputs": [
        {
          "data": {
            "application/vnd.plotly.v1+json": {
              "config": {
                "plotlyServerURL": "https://plot.ly"
              },
              "data": [
                {
                  "alignmentgroup": "True",
                  "bingroup": "x",
                  "hovertemplate": "streams=%{x}<br>count=%{y}<extra></extra>",
                  "legendgroup": "",
                  "marker": {
                    "color": "#636efa",
                    "pattern": {
                      "shape": ""
                    }
                  },
                  "name": "",
                  "offsetgroup": "",
                  "orientation": "v",
                  "showlegend": false,
                  "type": "histogram",
                  "x": [
                    141381703,
                    133716286,
                    140003974,
                    800840817,
                    303236322,
                    183706234,
                    725980112,
                    58149378,
                    95217315,
                    553634067,
                    505671438,
                    58255150,
                    1316855716,
                    387570742,
                    2513188493,
                    1163093654,
                    496795686,
                    30546883,
                    335222234,
                    363369738,
                    86444842,
                    52135248,
                    1297026226,
                    200647221,
                    115364561,
                    78300654,
                    899183384,
                    61245289,
                    429829812,
                    127408954,
                    22581161,
                    52294266,
                    843957510,
                    999748277,
                    618990393,
                    123122413,
                    188933502,
                    1355959075,
                    786181836,
                    176553476,
                    354495408,
                    2808096550,
                    1109433169,
                    1047101291,
                    65156199,
                    570515054,
                    1085685420,
                    1647990401,
                    2565529693,
                    518745108,
                    107753850,
                    177740666,
                    153372011,
                    57876440,
                    1813673666,
                    3703895074,
                    256483385,
                    1214083358,
                    16011326,
                    812019557,
                    111947664,
                    156338624,
                    720434240,
                    357925728,
                    674072710,
                    1755214421,
                    404562836,
                    373199958,
                    14780425,
                    39578178,
                    54266102,
                    2557975762,
                    751134527,
                    2282771485,
                    1356565093,
                    1592909789,
                    635412045,
                    1230675890,
                    585695368,
                    43857627,
                    2009094673,
                    600976848,
                    39709092,
                    39228929,
                    2665343922,
                    223633238,
                    2887241814,
                    1440757818,
                    165484133,
                    58054811,
                    157058870,
                    95131998,
                    250305248,
                    685032533,
                    38411956,
                    144565150,
                    127567540,
                    399686758,
                    983637508,
                    118482347,
                    882831184,
                    286400165,
                    172825906,
                    1241559043,
                    29562220,
                    77309611,
                    1605224506,
                    1116995633,
                    838079900,
                    1163620694,
                    1093605526,
                    179659294,
                    39058561,
                    36912123,
                    1205951614,
                    1791000570,
                    201660859,
                    248088961,
                    90839753,
                    607123776,
                    55842345,
                    211050784,
                    342897938,
                    2762,
                    330346424,
                    601863821,
                    1953533826,
                    2322580122,
                    2355719893,
                    66902503,
                    96273746,
                    430977451,
                    284819874,
                    721975598,
                    1217120710,
                    109276132,
                    276259178,
                    54225632,
                    2559529074,
                    681583126,
                    2594040133,
                    81102253,
                    11956641,
                    1687664027,
                    11599388,
                    611700552,
                    1133865788,
                    1089402494,
                    411747614,
                    255932395,
                    31873544,
                    95053634,
                    1279434863,
                    233801632,
                    1481349984,
                    142095275,
                    618885532,
                    2011464183,
                    1167330737,
                    929964809,
                    436027885,
                    657723613,
                    2713922350,
                    621660989,
                    1591223784,
                    950906471,
                    1593270737,
                    1410088830,
                    1235005533,
                    1661187319,
                    1374581173,
                    94186466,
                    1788326445,
                    1840364617,
                    143573775,
                    684675814,
                    1113838873,
                    1267333350,
                    726307468,
                    3562543890,
                    1131090940,
                    307370144,
                    1271293243,
                    265882712,
                    841749534,
                    47956378,
                    806397070,
                    2132335812,
                    1641426668,
                    2135158446,
                    367316268,
                    350381515,
                    1264310836,
                    30343206,
                    405136812,
                    1145727611,
                    540654286,
                    57312735,
                    397582059,
                    1479115056,
                    86773632,
                    133753727,
                    123124076,
                    463564958,
                    64533040,
                    65496046,
                    68616963,
                    161460990,
                    70106975,
                    113509496,
                    89933133,
                    71007139,
                    43522589,
                    232896922,
                    37126685,
                    195576623,
                    532336353,
                    538115192,
                    46142772,
                    401036314,
                    127026613,
                    345031710,
                    288101651,
                    60350538,
                    335074782,
                    76767396,
                    46065667,
                    459276435,
                    39666245,
                    138517666,
                    822633917,
                    595900742,
                    51985779,
                    57945987,
                    115010040,
                    175097833,
                    57089066,
                    488386797,
                    32761689,
                    1047480053,
                    153454328,
                    217672943,
                    457184829,
                    939844851,
                    726434358,
                    573633020,
                    1406111294,
                    71573339,
                    24975653,
                    145458418,
                    1424589568,
                    231332117,
                    415932686,
                    988515741,
                    50847624,
                    39893489,
                    92035115,
                    118810253,
                    77233241,
                    206399629,
                    117747907,
                    266624541,
                    293186992,
                    139681964,
                    123132751,
                    103762518,
                    162887075,
                    91221625,
                    190490915,
                    96180277,
                    185240616,
                    885093467,
                    104992946,
                    147290338,
                    1302184087,
                    158950978,
                    76910644,
                    137123880,
                    782369383,
                    502574952,
                    207033255,
                    404887295,
                    381161027,
                    466231982,
                    357580552,
                    61105704,
                    198275403,
                    168448603,
                    705469769,
                    34502215,
                    482175240,
                    304118600,
                    1449799467,
                    173627354,
                    90025258,
                    652704649,
                    1829992958,
                    655466831,
                    146409671,
                    95816024,
                    117206995,
                    100409613,
                    80758350,
                    325592432,
                    58473276,
                    52722996,
                    191945597,
                    77377503,
                    743693613,
                    267789608,
                    1221813483,
                    449701773,
                    67070410,
                    116334601,
                    433356509,
                    165584767,
                    367814306,
                    477033549,
                    156214700,
                    448843705,
                    1357608774,
                    294352144,
                    972164968,
                    920045682,
                    2420461338,
                    1947371785,
                    244658767,
                    68216992,
                    223582566,
                    471819764,
                    272377463,
                    1361425037,
                    149778242,
                    116599790,
                    148469433,
                    497225336,
                    88791109,
                    125917280,
                    105062254,
                    95623148,
                    144584800,
                    298063749,
                    166570053,
                    83021468,
                    139836056,
                    303216294,
                    221409663,
                    58890931,
                    81419389,
                    156777415,
                    284908316,
                    93438910,
                    363472647,
                    372476382,
                    380726517,
                    56533272,
                    175399345,
                    203221468,
                    1624165576,
                    134294498,
                    70069745,
                    609293408,
                    671365962,
                    362361576,
                    93587665,
                    1223481149,
                    1022258230,
                    263453310,
                    1435127549,
                    236857112,
                    147538971,
                    698086140,
                    723894473,
                    34450974,
                    403097450,
                    309483971,
                    319566866,
                    909001996,
                    1061966512,
                    32526947,
                    124988687,
                    103787664,
                    134255790,
                    301051721,
                    156338624,
                    152850295,
                    309653982,
                    297328960,
                    332506354,
                    480507035,
                    1065580332,
                    122763672,
                    445763624,
                    1365184,
                    184308753,
                    789753877,
                    323358833,
                    606361689,
                    120972253,
                    338564981,
                    1606986953,
                    1301799902,
                    140187018,
                    1897517891,
                    107642809,
                    551305895,
                    556585270,
                    2303033973,
                    646886885,
                    222612678,
                    1814349763,
                    872137015,
                    571386359,
                    304079786,
                    174006928,
                    284785823,
                    163284000,
                    246390068,
                    482257456,
                    168684524,
                    78489819,
                    195516622,
                    1260594497,
                    428685680,
                    1024858327,
                    838586769,
                    199386237,
                    972509632,
                    213438580,
                    1555511105,
                    210038833,
                    227918678,
                    826623384,
                    1802514301,
                    1329090101,
                    181831132,
                    462791599,
                    348647203,
                    366599607,
                    90598517,
                    1479264469,
                    1449779435,
                    1159176109,
                    769213520,
                    741301563,
                    807561936,
                    834129063,
                    663832097,
                    446390129,
                    690104769,
                    485285717,
                    520034544,
                    476244795,
                    629173063,
                    404664135,
                    98709329,
                    110849052,
                    460492795,
                    94005786,
                    395591396,
                    389771964,
                    403939487,
                    481697415,
                    110073250,
                    88092256,
                    351636786,
                    473248298,
                    73981293,
                    155653938,
                    395591396,
                    429504768,
                    242767149,
                    65362788,
                    67540165,
                    62019074,
                    135723538,
                    295998468,
                    261116938,
                    136689549,
                    135611421,
                    356709897,
                    110649992,
                    301869854,
                    127027715,
                    57144458,
                    56870689,
                    323437194,
                    317726339,
                    116144341,
                    328207708,
                    608228647,
                    180577478,
                    809306935,
                    49262961,
                    614555082,
                    245350949,
                    178660459,
                    51641685,
                    78139948,
                    322336177,
                    1007612429,
                    326792833,
                    391251368,
                    349585590,
                    339659802,
                    674772936,
                    432719968,
                    1309887447,
                    119238316,
                    116903579,
                    888046992,
                    200660871,
                    130655803,
                    1887039593,
                    88103848,
                    101114984,
                    1575467011,
                    91656026,
                    1042568408,
                    1735441776,
                    726837877,
                    53933526,
                    267758538,
                    74601456,
                    920797189,
                    539595276,
                    1367810478,
                    578207856,
                    775542072,
                    863625566,
                    656013912,
                    1056760045,
                    611994237,
                    1230855859,
                    582981380,
                    1858144199,
                    240684449,
                    583687007,
                    63803529,
                    466214729,
                    236940480,
                    41924466,
                    225259194,
                    393230256,
                    287201015,
                    599770206,
                    342779426,
                    673801126,
                    1168642797,
                    540539717,
                    383550148,
                    530511203,
                    37307967,
                    510876816,
                    1445941661,
                    1763363713,
                    374191487,
                    108809090,
                    436695353,
                    421040617,
                    501541661,
                    354065229,
                    1143647827,
                    311395144,
                    672656250,
                    1256880657,
                    1692897992,
                    245095641,
                    686734357,
                    261414174,
                    610045621,
                    1115880852,
                    594482982,
                    566954746,
                    null,
                    374706940,
                    184937148,
                    31959571,
                    167076418,
                    824420218,
                    363467642,
                    1127468248,
                    60680939,
                    247737946,
                    1699402402,
                    154797871,
                    198883004,
                    124407432,
                    850608354,
                    376333030,
                    516784627,
                    1608045237,
                    506778838,
                    1472799873,
                    513643924,
                    261286503,
                    783706581,
                    422691058,
                    1062345656,
                    1252563873,
                    851070493,
                    263894529,
                    345903614,
                    951637566,
                    956865266,
                    427486004,
                    156658366,
                    624515457,
                    777765388,
                    412795151,
                    1138474110,
                    355219175,
                    290228626,
                    1062956628,
                    1180094974,
                    1456081449,
                    432702334,
                    489945871,
                    465959382,
                    1223481149,
                    2864791672,
                    2288695111,
                    720825549,
                    2086124197,
                    1690192927,
                    991336132,
                    593917618,
                    200972675,
                    71014967,
                    560222750,
                    1806617704,
                    77337771,
                    528544703,
                    865640097,
                    2159346687,
                    211372494,
                    651732901,
                    608334048,
                    863756573,
                    797402345,
                    1695712020,
                    1759567999,
                    223319934,
                    54937991,
                    226897599,
                    258316038,
                    596152090,
                    177129919,
                    716591492,
                    1210599487,
                    246376690,
                    496311364,
                    146789379,
                    843309044,
                    500340342,
                    107255472,
                    135079152,
                    822239726,
                    1202722675,
                    343197054,
                    240769997,
                    426204830,
                    421135627,
                    554875730,
                    467727006,
                    327498031,
                    185408548,
                    245400167,
                    579395142,
                    675039469,
                    252871192,
                    231996128,
                    1929770265,
                    918915401,
                    1180896317,
                    498960285,
                    685071800,
                    258714692,
                    143139338,
                    209768491,
                    64714573,
                    50746620,
                    154119539,
                    181328253,
                    370068639,
                    2280566092,
                    563902868,
                    317622165,
                    291709698,
                    203680270,
                    81350745,
                    282883169,
                    64787943,
                    2484812918,
                    461437791,
                    1439191367,
                    759208783,
                    368646862,
                    299634472,
                    756907987,
                    682475162,
                    546191065,
                    229473310,
                    202677468,
                    121913181,
                    208166039,
                    527033089,
                    94616487,
                    394030335,
                    193443895,
                    299648208,
                    182978249,
                    319757142,
                    109091573,
                    153240879,
                    346127840,
                    312622938,
                    2197010679,
                    1200808494,
                    797196073,
                    1970673297,
                    665765558,
                    263779030,
                    339473453,
                    2204080728,
                    2591224264,
                    135444283,
                    1457139296,
                    236872197,
                    694525298,
                    240661097,
                    421365166,
                    349746291,
                    255120451,
                    190981339,
                    924193303,
                    305771063,
                    273005485,
                    89566512,
                    677389855,
                    75476209,
                    408843328,
                    187772591,
                    178512385,
                    101780047,
                    118381354,
                    146363130,
                    126443991,
                    157990698,
                    176290831,
                    1023187129,
                    106933107,
                    139193812,
                    212234990,
                    1714490998,
                    197643795,
                    807015863,
                    933815613,
                    499710590,
                    120847157,
                    53909146,
                    2236667932,
                    2123309722,
                    301242089,
                    723894473,
                    237351106,
                    461558540,
                    417230415,
                    156898322,
                    127309180,
                    313113297,
                    173702135,
                    271666301,
                    305650299,
                    123216717,
                    479655659,
                    126191104,
                    344055883,
                    338422004,
                    68895644,
                    86176890,
                    403231558,
                    319546754,
                    61739839,
                    283359161,
                    76831876,
                    283332261,
                    307752576,
                    279737940,
                    212351890,
                    1304313953,
                    150500965,
                    246127838,
                    582863434,
                    58687425,
                    212109195,
                    382199619,
                    41210087,
                    231657891,
                    53729194,
                    244741137,
                    42485571,
                    37778188,
                    254218729,
                    53603447,
                    160035717,
                    164163229,
                    37091576,
                    284249832,
                    33381454,
                    184622518,
                    300983101,
                    121077868,
                    106919680,
                    136996305,
                    65719930,
                    229497852,
                    185550869,
                    54682594,
                    240580042,
                    1284942608,
                    71423324,
                    244891912,
                    132171975,
                    184706613,
                    184826429,
                    302006641,
                    330881149,
                    334733572,
                    366214458,
                    114546317,
                    290833204,
                    448500832,
                    136676504,
                    190625045,
                    79095270,
                    273194684,
                    333146475,
                    194902696,
                    311482393,
                    195918494,
                    248511839,
                    233671263,
                    199587884,
                    91781263,
                    383835984,
                    236060709,
                    189236868,
                    160845341,
                    588955257,
                    238350348,
                    187703102,
                    295307001,
                    138334433,
                    445590495,
                    286739476,
                    1122364376,
                    157136970,
                    137070925,
                    183273246,
                    184807630,
                    164856284,
                    704171068,
                    354614964,
                    279717388,
                    195628667,
                    221752937,
                    263280370,
                    213505179,
                    130419412,
                    155795783,
                    1553497987,
                    293466523,
                    711366595,
                    191448892,
                    85924992,
                    176103902,
                    121189256,
                    131746175,
                    244790012,
                    129314708,
                    331511413,
                    219196651,
                    170732845,
                    273914335,
                    179061440,
                    185236961,
                    171788484,
                    387080183,
                    264717480,
                    244928911,
                    97610446,
                    287278853,
                    887906111,
                    123473120,
                    295152154,
                    323455692,
                    240918092,
                    191873381,
                    284216603,
                    239411309,
                    265548837,
                    703301727,
                    244585109,
                    189476119,
                    277132266,
                    278920007,
                    222410722,
                    185392587,
                    202452860,
                    1608164312,
                    624101957,
                    148461629,
                    47093942,
                    380319238,
                    209106362,
                    53987404,
                    115331792,
                    225093344,
                    84697729,
                    159240673,
                    170709584,
                    154356956,
                    723043854,
                    247689123,
                    176474912,
                    235549288,
                    140430339,
                    85559365,
                    146223492,
                    187701588,
                    154863153,
                    191333656,
                    253650850,
                    223064273,
                    170413877,
                    218320587,
                    141720999,
                    187339835,
                    198365537,
                    186104310,
                    177503916,
                    71095708,
                    112436403,
                    203436468,
                    93367537,
                    106249219,
                    181382590,
                    91473363,
                    121871870,
                    73513683,
                    133895612,
                    96007391
                  ],
                  "xaxis": "x",
                  "yaxis": "y"
                }
              ],
              "layout": {
                "barmode": "relative",
                "legend": {
                  "tracegroupgap": 0
                },
                "template": {
                  "data": {
                    "bar": [
                      {
                        "error_x": {
                          "color": "#2a3f5f"
                        },
                        "error_y": {
                          "color": "#2a3f5f"
                        },
                        "marker": {
                          "line": {
                            "color": "#E5ECF6",
                            "width": 0.5
                          },
                          "pattern": {
                            "fillmode": "overlay",
                            "size": 10,
                            "solidity": 0.2
                          }
                        },
                        "type": "bar"
                      }
                    ],
                    "barpolar": [
                      {
                        "marker": {
                          "line": {
                            "color": "#E5ECF6",
                            "width": 0.5
                          },
                          "pattern": {
                            "fillmode": "overlay",
                            "size": 10,
                            "solidity": 0.2
                          }
                        },
                        "type": "barpolar"
                      }
                    ],
                    "carpet": [
                      {
                        "aaxis": {
                          "endlinecolor": "#2a3f5f",
                          "gridcolor": "white",
                          "linecolor": "white",
                          "minorgridcolor": "white",
                          "startlinecolor": "#2a3f5f"
                        },
                        "baxis": {
                          "endlinecolor": "#2a3f5f",
                          "gridcolor": "white",
                          "linecolor": "white",
                          "minorgridcolor": "white",
                          "startlinecolor": "#2a3f5f"
                        },
                        "type": "carpet"
                      }
                    ],
                    "choropleth": [
                      {
                        "colorbar": {
                          "outlinewidth": 0,
                          "ticks": ""
                        },
                        "type": "choropleth"
                      }
                    ],
                    "contour": [
                      {
                        "colorbar": {
                          "outlinewidth": 0,
                          "ticks": ""
                        },
                        "colorscale": [
                          [
                            0,
                            "#0d0887"
                          ],
                          [
                            0.1111111111111111,
                            "#46039f"
                          ],
                          [
                            0.2222222222222222,
                            "#7201a8"
                          ],
                          [
                            0.3333333333333333,
                            "#9c179e"
                          ],
                          [
                            0.4444444444444444,
                            "#bd3786"
                          ],
                          [
                            0.5555555555555556,
                            "#d8576b"
                          ],
                          [
                            0.6666666666666666,
                            "#ed7953"
                          ],
                          [
                            0.7777777777777778,
                            "#fb9f3a"
                          ],
                          [
                            0.8888888888888888,
                            "#fdca26"
                          ],
                          [
                            1,
                            "#f0f921"
                          ]
                        ],
                        "type": "contour"
                      }
                    ],
                    "contourcarpet": [
                      {
                        "colorbar": {
                          "outlinewidth": 0,
                          "ticks": ""
                        },
                        "type": "contourcarpet"
                      }
                    ],
                    "heatmap": [
                      {
                        "colorbar": {
                          "outlinewidth": 0,
                          "ticks": ""
                        },
                        "colorscale": [
                          [
                            0,
                            "#0d0887"
                          ],
                          [
                            0.1111111111111111,
                            "#46039f"
                          ],
                          [
                            0.2222222222222222,
                            "#7201a8"
                          ],
                          [
                            0.3333333333333333,
                            "#9c179e"
                          ],
                          [
                            0.4444444444444444,
                            "#bd3786"
                          ],
                          [
                            0.5555555555555556,
                            "#d8576b"
                          ],
                          [
                            0.6666666666666666,
                            "#ed7953"
                          ],
                          [
                            0.7777777777777778,
                            "#fb9f3a"
                          ],
                          [
                            0.8888888888888888,
                            "#fdca26"
                          ],
                          [
                            1,
                            "#f0f921"
                          ]
                        ],
                        "type": "heatmap"
                      }
                    ],
                    "heatmapgl": [
                      {
                        "colorbar": {
                          "outlinewidth": 0,
                          "ticks": ""
                        },
                        "colorscale": [
                          [
                            0,
                            "#0d0887"
                          ],
                          [
                            0.1111111111111111,
                            "#46039f"
                          ],
                          [
                            0.2222222222222222,
                            "#7201a8"
                          ],
                          [
                            0.3333333333333333,
                            "#9c179e"
                          ],
                          [
                            0.4444444444444444,
                            "#bd3786"
                          ],
                          [
                            0.5555555555555556,
                            "#d8576b"
                          ],
                          [
                            0.6666666666666666,
                            "#ed7953"
                          ],
                          [
                            0.7777777777777778,
                            "#fb9f3a"
                          ],
                          [
                            0.8888888888888888,
                            "#fdca26"
                          ],
                          [
                            1,
                            "#f0f921"
                          ]
                        ],
                        "type": "heatmapgl"
                      }
                    ],
                    "histogram": [
                      {
                        "marker": {
                          "pattern": {
                            "fillmode": "overlay",
                            "size": 10,
                            "solidity": 0.2
                          }
                        },
                        "type": "histogram"
                      }
                    ],
                    "histogram2d": [
                      {
                        "colorbar": {
                          "outlinewidth": 0,
                          "ticks": ""
                        },
                        "colorscale": [
                          [
                            0,
                            "#0d0887"
                          ],
                          [
                            0.1111111111111111,
                            "#46039f"
                          ],
                          [
                            0.2222222222222222,
                            "#7201a8"
                          ],
                          [
                            0.3333333333333333,
                            "#9c179e"
                          ],
                          [
                            0.4444444444444444,
                            "#bd3786"
                          ],
                          [
                            0.5555555555555556,
                            "#d8576b"
                          ],
                          [
                            0.6666666666666666,
                            "#ed7953"
                          ],
                          [
                            0.7777777777777778,
                            "#fb9f3a"
                          ],
                          [
                            0.8888888888888888,
                            "#fdca26"
                          ],
                          [
                            1,
                            "#f0f921"
                          ]
                        ],
                        "type": "histogram2d"
                      }
                    ],
                    "histogram2dcontour": [
                      {
                        "colorbar": {
                          "outlinewidth": 0,
                          "ticks": ""
                        },
                        "colorscale": [
                          [
                            0,
                            "#0d0887"
                          ],
                          [
                            0.1111111111111111,
                            "#46039f"
                          ],
                          [
                            0.2222222222222222,
                            "#7201a8"
                          ],
                          [
                            0.3333333333333333,
                            "#9c179e"
                          ],
                          [
                            0.4444444444444444,
                            "#bd3786"
                          ],
                          [
                            0.5555555555555556,
                            "#d8576b"
                          ],
                          [
                            0.6666666666666666,
                            "#ed7953"
                          ],
                          [
                            0.7777777777777778,
                            "#fb9f3a"
                          ],
                          [
                            0.8888888888888888,
                            "#fdca26"
                          ],
                          [
                            1,
                            "#f0f921"
                          ]
                        ],
                        "type": "histogram2dcontour"
                      }
                    ],
                    "mesh3d": [
                      {
                        "colorbar": {
                          "outlinewidth": 0,
                          "ticks": ""
                        },
                        "type": "mesh3d"
                      }
                    ],
                    "parcoords": [
                      {
                        "line": {
                          "colorbar": {
                            "outlinewidth": 0,
                            "ticks": ""
                          }
                        },
                        "type": "parcoords"
                      }
                    ],
                    "pie": [
                      {
                        "automargin": true,
                        "type": "pie"
                      }
                    ],
                    "scatter": [
                      {
                        "fillpattern": {
                          "fillmode": "overlay",
                          "size": 10,
                          "solidity": 0.2
                        },
                        "type": "scatter"
                      }
                    ],
                    "scatter3d": [
                      {
                        "line": {
                          "colorbar": {
                            "outlinewidth": 0,
                            "ticks": ""
                          }
                        },
                        "marker": {
                          "colorbar": {
                            "outlinewidth": 0,
                            "ticks": ""
                          }
                        },
                        "type": "scatter3d"
                      }
                    ],
                    "scattercarpet": [
                      {
                        "marker": {
                          "colorbar": {
                            "outlinewidth": 0,
                            "ticks": ""
                          }
                        },
                        "type": "scattercarpet"
                      }
                    ],
                    "scattergeo": [
                      {
                        "marker": {
                          "colorbar": {
                            "outlinewidth": 0,
                            "ticks": ""
                          }
                        },
                        "type": "scattergeo"
                      }
                    ],
                    "scattergl": [
                      {
                        "marker": {
                          "colorbar": {
                            "outlinewidth": 0,
                            "ticks": ""
                          }
                        },
                        "type": "scattergl"
                      }
                    ],
                    "scattermapbox": [
                      {
                        "marker": {
                          "colorbar": {
                            "outlinewidth": 0,
                            "ticks": ""
                          }
                        },
                        "type": "scattermapbox"
                      }
                    ],
                    "scatterpolar": [
                      {
                        "marker": {
                          "colorbar": {
                            "outlinewidth": 0,
                            "ticks": ""
                          }
                        },
                        "type": "scatterpolar"
                      }
                    ],
                    "scatterpolargl": [
                      {
                        "marker": {
                          "colorbar": {
                            "outlinewidth": 0,
                            "ticks": ""
                          }
                        },
                        "type": "scatterpolargl"
                      }
                    ],
                    "scatterternary": [
                      {
                        "marker": {
                          "colorbar": {
                            "outlinewidth": 0,
                            "ticks": ""
                          }
                        },
                        "type": "scatterternary"
                      }
                    ],
                    "surface": [
                      {
                        "colorbar": {
                          "outlinewidth": 0,
                          "ticks": ""
                        },
                        "colorscale": [
                          [
                            0,
                            "#0d0887"
                          ],
                          [
                            0.1111111111111111,
                            "#46039f"
                          ],
                          [
                            0.2222222222222222,
                            "#7201a8"
                          ],
                          [
                            0.3333333333333333,
                            "#9c179e"
                          ],
                          [
                            0.4444444444444444,
                            "#bd3786"
                          ],
                          [
                            0.5555555555555556,
                            "#d8576b"
                          ],
                          [
                            0.6666666666666666,
                            "#ed7953"
                          ],
                          [
                            0.7777777777777778,
                            "#fb9f3a"
                          ],
                          [
                            0.8888888888888888,
                            "#fdca26"
                          ],
                          [
                            1,
                            "#f0f921"
                          ]
                        ],
                        "type": "surface"
                      }
                    ],
                    "table": [
                      {
                        "cells": {
                          "fill": {
                            "color": "#EBF0F8"
                          },
                          "line": {
                            "color": "white"
                          }
                        },
                        "header": {
                          "fill": {
                            "color": "#C8D4E3"
                          },
                          "line": {
                            "color": "white"
                          }
                        },
                        "type": "table"
                      }
                    ]
                  },
                  "layout": {
                    "annotationdefaults": {
                      "arrowcolor": "#2a3f5f",
                      "arrowhead": 0,
                      "arrowwidth": 1
                    },
                    "autotypenumbers": "strict",
                    "coloraxis": {
                      "colorbar": {
                        "outlinewidth": 0,
                        "ticks": ""
                      }
                    },
                    "colorscale": {
                      "diverging": [
                        [
                          0,
                          "#8e0152"
                        ],
                        [
                          0.1,
                          "#c51b7d"
                        ],
                        [
                          0.2,
                          "#de77ae"
                        ],
                        [
                          0.3,
                          "#f1b6da"
                        ],
                        [
                          0.4,
                          "#fde0ef"
                        ],
                        [
                          0.5,
                          "#f7f7f7"
                        ],
                        [
                          0.6,
                          "#e6f5d0"
                        ],
                        [
                          0.7,
                          "#b8e186"
                        ],
                        [
                          0.8,
                          "#7fbc41"
                        ],
                        [
                          0.9,
                          "#4d9221"
                        ],
                        [
                          1,
                          "#276419"
                        ]
                      ],
                      "sequential": [
                        [
                          0,
                          "#0d0887"
                        ],
                        [
                          0.1111111111111111,
                          "#46039f"
                        ],
                        [
                          0.2222222222222222,
                          "#7201a8"
                        ],
                        [
                          0.3333333333333333,
                          "#9c179e"
                        ],
                        [
                          0.4444444444444444,
                          "#bd3786"
                        ],
                        [
                          0.5555555555555556,
                          "#d8576b"
                        ],
                        [
                          0.6666666666666666,
                          "#ed7953"
                        ],
                        [
                          0.7777777777777778,
                          "#fb9f3a"
                        ],
                        [
                          0.8888888888888888,
                          "#fdca26"
                        ],
                        [
                          1,
                          "#f0f921"
                        ]
                      ],
                      "sequentialminus": [
                        [
                          0,
                          "#0d0887"
                        ],
                        [
                          0.1111111111111111,
                          "#46039f"
                        ],
                        [
                          0.2222222222222222,
                          "#7201a8"
                        ],
                        [
                          0.3333333333333333,
                          "#9c179e"
                        ],
                        [
                          0.4444444444444444,
                          "#bd3786"
                        ],
                        [
                          0.5555555555555556,
                          "#d8576b"
                        ],
                        [
                          0.6666666666666666,
                          "#ed7953"
                        ],
                        [
                          0.7777777777777778,
                          "#fb9f3a"
                        ],
                        [
                          0.8888888888888888,
                          "#fdca26"
                        ],
                        [
                          1,
                          "#f0f921"
                        ]
                      ]
                    },
                    "colorway": [
                      "#636efa",
                      "#EF553B",
                      "#00cc96",
                      "#ab63fa",
                      "#FFA15A",
                      "#19d3f3",
                      "#FF6692",
                      "#B6E880",
                      "#FF97FF",
                      "#FECB52"
                    ],
                    "font": {
                      "color": "#2a3f5f"
                    },
                    "geo": {
                      "bgcolor": "white",
                      "lakecolor": "white",
                      "landcolor": "#E5ECF6",
                      "showlakes": true,
                      "showland": true,
                      "subunitcolor": "white"
                    },
                    "hoverlabel": {
                      "align": "left"
                    },
                    "hovermode": "closest",
                    "mapbox": {
                      "style": "light"
                    },
                    "paper_bgcolor": "white",
                    "plot_bgcolor": "#E5ECF6",
                    "polar": {
                      "angularaxis": {
                        "gridcolor": "white",
                        "linecolor": "white",
                        "ticks": ""
                      },
                      "bgcolor": "#E5ECF6",
                      "radialaxis": {
                        "gridcolor": "white",
                        "linecolor": "white",
                        "ticks": ""
                      }
                    },
                    "scene": {
                      "xaxis": {
                        "backgroundcolor": "#E5ECF6",
                        "gridcolor": "white",
                        "gridwidth": 2,
                        "linecolor": "white",
                        "showbackground": true,
                        "ticks": "",
                        "zerolinecolor": "white"
                      },
                      "yaxis": {
                        "backgroundcolor": "#E5ECF6",
                        "gridcolor": "white",
                        "gridwidth": 2,
                        "linecolor": "white",
                        "showbackground": true,
                        "ticks": "",
                        "zerolinecolor": "white"
                      },
                      "zaxis": {
                        "backgroundcolor": "#E5ECF6",
                        "gridcolor": "white",
                        "gridwidth": 2,
                        "linecolor": "white",
                        "showbackground": true,
                        "ticks": "",
                        "zerolinecolor": "white"
                      }
                    },
                    "shapedefaults": {
                      "line": {
                        "color": "#2a3f5f"
                      }
                    },
                    "ternary": {
                      "aaxis": {
                        "gridcolor": "white",
                        "linecolor": "white",
                        "ticks": ""
                      },
                      "baxis": {
                        "gridcolor": "white",
                        "linecolor": "white",
                        "ticks": ""
                      },
                      "bgcolor": "#E5ECF6",
                      "caxis": {
                        "gridcolor": "white",
                        "linecolor": "white",
                        "ticks": ""
                      }
                    },
                    "title": {
                      "x": 0.05
                    },
                    "xaxis": {
                      "automargin": true,
                      "gridcolor": "white",
                      "linecolor": "white",
                      "ticks": "",
                      "title": {
                        "standoff": 15
                      },
                      "zerolinecolor": "white",
                      "zerolinewidth": 2
                    },
                    "yaxis": {
                      "automargin": true,
                      "gridcolor": "white",
                      "linecolor": "white",
                      "ticks": "",
                      "title": {
                        "standoff": 15
                      },
                      "zerolinecolor": "white",
                      "zerolinewidth": 2
                    }
                  }
                },
                "title": {
                  "text": "Stream distribution"
                },
                "xaxis": {
                  "anchor": "y",
                  "domain": [
                    0,
                    1
                  ],
                  "title": {
                    "text": "streams"
                  }
                },
                "yaxis": {
                  "anchor": "x",
                  "domain": [
                    0,
                    1
                  ],
                  "title": {
                    "text": "count"
                  }
                }
              }
            }
          },
          "metadata": {},
          "output_type": "display_data"
        }
      ],
      "source": [
        "fig = px.histogram(df, x=df[\"streams\"],title=\"Stream distribution\")\n",
        "fig.show()\n"
      ]
    },
    {
      "cell_type": "code",
      "execution_count": 22,
      "metadata": {},
      "outputs": [],
      "source": [
        "df[\"more_artists\"] = df[\"artist_count\"] > 1"
      ]
    },
    {
      "cell_type": "code",
      "execution_count": 25,
      "metadata": {},
      "outputs": [
        {
          "data": {
            "text/plain": [
              "more_artists\n",
              "False    587\n",
              "True     366\n",
              "Name: count, dtype: int64"
            ]
          },
          "execution_count": 25,
          "metadata": {},
          "output_type": "execute_result"
        }
      ],
      "source": [
        "df[\"more_artists\"].value_counts()"
      ]
    },
    {
      "cell_type": "code",
      "execution_count": 30,
      "metadata": {},
      "outputs": [
        {
          "name": "stdout",
          "output_type": "stream",
          "text": [
            "count    3.660000e+02\n",
            "mean     4.275595e+08\n",
            "std      5.100355e+08\n",
            "min      2.762000e+03\n",
            "25%      1.155595e+08\n",
            "50%      2.368647e+08\n",
            "75%      5.403036e+08\n",
            "max      2.808097e+09\n",
            "Name: streams, dtype: float64\n",
            "count    5.860000e+02\n",
            "mean     5.682117e+08\n",
            "std      5.936634e+08\n",
            "min      1.478042e+07\n",
            "25%      1.674195e+08\n",
            "50%      3.336200e+08\n",
            "75%      7.953355e+08\n",
            "max      3.703895e+09\n",
            "Name: streams, dtype: float64\n"
          ]
        }
      ],
      "source": [
        "print(df[df[\"more_artists\"]==True][\"streams\"].describe())\n",
        "print(df[df[\"more_artists\"]==False][\"streams\"].describe())"
      ]
    },
    {
      "cell_type": "code",
      "execution_count": 33,
      "metadata": {},
      "outputs": [
        {
          "data": {
            "application/vnd.plotly.v1+json": {
              "config": {
                "plotlyServerURL": "https://plot.ly"
              },
              "data": [
                {
                  "marker": {
                    "color": "blue"
                  },
                  "name": "Many artists",
                  "type": "box",
                  "y": [
                    141381703,
                    183706234,
                    725980112,
                    553634067,
                    505671438,
                    335222234,
                    86444842,
                    200647221,
                    115364561,
                    899183384,
                    61245289,
                    52294266,
                    843957510,
                    618990393,
                    123122413,
                    188933502,
                    354495408,
                    2808096550,
                    1109433169,
                    1047101291,
                    65156199,
                    2565529693,
                    518745108,
                    107753850,
                    177740666,
                    111947664,
                    156338624,
                    720434240,
                    357925728,
                    674072710,
                    54266102,
                    1356565093,
                    1230675890,
                    585695368,
                    600976848,
                    39709092,
                    2665343922,
                    223633238,
                    1440757818,
                    58054811,
                    250305248,
                    144565150,
                    286400165,
                    1605224506,
                    1093605526,
                    39058561,
                    248088961,
                    90839753,
                    55842345,
                    211050784,
                    2762,
                    1953533826,
                    2355719893,
                    66902503,
                    721975598,
                    109276132,
                    276259178,
                    54225632,
                    81102253,
                    11956641,
                    11599388,
                    611700552,
                    1133865788,
                    1279434863,
                    233801632,
                    142095275,
                    618885532,
                    436027885,
                    2713922350,
                    1235005533,
                    94186466,
                    307370144,
                    367316268,
                    57312735,
                    86773632,
                    133753727,
                    463564958,
                    64533040,
                    161460990,
                    70106975,
                    113509496,
                    89933133,
                    71007139,
                    43522589,
                    37126685,
                    532336353,
                    538115192,
                    46142772,
                    401036314,
                    127026613,
                    288101651,
                    60350538,
                    46065667,
                    39666245,
                    138517666,
                    51985779,
                    57945987,
                    115010040,
                    57089066,
                    32761689,
                    573633020,
                    71573339,
                    24975653,
                    231332117,
                    50847624,
                    92035115,
                    77233241,
                    266624541,
                    162887075,
                    96180277,
                    104992946,
                    147290338,
                    158950978,
                    76910644,
                    207033255,
                    61105704,
                    198275403,
                    705469769,
                    34502215,
                    304118600,
                    90025258,
                    652704649,
                    655466831,
                    146409671,
                    95816024,
                    100409613,
                    80758350,
                    325592432,
                    58473276,
                    77377503,
                    1221813483,
                    116334601,
                    477033549,
                    1357608774,
                    294352144,
                    223582566,
                    471819764,
                    149778242,
                    116599790,
                    497225336,
                    105062254,
                    139836056,
                    221409663,
                    58890931,
                    93438910,
                    380726517,
                    609293408,
                    93587665,
                    1223481149,
                    263453310,
                    1435127549,
                    236857112,
                    309483971,
                    1061966512,
                    103787664,
                    152850295,
                    1065580332,
                    1365184,
                    184308753,
                    323358833,
                    606361689,
                    120972253,
                    140187018,
                    1897517891,
                    556585270,
                    222612678,
                    1814349763,
                    304079786,
                    174006928,
                    78489819,
                    195516622,
                    972509632,
                    213438580,
                    1802514301,
                    462791599,
                    366599607,
                    90598517,
                    1479264469,
                    460492795,
                    94005786,
                    110073250,
                    473248298,
                    155653938,
                    395591396,
                    135723538,
                    295998468,
                    136689549,
                    110649992,
                    323437194,
                    116144341,
                    608228647,
                    180577478,
                    809306935,
                    614555082,
                    78139948,
                    322336177,
                    349585590,
                    674772936,
                    432719968,
                    88103848,
                    1575467011,
                    91656026,
                    539595276,
                    578207856,
                    775542072,
                    656013912,
                    611994237,
                    1230855859,
                    240684449,
                    236940480,
                    393230256,
                    673801126,
                    540539717,
                    383550148,
                    530511203,
                    1445941661,
                    1763363713,
                    374191487,
                    436695353,
                    421040617,
                    354065229,
                    311395144,
                    672656250,
                    686734357,
                    261414174,
                    610045621,
                    1115880852,
                    594482982,
                    566954746,
                    374706940,
                    184937148,
                    60680939,
                    1699402402,
                    154797871,
                    261286503,
                    422691058,
                    263894529,
                    956865266,
                    427486004,
                    355219175,
                    489945871,
                    1223481149,
                    720825549,
                    593917618,
                    200972675,
                    560222750,
                    528544703,
                    2159346687,
                    651732901,
                    863756573,
                    1695712020,
                    223319934,
                    54937991,
                    226897599,
                    258316038,
                    596152090,
                    177129919,
                    716591492,
                    1210599487,
                    146789379,
                    843309044,
                    107255472,
                    135079152,
                    426204830,
                    327498031,
                    245400167,
                    579395142,
                    675039469,
                    252871192,
                    918915401,
                    1180896317,
                    143139338,
                    209768491,
                    64714573,
                    291709698,
                    81350745,
                    64787943,
                    2484812918,
                    461437791,
                    759208783,
                    299634472,
                    756907987,
                    208166039,
                    94616487,
                    109091573,
                    153240879,
                    2204080728,
                    2591224264,
                    1457139296,
                    236872197,
                    349746291,
                    273005485,
                    75476209,
                    187772591,
                    178512385,
                    118381354,
                    176290831,
                    106933107,
                    197643795,
                    933815613,
                    120847157,
                    237351106,
                    127309180,
                    271666301,
                    123216717,
                    479655659,
                    344055883,
                    68895644,
                    86176890,
                    319546754,
                    76831876,
                    307752576,
                    1304313953,
                    58687425,
                    212109195,
                    164163229,
                    284249832,
                    33381454,
                    184622518,
                    300983101,
                    121077868,
                    106919680,
                    240580042,
                    136676504,
                    190625045,
                    333146475,
                    194902696,
                    248511839,
                    383835984,
                    160845341,
                    295307001,
                    138334433,
                    286739476,
                    279717388,
                    130419412,
                    85924992,
                    176103902,
                    121189256,
                    129314708,
                    219196651,
                    170732845,
                    287278853,
                    123473120,
                    295152154,
                    323455692,
                    240918092,
                    191873381,
                    284216603,
                    244585109,
                    47093942,
                    209106362,
                    84697729,
                    159240673,
                    140430339,
                    146223492,
                    187701588,
                    154863153,
                    191333656,
                    170413877,
                    141720999,
                    198365537,
                    71095708,
                    112436403,
                    106249219,
                    73513683,
                    133895612
                  ]
                },
                {
                  "marker": {
                    "color": "green"
                  },
                  "name": "One artist",
                  "type": "box",
                  "y": [
                    133716286,
                    140003974,
                    800840817,
                    303236322,
                    58149378,
                    95217315,
                    58255150,
                    1316855716,
                    387570742,
                    2513188493,
                    1163093654,
                    496795686,
                    30546883,
                    363369738,
                    52135248,
                    1297026226,
                    78300654,
                    429829812,
                    127408954,
                    22581161,
                    999748277,
                    1355959075,
                    786181836,
                    176553476,
                    570515054,
                    1085685420,
                    1647990401,
                    153372011,
                    57876440,
                    1813673666,
                    3703895074,
                    256483385,
                    1214083358,
                    16011326,
                    812019557,
                    1755214421,
                    404562836,
                    373199958,
                    14780425,
                    39578178,
                    2557975762,
                    751134527,
                    2282771485,
                    1592909789,
                    635412045,
                    43857627,
                    2009094673,
                    39228929,
                    2887241814,
                    165484133,
                    157058870,
                    95131998,
                    685032533,
                    38411956,
                    127567540,
                    399686758,
                    983637508,
                    118482347,
                    882831184,
                    172825906,
                    1241559043,
                    29562220,
                    77309611,
                    1116995633,
                    838079900,
                    1163620694,
                    179659294,
                    36912123,
                    1205951614,
                    1791000570,
                    201660859,
                    607123776,
                    342897938,
                    330346424,
                    601863821,
                    2322580122,
                    96273746,
                    430977451,
                    284819874,
                    1217120710,
                    2559529074,
                    681583126,
                    2594040133,
                    1687664027,
                    1089402494,
                    411747614,
                    255932395,
                    31873544,
                    95053634,
                    1481349984,
                    2011464183,
                    1167330737,
                    929964809,
                    657723613,
                    621660989,
                    1591223784,
                    950906471,
                    1593270737,
                    1410088830,
                    1661187319,
                    1374581173,
                    1788326445,
                    1840364617,
                    143573775,
                    684675814,
                    1113838873,
                    1267333350,
                    726307468,
                    3562543890,
                    1131090940,
                    1271293243,
                    265882712,
                    841749534,
                    47956378,
                    806397070,
                    2132335812,
                    1641426668,
                    2135158446,
                    350381515,
                    1264310836,
                    30343206,
                    405136812,
                    1145727611,
                    540654286,
                    397582059,
                    1479115056,
                    123124076,
                    65496046,
                    68616963,
                    232896922,
                    195576623,
                    345031710,
                    335074782,
                    76767396,
                    459276435,
                    822633917,
                    595900742,
                    175097833,
                    488386797,
                    1047480053,
                    153454328,
                    217672943,
                    457184829,
                    939844851,
                    726434358,
                    1406111294,
                    145458418,
                    1424589568,
                    415932686,
                    988515741,
                    39893489,
                    118810253,
                    206399629,
                    117747907,
                    293186992,
                    139681964,
                    123132751,
                    103762518,
                    91221625,
                    190490915,
                    185240616,
                    885093467,
                    1302184087,
                    137123880,
                    782369383,
                    502574952,
                    404887295,
                    381161027,
                    466231982,
                    357580552,
                    168448603,
                    482175240,
                    1449799467,
                    173627354,
                    1829992958,
                    117206995,
                    52722996,
                    191945597,
                    743693613,
                    267789608,
                    449701773,
                    67070410,
                    433356509,
                    165584767,
                    367814306,
                    156214700,
                    448843705,
                    972164968,
                    920045682,
                    2420461338,
                    1947371785,
                    244658767,
                    68216992,
                    272377463,
                    1361425037,
                    148469433,
                    88791109,
                    125917280,
                    95623148,
                    144584800,
                    298063749,
                    166570053,
                    83021468,
                    303216294,
                    81419389,
                    156777415,
                    284908316,
                    363472647,
                    372476382,
                    56533272,
                    175399345,
                    203221468,
                    1624165576,
                    134294498,
                    70069745,
                    671365962,
                    362361576,
                    1022258230,
                    147538971,
                    698086140,
                    723894473,
                    34450974,
                    403097450,
                    319566866,
                    909001996,
                    32526947,
                    124988687,
                    134255790,
                    301051721,
                    156338624,
                    309653982,
                    297328960,
                    332506354,
                    480507035,
                    122763672,
                    445763624,
                    789753877,
                    338564981,
                    1606986953,
                    1301799902,
                    107642809,
                    551305895,
                    2303033973,
                    646886885,
                    872137015,
                    571386359,
                    284785823,
                    163284000,
                    246390068,
                    482257456,
                    168684524,
                    1260594497,
                    428685680,
                    1024858327,
                    838586769,
                    199386237,
                    1555511105,
                    210038833,
                    227918678,
                    826623384,
                    1329090101,
                    181831132,
                    348647203,
                    1449779435,
                    1159176109,
                    769213520,
                    741301563,
                    807561936,
                    834129063,
                    663832097,
                    446390129,
                    690104769,
                    485285717,
                    520034544,
                    476244795,
                    629173063,
                    404664135,
                    98709329,
                    110849052,
                    395591396,
                    389771964,
                    403939487,
                    481697415,
                    88092256,
                    351636786,
                    73981293,
                    429504768,
                    242767149,
                    65362788,
                    67540165,
                    62019074,
                    261116938,
                    135611421,
                    356709897,
                    301869854,
                    127027715,
                    57144458,
                    56870689,
                    317726339,
                    328207708,
                    49262961,
                    245350949,
                    178660459,
                    51641685,
                    1007612429,
                    326792833,
                    391251368,
                    339659802,
                    1309887447,
                    119238316,
                    116903579,
                    888046992,
                    200660871,
                    130655803,
                    1887039593,
                    101114984,
                    1042568408,
                    1735441776,
                    726837877,
                    53933526,
                    267758538,
                    74601456,
                    920797189,
                    1367810478,
                    863625566,
                    1056760045,
                    582981380,
                    1858144199,
                    583687007,
                    63803529,
                    466214729,
                    41924466,
                    225259194,
                    287201015,
                    599770206,
                    342779426,
                    1168642797,
                    37307967,
                    510876816,
                    108809090,
                    501541661,
                    1143647827,
                    1256880657,
                    1692897992,
                    245095641,
                    null,
                    31959571,
                    167076418,
                    824420218,
                    363467642,
                    1127468248,
                    247737946,
                    198883004,
                    124407432,
                    850608354,
                    376333030,
                    516784627,
                    1608045237,
                    506778838,
                    1472799873,
                    513643924,
                    783706581,
                    1062345656,
                    1252563873,
                    851070493,
                    345903614,
                    951637566,
                    156658366,
                    624515457,
                    777765388,
                    412795151,
                    1138474110,
                    290228626,
                    1062956628,
                    1180094974,
                    1456081449,
                    432702334,
                    465959382,
                    2864791672,
                    2288695111,
                    2086124197,
                    1690192927,
                    991336132,
                    71014967,
                    1806617704,
                    77337771,
                    865640097,
                    211372494,
                    608334048,
                    797402345,
                    1759567999,
                    246376690,
                    496311364,
                    500340342,
                    822239726,
                    1202722675,
                    343197054,
                    240769997,
                    421135627,
                    554875730,
                    467727006,
                    185408548,
                    231996128,
                    1929770265,
                    498960285,
                    685071800,
                    258714692,
                    50746620,
                    154119539,
                    181328253,
                    370068639,
                    2280566092,
                    563902868,
                    317622165,
                    203680270,
                    282883169,
                    1439191367,
                    368646862,
                    682475162,
                    546191065,
                    229473310,
                    202677468,
                    121913181,
                    527033089,
                    394030335,
                    193443895,
                    299648208,
                    182978249,
                    319757142,
                    346127840,
                    312622938,
                    2197010679,
                    1200808494,
                    797196073,
                    1970673297,
                    665765558,
                    263779030,
                    339473453,
                    135444283,
                    694525298,
                    240661097,
                    421365166,
                    255120451,
                    190981339,
                    924193303,
                    305771063,
                    89566512,
                    677389855,
                    408843328,
                    101780047,
                    146363130,
                    126443991,
                    157990698,
                    1023187129,
                    139193812,
                    212234990,
                    1714490998,
                    807015863,
                    499710590,
                    53909146,
                    2236667932,
                    2123309722,
                    301242089,
                    723894473,
                    461558540,
                    417230415,
                    156898322,
                    313113297,
                    173702135,
                    305650299,
                    126191104,
                    338422004,
                    403231558,
                    61739839,
                    283359161,
                    283332261,
                    279737940,
                    212351890,
                    150500965,
                    246127838,
                    582863434,
                    382199619,
                    41210087,
                    231657891,
                    53729194,
                    244741137,
                    42485571,
                    37778188,
                    254218729,
                    53603447,
                    160035717,
                    37091576,
                    136996305,
                    65719930,
                    229497852,
                    185550869,
                    54682594,
                    1284942608,
                    71423324,
                    244891912,
                    132171975,
                    184706613,
                    184826429,
                    302006641,
                    330881149,
                    334733572,
                    366214458,
                    114546317,
                    290833204,
                    448500832,
                    79095270,
                    273194684,
                    311482393,
                    195918494,
                    233671263,
                    199587884,
                    91781263,
                    236060709,
                    189236868,
                    588955257,
                    238350348,
                    187703102,
                    445590495,
                    1122364376,
                    157136970,
                    137070925,
                    183273246,
                    184807630,
                    164856284,
                    704171068,
                    354614964,
                    195628667,
                    221752937,
                    263280370,
                    213505179,
                    155795783,
                    1553497987,
                    293466523,
                    711366595,
                    191448892,
                    131746175,
                    244790012,
                    331511413,
                    273914335,
                    179061440,
                    185236961,
                    171788484,
                    387080183,
                    264717480,
                    244928911,
                    97610446,
                    887906111,
                    239411309,
                    265548837,
                    703301727,
                    189476119,
                    277132266,
                    278920007,
                    222410722,
                    185392587,
                    202452860,
                    1608164312,
                    624101957,
                    148461629,
                    380319238,
                    53987404,
                    115331792,
                    225093344,
                    170709584,
                    154356956,
                    723043854,
                    247689123,
                    176474912,
                    235549288,
                    85559365,
                    253650850,
                    223064273,
                    218320587,
                    187339835,
                    186104310,
                    177503916,
                    203436468,
                    93367537,
                    181382590,
                    91473363,
                    121871870,
                    96007391
                  ]
                }
              ],
              "layout": {
                "template": {
                  "data": {
                    "bar": [
                      {
                        "error_x": {
                          "color": "#2a3f5f"
                        },
                        "error_y": {
                          "color": "#2a3f5f"
                        },
                        "marker": {
                          "line": {
                            "color": "#E5ECF6",
                            "width": 0.5
                          },
                          "pattern": {
                            "fillmode": "overlay",
                            "size": 10,
                            "solidity": 0.2
                          }
                        },
                        "type": "bar"
                      }
                    ],
                    "barpolar": [
                      {
                        "marker": {
                          "line": {
                            "color": "#E5ECF6",
                            "width": 0.5
                          },
                          "pattern": {
                            "fillmode": "overlay",
                            "size": 10,
                            "solidity": 0.2
                          }
                        },
                        "type": "barpolar"
                      }
                    ],
                    "carpet": [
                      {
                        "aaxis": {
                          "endlinecolor": "#2a3f5f",
                          "gridcolor": "white",
                          "linecolor": "white",
                          "minorgridcolor": "white",
                          "startlinecolor": "#2a3f5f"
                        },
                        "baxis": {
                          "endlinecolor": "#2a3f5f",
                          "gridcolor": "white",
                          "linecolor": "white",
                          "minorgridcolor": "white",
                          "startlinecolor": "#2a3f5f"
                        },
                        "type": "carpet"
                      }
                    ],
                    "choropleth": [
                      {
                        "colorbar": {
                          "outlinewidth": 0,
                          "ticks": ""
                        },
                        "type": "choropleth"
                      }
                    ],
                    "contour": [
                      {
                        "colorbar": {
                          "outlinewidth": 0,
                          "ticks": ""
                        },
                        "colorscale": [
                          [
                            0,
                            "#0d0887"
                          ],
                          [
                            0.1111111111111111,
                            "#46039f"
                          ],
                          [
                            0.2222222222222222,
                            "#7201a8"
                          ],
                          [
                            0.3333333333333333,
                            "#9c179e"
                          ],
                          [
                            0.4444444444444444,
                            "#bd3786"
                          ],
                          [
                            0.5555555555555556,
                            "#d8576b"
                          ],
                          [
                            0.6666666666666666,
                            "#ed7953"
                          ],
                          [
                            0.7777777777777778,
                            "#fb9f3a"
                          ],
                          [
                            0.8888888888888888,
                            "#fdca26"
                          ],
                          [
                            1,
                            "#f0f921"
                          ]
                        ],
                        "type": "contour"
                      }
                    ],
                    "contourcarpet": [
                      {
                        "colorbar": {
                          "outlinewidth": 0,
                          "ticks": ""
                        },
                        "type": "contourcarpet"
                      }
                    ],
                    "heatmap": [
                      {
                        "colorbar": {
                          "outlinewidth": 0,
                          "ticks": ""
                        },
                        "colorscale": [
                          [
                            0,
                            "#0d0887"
                          ],
                          [
                            0.1111111111111111,
                            "#46039f"
                          ],
                          [
                            0.2222222222222222,
                            "#7201a8"
                          ],
                          [
                            0.3333333333333333,
                            "#9c179e"
                          ],
                          [
                            0.4444444444444444,
                            "#bd3786"
                          ],
                          [
                            0.5555555555555556,
                            "#d8576b"
                          ],
                          [
                            0.6666666666666666,
                            "#ed7953"
                          ],
                          [
                            0.7777777777777778,
                            "#fb9f3a"
                          ],
                          [
                            0.8888888888888888,
                            "#fdca26"
                          ],
                          [
                            1,
                            "#f0f921"
                          ]
                        ],
                        "type": "heatmap"
                      }
                    ],
                    "heatmapgl": [
                      {
                        "colorbar": {
                          "outlinewidth": 0,
                          "ticks": ""
                        },
                        "colorscale": [
                          [
                            0,
                            "#0d0887"
                          ],
                          [
                            0.1111111111111111,
                            "#46039f"
                          ],
                          [
                            0.2222222222222222,
                            "#7201a8"
                          ],
                          [
                            0.3333333333333333,
                            "#9c179e"
                          ],
                          [
                            0.4444444444444444,
                            "#bd3786"
                          ],
                          [
                            0.5555555555555556,
                            "#d8576b"
                          ],
                          [
                            0.6666666666666666,
                            "#ed7953"
                          ],
                          [
                            0.7777777777777778,
                            "#fb9f3a"
                          ],
                          [
                            0.8888888888888888,
                            "#fdca26"
                          ],
                          [
                            1,
                            "#f0f921"
                          ]
                        ],
                        "type": "heatmapgl"
                      }
                    ],
                    "histogram": [
                      {
                        "marker": {
                          "pattern": {
                            "fillmode": "overlay",
                            "size": 10,
                            "solidity": 0.2
                          }
                        },
                        "type": "histogram"
                      }
                    ],
                    "histogram2d": [
                      {
                        "colorbar": {
                          "outlinewidth": 0,
                          "ticks": ""
                        },
                        "colorscale": [
                          [
                            0,
                            "#0d0887"
                          ],
                          [
                            0.1111111111111111,
                            "#46039f"
                          ],
                          [
                            0.2222222222222222,
                            "#7201a8"
                          ],
                          [
                            0.3333333333333333,
                            "#9c179e"
                          ],
                          [
                            0.4444444444444444,
                            "#bd3786"
                          ],
                          [
                            0.5555555555555556,
                            "#d8576b"
                          ],
                          [
                            0.6666666666666666,
                            "#ed7953"
                          ],
                          [
                            0.7777777777777778,
                            "#fb9f3a"
                          ],
                          [
                            0.8888888888888888,
                            "#fdca26"
                          ],
                          [
                            1,
                            "#f0f921"
                          ]
                        ],
                        "type": "histogram2d"
                      }
                    ],
                    "histogram2dcontour": [
                      {
                        "colorbar": {
                          "outlinewidth": 0,
                          "ticks": ""
                        },
                        "colorscale": [
                          [
                            0,
                            "#0d0887"
                          ],
                          [
                            0.1111111111111111,
                            "#46039f"
                          ],
                          [
                            0.2222222222222222,
                            "#7201a8"
                          ],
                          [
                            0.3333333333333333,
                            "#9c179e"
                          ],
                          [
                            0.4444444444444444,
                            "#bd3786"
                          ],
                          [
                            0.5555555555555556,
                            "#d8576b"
                          ],
                          [
                            0.6666666666666666,
                            "#ed7953"
                          ],
                          [
                            0.7777777777777778,
                            "#fb9f3a"
                          ],
                          [
                            0.8888888888888888,
                            "#fdca26"
                          ],
                          [
                            1,
                            "#f0f921"
                          ]
                        ],
                        "type": "histogram2dcontour"
                      }
                    ],
                    "mesh3d": [
                      {
                        "colorbar": {
                          "outlinewidth": 0,
                          "ticks": ""
                        },
                        "type": "mesh3d"
                      }
                    ],
                    "parcoords": [
                      {
                        "line": {
                          "colorbar": {
                            "outlinewidth": 0,
                            "ticks": ""
                          }
                        },
                        "type": "parcoords"
                      }
                    ],
                    "pie": [
                      {
                        "automargin": true,
                        "type": "pie"
                      }
                    ],
                    "scatter": [
                      {
                        "fillpattern": {
                          "fillmode": "overlay",
                          "size": 10,
                          "solidity": 0.2
                        },
                        "type": "scatter"
                      }
                    ],
                    "scatter3d": [
                      {
                        "line": {
                          "colorbar": {
                            "outlinewidth": 0,
                            "ticks": ""
                          }
                        },
                        "marker": {
                          "colorbar": {
                            "outlinewidth": 0,
                            "ticks": ""
                          }
                        },
                        "type": "scatter3d"
                      }
                    ],
                    "scattercarpet": [
                      {
                        "marker": {
                          "colorbar": {
                            "outlinewidth": 0,
                            "ticks": ""
                          }
                        },
                        "type": "scattercarpet"
                      }
                    ],
                    "scattergeo": [
                      {
                        "marker": {
                          "colorbar": {
                            "outlinewidth": 0,
                            "ticks": ""
                          }
                        },
                        "type": "scattergeo"
                      }
                    ],
                    "scattergl": [
                      {
                        "marker": {
                          "colorbar": {
                            "outlinewidth": 0,
                            "ticks": ""
                          }
                        },
                        "type": "scattergl"
                      }
                    ],
                    "scattermapbox": [
                      {
                        "marker": {
                          "colorbar": {
                            "outlinewidth": 0,
                            "ticks": ""
                          }
                        },
                        "type": "scattermapbox"
                      }
                    ],
                    "scatterpolar": [
                      {
                        "marker": {
                          "colorbar": {
                            "outlinewidth": 0,
                            "ticks": ""
                          }
                        },
                        "type": "scatterpolar"
                      }
                    ],
                    "scatterpolargl": [
                      {
                        "marker": {
                          "colorbar": {
                            "outlinewidth": 0,
                            "ticks": ""
                          }
                        },
                        "type": "scatterpolargl"
                      }
                    ],
                    "scatterternary": [
                      {
                        "marker": {
                          "colorbar": {
                            "outlinewidth": 0,
                            "ticks": ""
                          }
                        },
                        "type": "scatterternary"
                      }
                    ],
                    "surface": [
                      {
                        "colorbar": {
                          "outlinewidth": 0,
                          "ticks": ""
                        },
                        "colorscale": [
                          [
                            0,
                            "#0d0887"
                          ],
                          [
                            0.1111111111111111,
                            "#46039f"
                          ],
                          [
                            0.2222222222222222,
                            "#7201a8"
                          ],
                          [
                            0.3333333333333333,
                            "#9c179e"
                          ],
                          [
                            0.4444444444444444,
                            "#bd3786"
                          ],
                          [
                            0.5555555555555556,
                            "#d8576b"
                          ],
                          [
                            0.6666666666666666,
                            "#ed7953"
                          ],
                          [
                            0.7777777777777778,
                            "#fb9f3a"
                          ],
                          [
                            0.8888888888888888,
                            "#fdca26"
                          ],
                          [
                            1,
                            "#f0f921"
                          ]
                        ],
                        "type": "surface"
                      }
                    ],
                    "table": [
                      {
                        "cells": {
                          "fill": {
                            "color": "#EBF0F8"
                          },
                          "line": {
                            "color": "white"
                          }
                        },
                        "header": {
                          "fill": {
                            "color": "#C8D4E3"
                          },
                          "line": {
                            "color": "white"
                          }
                        },
                        "type": "table"
                      }
                    ]
                  },
                  "layout": {
                    "annotationdefaults": {
                      "arrowcolor": "#2a3f5f",
                      "arrowhead": 0,
                      "arrowwidth": 1
                    },
                    "autotypenumbers": "strict",
                    "coloraxis": {
                      "colorbar": {
                        "outlinewidth": 0,
                        "ticks": ""
                      }
                    },
                    "colorscale": {
                      "diverging": [
                        [
                          0,
                          "#8e0152"
                        ],
                        [
                          0.1,
                          "#c51b7d"
                        ],
                        [
                          0.2,
                          "#de77ae"
                        ],
                        [
                          0.3,
                          "#f1b6da"
                        ],
                        [
                          0.4,
                          "#fde0ef"
                        ],
                        [
                          0.5,
                          "#f7f7f7"
                        ],
                        [
                          0.6,
                          "#e6f5d0"
                        ],
                        [
                          0.7,
                          "#b8e186"
                        ],
                        [
                          0.8,
                          "#7fbc41"
                        ],
                        [
                          0.9,
                          "#4d9221"
                        ],
                        [
                          1,
                          "#276419"
                        ]
                      ],
                      "sequential": [
                        [
                          0,
                          "#0d0887"
                        ],
                        [
                          0.1111111111111111,
                          "#46039f"
                        ],
                        [
                          0.2222222222222222,
                          "#7201a8"
                        ],
                        [
                          0.3333333333333333,
                          "#9c179e"
                        ],
                        [
                          0.4444444444444444,
                          "#bd3786"
                        ],
                        [
                          0.5555555555555556,
                          "#d8576b"
                        ],
                        [
                          0.6666666666666666,
                          "#ed7953"
                        ],
                        [
                          0.7777777777777778,
                          "#fb9f3a"
                        ],
                        [
                          0.8888888888888888,
                          "#fdca26"
                        ],
                        [
                          1,
                          "#f0f921"
                        ]
                      ],
                      "sequentialminus": [
                        [
                          0,
                          "#0d0887"
                        ],
                        [
                          0.1111111111111111,
                          "#46039f"
                        ],
                        [
                          0.2222222222222222,
                          "#7201a8"
                        ],
                        [
                          0.3333333333333333,
                          "#9c179e"
                        ],
                        [
                          0.4444444444444444,
                          "#bd3786"
                        ],
                        [
                          0.5555555555555556,
                          "#d8576b"
                        ],
                        [
                          0.6666666666666666,
                          "#ed7953"
                        ],
                        [
                          0.7777777777777778,
                          "#fb9f3a"
                        ],
                        [
                          0.8888888888888888,
                          "#fdca26"
                        ],
                        [
                          1,
                          "#f0f921"
                        ]
                      ]
                    },
                    "colorway": [
                      "#636efa",
                      "#EF553B",
                      "#00cc96",
                      "#ab63fa",
                      "#FFA15A",
                      "#19d3f3",
                      "#FF6692",
                      "#B6E880",
                      "#FF97FF",
                      "#FECB52"
                    ],
                    "font": {
                      "color": "#2a3f5f"
                    },
                    "geo": {
                      "bgcolor": "white",
                      "lakecolor": "white",
                      "landcolor": "#E5ECF6",
                      "showlakes": true,
                      "showland": true,
                      "subunitcolor": "white"
                    },
                    "hoverlabel": {
                      "align": "left"
                    },
                    "hovermode": "closest",
                    "mapbox": {
                      "style": "light"
                    },
                    "paper_bgcolor": "white",
                    "plot_bgcolor": "#E5ECF6",
                    "polar": {
                      "angularaxis": {
                        "gridcolor": "white",
                        "linecolor": "white",
                        "ticks": ""
                      },
                      "bgcolor": "#E5ECF6",
                      "radialaxis": {
                        "gridcolor": "white",
                        "linecolor": "white",
                        "ticks": ""
                      }
                    },
                    "scene": {
                      "xaxis": {
                        "backgroundcolor": "#E5ECF6",
                        "gridcolor": "white",
                        "gridwidth": 2,
                        "linecolor": "white",
                        "showbackground": true,
                        "ticks": "",
                        "zerolinecolor": "white"
                      },
                      "yaxis": {
                        "backgroundcolor": "#E5ECF6",
                        "gridcolor": "white",
                        "gridwidth": 2,
                        "linecolor": "white",
                        "showbackground": true,
                        "ticks": "",
                        "zerolinecolor": "white"
                      },
                      "zaxis": {
                        "backgroundcolor": "#E5ECF6",
                        "gridcolor": "white",
                        "gridwidth": 2,
                        "linecolor": "white",
                        "showbackground": true,
                        "ticks": "",
                        "zerolinecolor": "white"
                      }
                    },
                    "shapedefaults": {
                      "line": {
                        "color": "#2a3f5f"
                      }
                    },
                    "ternary": {
                      "aaxis": {
                        "gridcolor": "white",
                        "linecolor": "white",
                        "ticks": ""
                      },
                      "baxis": {
                        "gridcolor": "white",
                        "linecolor": "white",
                        "ticks": ""
                      },
                      "bgcolor": "#E5ECF6",
                      "caxis": {
                        "gridcolor": "white",
                        "linecolor": "white",
                        "ticks": ""
                      }
                    },
                    "title": {
                      "x": 0.05
                    },
                    "xaxis": {
                      "automargin": true,
                      "gridcolor": "white",
                      "linecolor": "white",
                      "ticks": "",
                      "title": {
                        "standoff": 15
                      },
                      "zerolinecolor": "white",
                      "zerolinewidth": 2
                    },
                    "yaxis": {
                      "automargin": true,
                      "gridcolor": "white",
                      "linecolor": "white",
                      "ticks": "",
                      "title": {
                        "standoff": 15
                      },
                      "zerolinecolor": "white",
                      "zerolinewidth": 2
                    }
                  }
                }
              }
            }
          },
          "metadata": {},
          "output_type": "display_data"
        }
      ],
      "source": [
        "fig = go.Figure()\n",
        "\n",
        "fig.add_trace(go.Box(\n",
        "    y = df[df[\"more_artists\"]==True][\"streams\"],\n",
        "    name = \"Many artists\",\n",
        "    marker_color = \"blue\"\n",
        "))\n",
        "\n",
        "fig.add_trace(go.Box(\n",
        "    y = df[df[\"more_artists\"]==False][\"streams\"],\n",
        "    name = \"One artist\",\n",
        "    marker_color = \"green\",\n",
        "))\n",
        "\n",
        "fig.show()"
      ]
    },
    {
      "cell_type": "code",
      "execution_count": 35,
      "metadata": {},
      "outputs": [
        {
          "name": "stdout",
          "output_type": "stream",
          "text": [
            "                      artist_count  released_year  released_month  \\\n",
            "artist_count              1.000000       0.087586        0.037995   \n",
            "released_year             0.087586       1.000000        0.076714   \n",
            "released_month            0.037995       0.076714        1.000000   \n",
            "released_day             -0.017549       0.174282        0.080313   \n",
            "in_spotify_playlists     -0.101966      -0.392204       -0.104757   \n",
            "in_spotify_charts        -0.018507       0.069678       -0.047623   \n",
            "streams                  -0.136463      -0.230803       -0.024938   \n",
            "in_apple_playlists       -0.051074      -0.198998       -0.000164   \n",
            "in_apple_charts          -0.088597      -0.035842       -0.019064   \n",
            "in_deezer_charts         -0.003732       0.095389       -0.005286   \n",
            "bpm                      -0.038375      -0.005334       -0.039252   \n",
            "danceability_%            0.207027       0.187333       -0.046403   \n",
            "valence_%                 0.127960      -0.059355       -0.118571   \n",
            "energy_%                  0.137096       0.095226       -0.083710   \n",
            "acousticness_%           -0.101061      -0.124156        0.054430   \n",
            "instrumentalness_%       -0.050225      -0.014562        0.033985   \n",
            "liveness_%                0.042730      -0.005819       -0.012348   \n",
            "speechiness_%             0.119900       0.133819        0.039838   \n",
            "\n",
            "                      released_day  in_spotify_playlists  in_spotify_charts  \\\n",
            "artist_count             -0.017549             -0.101966          -0.018507   \n",
            "released_year             0.174282             -0.392204           0.069678   \n",
            "released_month            0.080313             -0.104757          -0.047623   \n",
            "released_day              1.000000             -0.079669           0.021877   \n",
            "in_spotify_playlists     -0.079669              1.000000           0.164331   \n",
            "in_spotify_charts         0.021877              0.164331           1.000000   \n",
            "streams                   0.010598              0.789822           0.245821   \n",
            "in_apple_playlists        0.026410              0.708277           0.233354   \n",
            "in_apple_charts           0.011086              0.271317           0.552232   \n",
            "in_deezer_charts          0.073288              0.144342           0.600205   \n",
            "bpm                      -0.030177             -0.019598           0.034713   \n",
            "danceability_%            0.048951             -0.106534           0.030071   \n",
            "valence_%                 0.042779             -0.021883           0.035531   \n",
            "energy_%                  0.050545              0.033808           0.081920   \n",
            "acousticness_%           -0.005788             -0.064421          -0.054987   \n",
            "instrumentalness_%        0.019280             -0.028134          -0.010146   \n",
            "liveness_%                0.001566             -0.046695          -0.047552   \n",
            "speechiness_%            -0.015826             -0.089722          -0.081765   \n",
            "\n",
            "                       streams  in_apple_playlists  in_apple_charts  \\\n",
            "artist_count         -0.136463           -0.051074        -0.088597   \n",
            "released_year        -0.230803           -0.198998        -0.035842   \n",
            "released_month       -0.024938           -0.000164        -0.019064   \n",
            "released_day          0.010598            0.026410         0.011086   \n",
            "in_spotify_playlists  0.789822            0.708277         0.271317   \n",
            "in_spotify_charts     0.245821            0.233354         0.552232   \n",
            "streams               1.000000            0.772063         0.320234   \n",
            "in_apple_playlists    0.772063            1.000000         0.414523   \n",
            "in_apple_charts       0.320234            0.414523         1.000000   \n",
            "in_deezer_charts      0.228598            0.369032         0.383668   \n",
            "bpm                  -0.002438            0.023725         0.030962   \n",
            "danceability_%       -0.105457           -0.025326        -0.025204   \n",
            "valence_%            -0.040831            0.057075         0.047733   \n",
            "energy_%             -0.026051            0.052615         0.104828   \n",
            "acousticness_%       -0.004485           -0.061781        -0.076793   \n",
            "instrumentalness_%   -0.044902           -0.057219        -0.013145   \n",
            "liveness_%           -0.048337           -0.049596        -0.018733   \n",
            "speechiness_%        -0.112333           -0.108011        -0.151539   \n",
            "\n",
            "                      in_deezer_charts       bpm  danceability_%  valence_%  \\\n",
            "artist_count                 -0.003732 -0.038375        0.207027   0.127960   \n",
            "released_year                 0.095389 -0.005334        0.187333  -0.059355   \n",
            "released_month               -0.005286 -0.039252       -0.046403  -0.118571   \n",
            "released_day                  0.073288 -0.030177        0.048951   0.042779   \n",
            "in_spotify_playlists          0.144342 -0.019598       -0.106534  -0.021883   \n",
            "in_spotify_charts             0.600205  0.034713        0.030071   0.035531   \n",
            "streams                       0.228598 -0.002438       -0.105457  -0.040831   \n",
            "in_apple_playlists            0.369032  0.023725       -0.025326   0.057075   \n",
            "in_apple_charts               0.383668  0.030962       -0.025204   0.047733   \n",
            "in_deezer_charts              1.000000  0.028036        0.070913   0.076196   \n",
            "bpm                           0.028036  1.000000       -0.147095   0.041195   \n",
            "danceability_%                0.070913 -0.147095        1.000000   0.408451   \n",
            "valence_%                     0.076196  0.041195        0.408451   1.000000   \n",
            "energy_%                      0.094627  0.025794        0.198095   0.357612   \n",
            "acousticness_%               -0.029361 -0.017694       -0.236165  -0.081907   \n",
            "instrumentalness_%            0.005398 -0.001195       -0.089138  -0.132890   \n",
            "liveness_%                   -0.007568 -0.000761       -0.077538   0.021278   \n",
            "speechiness_%                -0.080555  0.039260        0.184977   0.041081   \n",
            "\n",
            "                      energy_%  acousticness_%  instrumentalness_%  \\\n",
            "artist_count          0.137096       -0.101061           -0.050225   \n",
            "released_year         0.095226       -0.124156           -0.014562   \n",
            "released_month       -0.083710        0.054430            0.033985   \n",
            "released_day          0.050545       -0.005788            0.019280   \n",
            "in_spotify_playlists  0.033808       -0.064421           -0.028134   \n",
            "in_spotify_charts     0.081920       -0.054987           -0.010146   \n",
            "streams              -0.026051       -0.004485           -0.044902   \n",
            "in_apple_playlists    0.052615       -0.061781           -0.057219   \n",
            "in_apple_charts       0.104828       -0.076793           -0.013145   \n",
            "in_deezer_charts      0.094627       -0.029361            0.005398   \n",
            "bpm                   0.025794       -0.017694           -0.001195   \n",
            "danceability_%        0.198095       -0.236165           -0.089138   \n",
            "valence_%             0.357612       -0.081907           -0.132890   \n",
            "energy_%              1.000000       -0.577344           -0.038547   \n",
            "acousticness_%       -0.577344        1.000000            0.042796   \n",
            "instrumentalness_%   -0.038547        0.042796            1.000000   \n",
            "liveness_%            0.117302       -0.050142           -0.045967   \n",
            "speechiness_%        -0.004846       -0.022501           -0.083396   \n",
            "\n",
            "                      liveness_%  speechiness_%  \n",
            "artist_count            0.042730       0.119900  \n",
            "released_year          -0.005819       0.133819  \n",
            "released_month         -0.012348       0.039838  \n",
            "released_day            0.001566      -0.015826  \n",
            "in_spotify_playlists   -0.046695      -0.089722  \n",
            "in_spotify_charts      -0.047552      -0.081765  \n",
            "streams                -0.048337      -0.112333  \n",
            "in_apple_playlists     -0.049596      -0.108011  \n",
            "in_apple_charts        -0.018733      -0.151539  \n",
            "in_deezer_charts       -0.007568      -0.080555  \n",
            "bpm                    -0.000761       0.039260  \n",
            "danceability_%         -0.077538       0.184977  \n",
            "valence_%               0.021278       0.041081  \n",
            "energy_%                0.117302      -0.004846  \n",
            "acousticness_%         -0.050142      -0.022501  \n",
            "instrumentalness_%     -0.045967      -0.083396  \n",
            "liveness_%              1.000000      -0.022525  \n",
            "speechiness_%          -0.022525       1.000000  \n"
          ]
        },
        {
          "data": {
            "application/vnd.plotly.v1+json": {
              "config": {
                "plotlyServerURL": "https://plot.ly"
              },
              "data": [
                {
                  "coloraxis": "coloraxis",
                  "hovertemplate": "x: %{x}<br>y: %{y}<br>color: %{z}<extra></extra>",
                  "name": "0",
                  "type": "heatmap",
                  "x": [
                    "artist_count",
                    "released_year",
                    "released_month",
                    "released_day",
                    "in_spotify_playlists",
                    "in_spotify_charts",
                    "streams",
                    "in_apple_playlists",
                    "in_apple_charts",
                    "in_deezer_charts",
                    "bpm",
                    "danceability_%",
                    "valence_%",
                    "energy_%",
                    "acousticness_%",
                    "instrumentalness_%",
                    "liveness_%",
                    "speechiness_%"
                  ],
                  "xaxis": "x",
                  "y": [
                    "artist_count",
                    "released_year",
                    "released_month",
                    "released_day",
                    "in_spotify_playlists",
                    "in_spotify_charts",
                    "streams",
                    "in_apple_playlists",
                    "in_apple_charts",
                    "in_deezer_charts",
                    "bpm",
                    "danceability_%",
                    "valence_%",
                    "energy_%",
                    "acousticness_%",
                    "instrumentalness_%",
                    "liveness_%",
                    "speechiness_%"
                  ],
                  "yaxis": "y",
                  "z": [
                    [
                      1,
                      0.08758619769468069,
                      0.03799458456050441,
                      -0.01754949152905714,
                      -0.10196589918270729,
                      -0.01850650651524199,
                      -0.1364634747824173,
                      -0.051073852330109755,
                      -0.08859660162012319,
                      -0.003731574346224385,
                      -0.03837538512333271,
                      0.20702676446608476,
                      0.127959881733415,
                      0.13709627268483093,
                      -0.10106139167561957,
                      -0.0502250907907609,
                      0.042730091468625296,
                      0.11989989292333003
                    ],
                    [
                      0.08758619769468069,
                      1,
                      0.07671440084951928,
                      0.17428180050649061,
                      -0.3922038568887926,
                      0.0696778410730965,
                      -0.23080298001658744,
                      -0.19899815130923887,
                      -0.035842142568556806,
                      0.09538908823216716,
                      -0.005333560009300616,
                      0.18733332896719546,
                      -0.059354792750434905,
                      0.09522584392211263,
                      -0.12415564183964546,
                      -0.014561696298256967,
                      -0.005819077724483149,
                      0.13381907660843495
                    ],
                    [
                      0.03799458456050441,
                      0.07671440084951928,
                      1,
                      0.08031320581579707,
                      -0.10475660889647924,
                      -0.04762337078403501,
                      -0.024937928598855495,
                      -0.00016351317445347093,
                      -0.019063630017936675,
                      -0.005285980810643522,
                      -0.03925224964651362,
                      -0.04640258389320854,
                      -0.11857126173795626,
                      -0.08371011487888788,
                      0.05442992684491474,
                      0.03398543343606111,
                      -0.012347574189325446,
                      0.039837623693255414
                    ],
                    [
                      -0.01754949152905714,
                      0.17428180050649061,
                      0.08031320581579707,
                      1,
                      -0.07966905870093602,
                      0.021876541686204183,
                      0.010597940412743126,
                      0.026409527018930054,
                      0.011085906382013566,
                      0.07328784660980427,
                      -0.030177092484574574,
                      0.04895135509462899,
                      0.04277890315486718,
                      0.05054542756173105,
                      -0.005788335956102158,
                      0.01927960824829092,
                      0.001565671270370418,
                      -0.015826256785264906
                    ],
                    [
                      -0.10196589918270729,
                      -0.3922038568887926,
                      -0.10475660889647924,
                      -0.07966905870093602,
                      1,
                      0.16433145454828366,
                      0.7898221599550613,
                      0.708277180655621,
                      0.2713172709026882,
                      0.14434226042978068,
                      -0.01959759975800961,
                      -0.10653367038753647,
                      -0.021882735587464903,
                      0.03380770772434547,
                      -0.06442070596396697,
                      -0.028133740598083455,
                      -0.046695347155763615,
                      -0.08972233188636587
                    ],
                    [
                      -0.01850650651524199,
                      0.0696778410730965,
                      -0.04762337078403501,
                      0.021876541686204183,
                      0.16433145454828366,
                      1,
                      0.24582119983366876,
                      0.233353547112023,
                      0.552232389934744,
                      0.6002054038320238,
                      0.03471278536114764,
                      0.03007130280230674,
                      0.0355309930475869,
                      0.08191992528277002,
                      -0.05498672408191746,
                      -0.010146449027038063,
                      -0.04755236634820574,
                      -0.0817645436777334
                    ],
                    [
                      -0.1364634747824173,
                      -0.23080298001658744,
                      -0.024937928598855495,
                      0.010597940412743126,
                      0.7898221599550613,
                      0.24582119983366876,
                      1,
                      0.7720629840820624,
                      0.32023434128277695,
                      0.22859797355472555,
                      -0.0024379081382712967,
                      -0.10545688369141895,
                      -0.040831367495159435,
                      -0.026051488364249,
                      -0.004484652700683855,
                      -0.044902473175109724,
                      -0.04833729577983247,
                      -0.11233299640338565
                    ],
                    [
                      -0.051073852330109755,
                      -0.19899815130923887,
                      -0.00016351317445347093,
                      0.026409527018930054,
                      0.708277180655621,
                      0.233353547112023,
                      0.7720629840820624,
                      1,
                      0.41452330571208246,
                      0.36903246180740806,
                      0.023725045410861616,
                      -0.025326235470128196,
                      0.05707478706578629,
                      0.05261524871883056,
                      -0.061780997909493506,
                      -0.05721879744731476,
                      -0.0495962741888433,
                      -0.1080110982874391
                    ],
                    [
                      -0.08859660162012319,
                      -0.035842142568556806,
                      -0.019063630017936675,
                      0.011085906382013566,
                      0.2713172709026882,
                      0.552232389934744,
                      0.32023434128277695,
                      0.41452330571208246,
                      1,
                      0.38366760449743265,
                      0.030961591631215854,
                      -0.025203867628097718,
                      0.0477329331878402,
                      0.1048283767647134,
                      -0.07679342498061872,
                      -0.01314517131255827,
                      -0.01873328393466035,
                      -0.15153919140002176
                    ],
                    [
                      -0.003731574346224385,
                      0.09538908823216716,
                      -0.005285980810643522,
                      0.07328784660980427,
                      0.14434226042978068,
                      0.6002054038320238,
                      0.22859797355472555,
                      0.36903246180740806,
                      0.38366760449743265,
                      1,
                      0.02803578713902619,
                      0.07091251939752759,
                      0.07619598480675038,
                      0.09462666465278792,
                      -0.02936084652884395,
                      0.005398402197416213,
                      -0.0075683959574591505,
                      -0.08055515140381948
                    ],
                    [
                      -0.03837538512333271,
                      -0.005333560009300616,
                      -0.03925224964651362,
                      -0.030177092484574574,
                      -0.01959759975800961,
                      0.03471278536114764,
                      -0.0024379081382712967,
                      0.023725045410861616,
                      0.030961591631215854,
                      0.02803578713902619,
                      1,
                      -0.14709450365704288,
                      0.041194569909112314,
                      0.025794458095156552,
                      -0.0176944726073845,
                      -0.0011947453753002677,
                      -0.0007609772058049714,
                      0.0392602021355616
                    ],
                    [
                      0.20702676446608476,
                      0.18733332896719546,
                      -0.04640258389320854,
                      0.04895135509462899,
                      -0.10653367038753647,
                      0.03007130280230674,
                      -0.10545688369141895,
                      -0.025326235470128196,
                      -0.025203867628097718,
                      0.07091251939752759,
                      -0.14709450365704288,
                      1,
                      0.4084514401611997,
                      0.1980948483762567,
                      -0.23616549457097627,
                      -0.0891380123653967,
                      -0.07753818325890914,
                      0.18497711241491427
                    ],
                    [
                      0.127959881733415,
                      -0.059354792750434905,
                      -0.11857126173795626,
                      0.04277890315486718,
                      -0.021882735587464903,
                      0.0355309930475869,
                      -0.040831367495159435,
                      0.05707478706578629,
                      0.0477329331878402,
                      0.07619598480675038,
                      0.041194569909112314,
                      0.4084514401611997,
                      1,
                      0.3576120059746848,
                      -0.08190727483082776,
                      -0.13289036094202847,
                      0.021277538565302453,
                      0.04108109284898645
                    ],
                    [
                      0.13709627268483093,
                      0.09522584392211263,
                      -0.08371011487888788,
                      0.05054542756173105,
                      0.03380770772434547,
                      0.08191992528277002,
                      -0.026051488364249,
                      0.05261524871883056,
                      0.1048283767647134,
                      0.09462666465278792,
                      0.025794458095156552,
                      0.1980948483762567,
                      0.3576120059746848,
                      1,
                      -0.5773442179801164,
                      -0.03854651862406125,
                      0.11730178031427665,
                      -0.0048460036188535845
                    ],
                    [
                      -0.10106139167561957,
                      -0.12415564183964546,
                      0.05442992684491474,
                      -0.005788335956102158,
                      -0.06442070596396697,
                      -0.05498672408191746,
                      -0.004484652700683855,
                      -0.061780997909493506,
                      -0.07679342498061872,
                      -0.02936084652884395,
                      -0.0176944726073845,
                      -0.23616549457097627,
                      -0.08190727483082776,
                      -0.5773442179801164,
                      1,
                      0.04279591837290502,
                      -0.05014223889545254,
                      -0.022501474008909155
                    ],
                    [
                      -0.0502250907907609,
                      -0.014561696298256967,
                      0.03398543343606111,
                      0.01927960824829092,
                      -0.028133740598083455,
                      -0.010146449027038063,
                      -0.044902473175109724,
                      -0.05721879744731476,
                      -0.01314517131255827,
                      0.005398402197416213,
                      -0.0011947453753002677,
                      -0.0891380123653967,
                      -0.13289036094202847,
                      -0.03854651862406125,
                      0.04279591837290502,
                      1,
                      -0.04596731651605923,
                      -0.08339646134095939
                    ],
                    [
                      0.042730091468625296,
                      -0.005819077724483149,
                      -0.012347574189325446,
                      0.001565671270370418,
                      -0.046695347155763615,
                      -0.04755236634820574,
                      -0.04833729577983247,
                      -0.0495962741888433,
                      -0.01873328393466035,
                      -0.0075683959574591505,
                      -0.0007609772058049714,
                      -0.07753818325890914,
                      0.021277538565302453,
                      0.11730178031427665,
                      -0.05014223889545254,
                      -0.04596731651605923,
                      1,
                      -0.022525247149349583
                    ],
                    [
                      0.11989989292333003,
                      0.13381907660843495,
                      0.039837623693255414,
                      -0.015826256785264906,
                      -0.08972233188636587,
                      -0.0817645436777334,
                      -0.11233299640338565,
                      -0.1080110982874391,
                      -0.15153919140002176,
                      -0.08055515140381948,
                      0.0392602021355616,
                      0.18497711241491427,
                      0.04108109284898645,
                      -0.0048460036188535845,
                      -0.022501474008909155,
                      -0.08339646134095939,
                      -0.022525247149349583,
                      1
                    ]
                  ]
                }
              ],
              "layout": {
                "coloraxis": {
                  "colorscale": [
                    [
                      0,
                      "#0d0887"
                    ],
                    [
                      0.1111111111111111,
                      "#46039f"
                    ],
                    [
                      0.2222222222222222,
                      "#7201a8"
                    ],
                    [
                      0.3333333333333333,
                      "#9c179e"
                    ],
                    [
                      0.4444444444444444,
                      "#bd3786"
                    ],
                    [
                      0.5555555555555556,
                      "#d8576b"
                    ],
                    [
                      0.6666666666666666,
                      "#ed7953"
                    ],
                    [
                      0.7777777777777778,
                      "#fb9f3a"
                    ],
                    [
                      0.8888888888888888,
                      "#fdca26"
                    ],
                    [
                      1,
                      "#f0f921"
                    ]
                  ]
                },
                "margin": {
                  "t": 60
                },
                "template": {
                  "data": {
                    "bar": [
                      {
                        "error_x": {
                          "color": "#2a3f5f"
                        },
                        "error_y": {
                          "color": "#2a3f5f"
                        },
                        "marker": {
                          "line": {
                            "color": "#E5ECF6",
                            "width": 0.5
                          },
                          "pattern": {
                            "fillmode": "overlay",
                            "size": 10,
                            "solidity": 0.2
                          }
                        },
                        "type": "bar"
                      }
                    ],
                    "barpolar": [
                      {
                        "marker": {
                          "line": {
                            "color": "#E5ECF6",
                            "width": 0.5
                          },
                          "pattern": {
                            "fillmode": "overlay",
                            "size": 10,
                            "solidity": 0.2
                          }
                        },
                        "type": "barpolar"
                      }
                    ],
                    "carpet": [
                      {
                        "aaxis": {
                          "endlinecolor": "#2a3f5f",
                          "gridcolor": "white",
                          "linecolor": "white",
                          "minorgridcolor": "white",
                          "startlinecolor": "#2a3f5f"
                        },
                        "baxis": {
                          "endlinecolor": "#2a3f5f",
                          "gridcolor": "white",
                          "linecolor": "white",
                          "minorgridcolor": "white",
                          "startlinecolor": "#2a3f5f"
                        },
                        "type": "carpet"
                      }
                    ],
                    "choropleth": [
                      {
                        "colorbar": {
                          "outlinewidth": 0,
                          "ticks": ""
                        },
                        "type": "choropleth"
                      }
                    ],
                    "contour": [
                      {
                        "colorbar": {
                          "outlinewidth": 0,
                          "ticks": ""
                        },
                        "colorscale": [
                          [
                            0,
                            "#0d0887"
                          ],
                          [
                            0.1111111111111111,
                            "#46039f"
                          ],
                          [
                            0.2222222222222222,
                            "#7201a8"
                          ],
                          [
                            0.3333333333333333,
                            "#9c179e"
                          ],
                          [
                            0.4444444444444444,
                            "#bd3786"
                          ],
                          [
                            0.5555555555555556,
                            "#d8576b"
                          ],
                          [
                            0.6666666666666666,
                            "#ed7953"
                          ],
                          [
                            0.7777777777777778,
                            "#fb9f3a"
                          ],
                          [
                            0.8888888888888888,
                            "#fdca26"
                          ],
                          [
                            1,
                            "#f0f921"
                          ]
                        ],
                        "type": "contour"
                      }
                    ],
                    "contourcarpet": [
                      {
                        "colorbar": {
                          "outlinewidth": 0,
                          "ticks": ""
                        },
                        "type": "contourcarpet"
                      }
                    ],
                    "heatmap": [
                      {
                        "colorbar": {
                          "outlinewidth": 0,
                          "ticks": ""
                        },
                        "colorscale": [
                          [
                            0,
                            "#0d0887"
                          ],
                          [
                            0.1111111111111111,
                            "#46039f"
                          ],
                          [
                            0.2222222222222222,
                            "#7201a8"
                          ],
                          [
                            0.3333333333333333,
                            "#9c179e"
                          ],
                          [
                            0.4444444444444444,
                            "#bd3786"
                          ],
                          [
                            0.5555555555555556,
                            "#d8576b"
                          ],
                          [
                            0.6666666666666666,
                            "#ed7953"
                          ],
                          [
                            0.7777777777777778,
                            "#fb9f3a"
                          ],
                          [
                            0.8888888888888888,
                            "#fdca26"
                          ],
                          [
                            1,
                            "#f0f921"
                          ]
                        ],
                        "type": "heatmap"
                      }
                    ],
                    "heatmapgl": [
                      {
                        "colorbar": {
                          "outlinewidth": 0,
                          "ticks": ""
                        },
                        "colorscale": [
                          [
                            0,
                            "#0d0887"
                          ],
                          [
                            0.1111111111111111,
                            "#46039f"
                          ],
                          [
                            0.2222222222222222,
                            "#7201a8"
                          ],
                          [
                            0.3333333333333333,
                            "#9c179e"
                          ],
                          [
                            0.4444444444444444,
                            "#bd3786"
                          ],
                          [
                            0.5555555555555556,
                            "#d8576b"
                          ],
                          [
                            0.6666666666666666,
                            "#ed7953"
                          ],
                          [
                            0.7777777777777778,
                            "#fb9f3a"
                          ],
                          [
                            0.8888888888888888,
                            "#fdca26"
                          ],
                          [
                            1,
                            "#f0f921"
                          ]
                        ],
                        "type": "heatmapgl"
                      }
                    ],
                    "histogram": [
                      {
                        "marker": {
                          "pattern": {
                            "fillmode": "overlay",
                            "size": 10,
                            "solidity": 0.2
                          }
                        },
                        "type": "histogram"
                      }
                    ],
                    "histogram2d": [
                      {
                        "colorbar": {
                          "outlinewidth": 0,
                          "ticks": ""
                        },
                        "colorscale": [
                          [
                            0,
                            "#0d0887"
                          ],
                          [
                            0.1111111111111111,
                            "#46039f"
                          ],
                          [
                            0.2222222222222222,
                            "#7201a8"
                          ],
                          [
                            0.3333333333333333,
                            "#9c179e"
                          ],
                          [
                            0.4444444444444444,
                            "#bd3786"
                          ],
                          [
                            0.5555555555555556,
                            "#d8576b"
                          ],
                          [
                            0.6666666666666666,
                            "#ed7953"
                          ],
                          [
                            0.7777777777777778,
                            "#fb9f3a"
                          ],
                          [
                            0.8888888888888888,
                            "#fdca26"
                          ],
                          [
                            1,
                            "#f0f921"
                          ]
                        ],
                        "type": "histogram2d"
                      }
                    ],
                    "histogram2dcontour": [
                      {
                        "colorbar": {
                          "outlinewidth": 0,
                          "ticks": ""
                        },
                        "colorscale": [
                          [
                            0,
                            "#0d0887"
                          ],
                          [
                            0.1111111111111111,
                            "#46039f"
                          ],
                          [
                            0.2222222222222222,
                            "#7201a8"
                          ],
                          [
                            0.3333333333333333,
                            "#9c179e"
                          ],
                          [
                            0.4444444444444444,
                            "#bd3786"
                          ],
                          [
                            0.5555555555555556,
                            "#d8576b"
                          ],
                          [
                            0.6666666666666666,
                            "#ed7953"
                          ],
                          [
                            0.7777777777777778,
                            "#fb9f3a"
                          ],
                          [
                            0.8888888888888888,
                            "#fdca26"
                          ],
                          [
                            1,
                            "#f0f921"
                          ]
                        ],
                        "type": "histogram2dcontour"
                      }
                    ],
                    "mesh3d": [
                      {
                        "colorbar": {
                          "outlinewidth": 0,
                          "ticks": ""
                        },
                        "type": "mesh3d"
                      }
                    ],
                    "parcoords": [
                      {
                        "line": {
                          "colorbar": {
                            "outlinewidth": 0,
                            "ticks": ""
                          }
                        },
                        "type": "parcoords"
                      }
                    ],
                    "pie": [
                      {
                        "automargin": true,
                        "type": "pie"
                      }
                    ],
                    "scatter": [
                      {
                        "fillpattern": {
                          "fillmode": "overlay",
                          "size": 10,
                          "solidity": 0.2
                        },
                        "type": "scatter"
                      }
                    ],
                    "scatter3d": [
                      {
                        "line": {
                          "colorbar": {
                            "outlinewidth": 0,
                            "ticks": ""
                          }
                        },
                        "marker": {
                          "colorbar": {
                            "outlinewidth": 0,
                            "ticks": ""
                          }
                        },
                        "type": "scatter3d"
                      }
                    ],
                    "scattercarpet": [
                      {
                        "marker": {
                          "colorbar": {
                            "outlinewidth": 0,
                            "ticks": ""
                          }
                        },
                        "type": "scattercarpet"
                      }
                    ],
                    "scattergeo": [
                      {
                        "marker": {
                          "colorbar": {
                            "outlinewidth": 0,
                            "ticks": ""
                          }
                        },
                        "type": "scattergeo"
                      }
                    ],
                    "scattergl": [
                      {
                        "marker": {
                          "colorbar": {
                            "outlinewidth": 0,
                            "ticks": ""
                          }
                        },
                        "type": "scattergl"
                      }
                    ],
                    "scattermapbox": [
                      {
                        "marker": {
                          "colorbar": {
                            "outlinewidth": 0,
                            "ticks": ""
                          }
                        },
                        "type": "scattermapbox"
                      }
                    ],
                    "scatterpolar": [
                      {
                        "marker": {
                          "colorbar": {
                            "outlinewidth": 0,
                            "ticks": ""
                          }
                        },
                        "type": "scatterpolar"
                      }
                    ],
                    "scatterpolargl": [
                      {
                        "marker": {
                          "colorbar": {
                            "outlinewidth": 0,
                            "ticks": ""
                          }
                        },
                        "type": "scatterpolargl"
                      }
                    ],
                    "scatterternary": [
                      {
                        "marker": {
                          "colorbar": {
                            "outlinewidth": 0,
                            "ticks": ""
                          }
                        },
                        "type": "scatterternary"
                      }
                    ],
                    "surface": [
                      {
                        "colorbar": {
                          "outlinewidth": 0,
                          "ticks": ""
                        },
                        "colorscale": [
                          [
                            0,
                            "#0d0887"
                          ],
                          [
                            0.1111111111111111,
                            "#46039f"
                          ],
                          [
                            0.2222222222222222,
                            "#7201a8"
                          ],
                          [
                            0.3333333333333333,
                            "#9c179e"
                          ],
                          [
                            0.4444444444444444,
                            "#bd3786"
                          ],
                          [
                            0.5555555555555556,
                            "#d8576b"
                          ],
                          [
                            0.6666666666666666,
                            "#ed7953"
                          ],
                          [
                            0.7777777777777778,
                            "#fb9f3a"
                          ],
                          [
                            0.8888888888888888,
                            "#fdca26"
                          ],
                          [
                            1,
                            "#f0f921"
                          ]
                        ],
                        "type": "surface"
                      }
                    ],
                    "table": [
                      {
                        "cells": {
                          "fill": {
                            "color": "#EBF0F8"
                          },
                          "line": {
                            "color": "white"
                          }
                        },
                        "header": {
                          "fill": {
                            "color": "#C8D4E3"
                          },
                          "line": {
                            "color": "white"
                          }
                        },
                        "type": "table"
                      }
                    ]
                  },
                  "layout": {
                    "annotationdefaults": {
                      "arrowcolor": "#2a3f5f",
                      "arrowhead": 0,
                      "arrowwidth": 1
                    },
                    "autotypenumbers": "strict",
                    "coloraxis": {
                      "colorbar": {
                        "outlinewidth": 0,
                        "ticks": ""
                      }
                    },
                    "colorscale": {
                      "diverging": [
                        [
                          0,
                          "#8e0152"
                        ],
                        [
                          0.1,
                          "#c51b7d"
                        ],
                        [
                          0.2,
                          "#de77ae"
                        ],
                        [
                          0.3,
                          "#f1b6da"
                        ],
                        [
                          0.4,
                          "#fde0ef"
                        ],
                        [
                          0.5,
                          "#f7f7f7"
                        ],
                        [
                          0.6,
                          "#e6f5d0"
                        ],
                        [
                          0.7,
                          "#b8e186"
                        ],
                        [
                          0.8,
                          "#7fbc41"
                        ],
                        [
                          0.9,
                          "#4d9221"
                        ],
                        [
                          1,
                          "#276419"
                        ]
                      ],
                      "sequential": [
                        [
                          0,
                          "#0d0887"
                        ],
                        [
                          0.1111111111111111,
                          "#46039f"
                        ],
                        [
                          0.2222222222222222,
                          "#7201a8"
                        ],
                        [
                          0.3333333333333333,
                          "#9c179e"
                        ],
                        [
                          0.4444444444444444,
                          "#bd3786"
                        ],
                        [
                          0.5555555555555556,
                          "#d8576b"
                        ],
                        [
                          0.6666666666666666,
                          "#ed7953"
                        ],
                        [
                          0.7777777777777778,
                          "#fb9f3a"
                        ],
                        [
                          0.8888888888888888,
                          "#fdca26"
                        ],
                        [
                          1,
                          "#f0f921"
                        ]
                      ],
                      "sequentialminus": [
                        [
                          0,
                          "#0d0887"
                        ],
                        [
                          0.1111111111111111,
                          "#46039f"
                        ],
                        [
                          0.2222222222222222,
                          "#7201a8"
                        ],
                        [
                          0.3333333333333333,
                          "#9c179e"
                        ],
                        [
                          0.4444444444444444,
                          "#bd3786"
                        ],
                        [
                          0.5555555555555556,
                          "#d8576b"
                        ],
                        [
                          0.6666666666666666,
                          "#ed7953"
                        ],
                        [
                          0.7777777777777778,
                          "#fb9f3a"
                        ],
                        [
                          0.8888888888888888,
                          "#fdca26"
                        ],
                        [
                          1,
                          "#f0f921"
                        ]
                      ]
                    },
                    "colorway": [
                      "#636efa",
                      "#EF553B",
                      "#00cc96",
                      "#ab63fa",
                      "#FFA15A",
                      "#19d3f3",
                      "#FF6692",
                      "#B6E880",
                      "#FF97FF",
                      "#FECB52"
                    ],
                    "font": {
                      "color": "#2a3f5f"
                    },
                    "geo": {
                      "bgcolor": "white",
                      "lakecolor": "white",
                      "landcolor": "#E5ECF6",
                      "showlakes": true,
                      "showland": true,
                      "subunitcolor": "white"
                    },
                    "hoverlabel": {
                      "align": "left"
                    },
                    "hovermode": "closest",
                    "mapbox": {
                      "style": "light"
                    },
                    "paper_bgcolor": "white",
                    "plot_bgcolor": "#E5ECF6",
                    "polar": {
                      "angularaxis": {
                        "gridcolor": "white",
                        "linecolor": "white",
                        "ticks": ""
                      },
                      "bgcolor": "#E5ECF6",
                      "radialaxis": {
                        "gridcolor": "white",
                        "linecolor": "white",
                        "ticks": ""
                      }
                    },
                    "scene": {
                      "xaxis": {
                        "backgroundcolor": "#E5ECF6",
                        "gridcolor": "white",
                        "gridwidth": 2,
                        "linecolor": "white",
                        "showbackground": true,
                        "ticks": "",
                        "zerolinecolor": "white"
                      },
                      "yaxis": {
                        "backgroundcolor": "#E5ECF6",
                        "gridcolor": "white",
                        "gridwidth": 2,
                        "linecolor": "white",
                        "showbackground": true,
                        "ticks": "",
                        "zerolinecolor": "white"
                      },
                      "zaxis": {
                        "backgroundcolor": "#E5ECF6",
                        "gridcolor": "white",
                        "gridwidth": 2,
                        "linecolor": "white",
                        "showbackground": true,
                        "ticks": "",
                        "zerolinecolor": "white"
                      }
                    },
                    "shapedefaults": {
                      "line": {
                        "color": "#2a3f5f"
                      }
                    },
                    "ternary": {
                      "aaxis": {
                        "gridcolor": "white",
                        "linecolor": "white",
                        "ticks": ""
                      },
                      "baxis": {
                        "gridcolor": "white",
                        "linecolor": "white",
                        "ticks": ""
                      },
                      "bgcolor": "#E5ECF6",
                      "caxis": {
                        "gridcolor": "white",
                        "linecolor": "white",
                        "ticks": ""
                      }
                    },
                    "title": {
                      "x": 0.05
                    },
                    "xaxis": {
                      "automargin": true,
                      "gridcolor": "white",
                      "linecolor": "white",
                      "ticks": "",
                      "title": {
                        "standoff": 15
                      },
                      "zerolinecolor": "white",
                      "zerolinewidth": 2
                    },
                    "yaxis": {
                      "automargin": true,
                      "gridcolor": "white",
                      "linecolor": "white",
                      "ticks": "",
                      "title": {
                        "standoff": 15
                      },
                      "zerolinecolor": "white",
                      "zerolinewidth": 2
                    }
                  }
                },
                "xaxis": {
                  "anchor": "y",
                  "constrain": "domain",
                  "domain": [
                    0,
                    1
                  ],
                  "scaleanchor": "y"
                },
                "yaxis": {
                  "anchor": "x",
                  "autorange": "reversed",
                  "constrain": "domain",
                  "domain": [
                    0,
                    1
                  ]
                }
              }
            }
          },
          "metadata": {},
          "output_type": "display_data"
        }
      ],
      "source": [
        "\n",
        "numeric_columns = df.select_dtypes(include=['float64', 'int64']).columns\n",
        "correlation_matrix = df[numeric_columns].corr()\n",
        "print(correlation_matrix)\n",
        "px.imshow(correlation_matrix)\n"
      ]
    },
    {
      "cell_type": "code",
      "execution_count": 45,
      "metadata": {},
      "outputs": [
        {
          "name": "stdout",
          "output_type": "stream",
          "text": [
            "count       953\n",
            "unique        2\n",
            "top       False\n",
            "freq        477\n",
            "Name: hit, dtype: object\n",
            "   bpm  danceability_%  valence_%  energy_%  acousticness_%  \\\n",
            "0  125              80         89        83              31   \n",
            "1   92              71         61        74               7   \n",
            "2  138              51         32        53              17   \n",
            "3  170              55         58        72              11   \n",
            "4  144              65         23        80              14   \n",
            "\n",
            "   instrumentalness_%  liveness_%  speechiness_%  more_artists  artist_count  \n",
            "0                   0           8              4          True             2  \n",
            "1                   0          10              4         False             1  \n",
            "2                   0          31              6         False             1  \n",
            "3                   0          11             15         False             1  \n",
            "4                  63          11              6         False             1  \n",
            "Classification report\n",
            "              precision    recall  f1-score   support\n",
            "\n",
            "       False       0.54      0.49      0.51        98\n",
            "        True       0.51      0.56      0.53        93\n",
            "\n",
            "    accuracy                           0.52       191\n",
            "   macro avg       0.52      0.52      0.52       191\n",
            "weighted avg       0.52      0.52      0.52       191\n",
            "\n",
            "Confusion matrix\n",
            "[[48 50]\n",
            " [41 52]]\n"
          ]
        },
        {
          "ename": "ValueError",
          "evalue": "\n    Invalid value of type 'builtins.dict' received for the 'x' property of bar\n        Received value: {}\n\n    The 'x' property is an array that may be specified as a tuple,\n    list, numpy array, or pandas Series",
          "output_type": "error",
          "traceback": [
            "\u001b[0;31m---------------------------------------------------------------------------\u001b[0m",
            "\u001b[0;31mValueError\u001b[0m                                Traceback (most recent call last)",
            "\u001b[1;32m/Users/mariaolivacalero/Documents/GitHub/DataVisualization/inter repaso.ipynb Cell 32\u001b[0m line \u001b[0;36m4\n\u001b[1;32m     <a href='vscode-notebook-cell:/Users/mariaolivacalero/Documents/GitHub/DataVisualization/inter%20repaso.ipynb#X43sZmlsZQ%3D%3D?line=43'>44</a>\u001b[0m fig \u001b[39m=\u001b[39m go\u001b[39m.\u001b[39mFigure()\n\u001b[1;32m     <a href='vscode-notebook-cell:/Users/mariaolivacalero/Documents/GitHub/DataVisualization/inter%20repaso.ipynb#X43sZmlsZQ%3D%3D?line=45'>46</a>\u001b[0m \u001b[39m# Agrego las trazas necesarias\u001b[39;00m\n\u001b[1;32m     <a href='vscode-notebook-cell:/Users/mariaolivacalero/Documents/GitHub/DataVisualization/inter%20repaso.ipynb#X43sZmlsZQ%3D%3D?line=46'>47</a>\u001b[0m fig\u001b[39m.\u001b[39madd_trace(\n\u001b[0;32m---> <a href='vscode-notebook-cell:/Users/mariaolivacalero/Documents/GitHub/DataVisualization/inter%20repaso.ipynb#X43sZmlsZQ%3D%3D?line=47'>48</a>\u001b[0m     go\u001b[39m.\u001b[39;49mBar(\n\u001b[1;32m     <a href='vscode-notebook-cell:/Users/mariaolivacalero/Documents/GitHub/DataVisualization/inter%20repaso.ipynb#X43sZmlsZQ%3D%3D?line=48'>49</a>\u001b[0m         x \u001b[39m=\u001b[39;49m coefficients,\n\u001b[1;32m     <a href='vscode-notebook-cell:/Users/mariaolivacalero/Documents/GitHub/DataVisualization/inter%20repaso.ipynb#X43sZmlsZQ%3D%3D?line=49'>50</a>\u001b[0m         y \u001b[39m=\u001b[39;49m objects,\n\u001b[1;32m     <a href='vscode-notebook-cell:/Users/mariaolivacalero/Documents/GitHub/DataVisualization/inter%20repaso.ipynb#X43sZmlsZQ%3D%3D?line=50'>51</a>\u001b[0m         name \u001b[39m=\u001b[39;49m \u001b[39m\"\u001b[39;49m\u001b[39mCoeficientes\u001b[39;49m\u001b[39m\"\u001b[39;49m,\n\u001b[1;32m     <a href='vscode-notebook-cell:/Users/mariaolivacalero/Documents/GitHub/DataVisualization/inter%20repaso.ipynb#X43sZmlsZQ%3D%3D?line=51'>52</a>\u001b[0m         orientation\u001b[39m=\u001b[39;49m\u001b[39m'\u001b[39;49m\u001b[39mh\u001b[39;49m\u001b[39m'\u001b[39;49m\n\u001b[1;32m     <a href='vscode-notebook-cell:/Users/mariaolivacalero/Documents/GitHub/DataVisualization/inter%20repaso.ipynb#X43sZmlsZQ%3D%3D?line=52'>53</a>\u001b[0m     )\n\u001b[1;32m     <a href='vscode-notebook-cell:/Users/mariaolivacalero/Documents/GitHub/DataVisualization/inter%20repaso.ipynb#X43sZmlsZQ%3D%3D?line=53'>54</a>\u001b[0m )\n\u001b[1;32m     <a href='vscode-notebook-cell:/Users/mariaolivacalero/Documents/GitHub/DataVisualization/inter%20repaso.ipynb#X43sZmlsZQ%3D%3D?line=55'>56</a>\u001b[0m \u001b[39m# Agrego las trazas necesarias\u001b[39;00m\n\u001b[1;32m     <a href='vscode-notebook-cell:/Users/mariaolivacalero/Documents/GitHub/DataVisualization/inter%20repaso.ipynb#X43sZmlsZQ%3D%3D?line=56'>57</a>\u001b[0m fig\u001b[39m.\u001b[39madd_trace(\n\u001b[1;32m     <a href='vscode-notebook-cell:/Users/mariaolivacalero/Documents/GitHub/DataVisualization/inter%20repaso.ipynb#X43sZmlsZQ%3D%3D?line=57'>58</a>\u001b[0m     go\u001b[39m.\u001b[39mBar(\n\u001b[1;32m     <a href='vscode-notebook-cell:/Users/mariaolivacalero/Documents/GitHub/DataVisualization/inter%20repaso.ipynb#X43sZmlsZQ%3D%3D?line=58'>59</a>\u001b[0m         x \u001b[39m=\u001b[39m coefficients,\n\u001b[0;32m   (...)\u001b[0m\n\u001b[1;32m     <a href='vscode-notebook-cell:/Users/mariaolivacalero/Documents/GitHub/DataVisualization/inter%20repaso.ipynb#X43sZmlsZQ%3D%3D?line=62'>63</a>\u001b[0m     )\n\u001b[1;32m     <a href='vscode-notebook-cell:/Users/mariaolivacalero/Documents/GitHub/DataVisualization/inter%20repaso.ipynb#X43sZmlsZQ%3D%3D?line=63'>64</a>\u001b[0m )\n",
            "File \u001b[0;32m~/Library/Python/3.9/lib/python/site-packages/plotly/graph_objs/_bar.py:3264\u001b[0m, in \u001b[0;36mBar.__init__\u001b[0;34m(self, arg, alignmentgroup, base, basesrc, cliponaxis, constraintext, customdata, customdatasrc, dx, dy, error_x, error_y, hoverinfo, hoverinfosrc, hoverlabel, hovertemplate, hovertemplatesrc, hovertext, hovertextsrc, ids, idssrc, insidetextanchor, insidetextfont, legend, legendgroup, legendgrouptitle, legendrank, legendwidth, marker, meta, metasrc, name, offset, offsetgroup, offsetsrc, opacity, orientation, outsidetextfont, selected, selectedpoints, showlegend, stream, text, textangle, textfont, textposition, textpositionsrc, textsrc, texttemplate, texttemplatesrc, uid, uirevision, unselected, visible, width, widthsrc, x, x0, xaxis, xcalendar, xhoverformat, xperiod, xperiod0, xperiodalignment, xsrc, y, y0, yaxis, ycalendar, yhoverformat, yperiod, yperiod0, yperiodalignment, ysrc, **kwargs)\u001b[0m\n\u001b[1;32m   3262\u001b[0m _v \u001b[39m=\u001b[39m x \u001b[39mif\u001b[39;00m x \u001b[39mis\u001b[39;00m \u001b[39mnot\u001b[39;00m \u001b[39mNone\u001b[39;00m \u001b[39melse\u001b[39;00m _v\n\u001b[1;32m   3263\u001b[0m \u001b[39mif\u001b[39;00m _v \u001b[39mis\u001b[39;00m \u001b[39mnot\u001b[39;00m \u001b[39mNone\u001b[39;00m:\n\u001b[0;32m-> 3264\u001b[0m     \u001b[39mself\u001b[39;49m[\u001b[39m\"\u001b[39;49m\u001b[39mx\u001b[39;49m\u001b[39m\"\u001b[39;49m] \u001b[39m=\u001b[39m _v\n\u001b[1;32m   3265\u001b[0m _v \u001b[39m=\u001b[39m arg\u001b[39m.\u001b[39mpop(\u001b[39m\"\u001b[39m\u001b[39mx0\u001b[39m\u001b[39m\"\u001b[39m, \u001b[39mNone\u001b[39;00m)\n\u001b[1;32m   3266\u001b[0m _v \u001b[39m=\u001b[39m x0 \u001b[39mif\u001b[39;00m x0 \u001b[39mis\u001b[39;00m \u001b[39mnot\u001b[39;00m \u001b[39mNone\u001b[39;00m \u001b[39melse\u001b[39;00m _v\n",
            "File \u001b[0;32m~/Library/Python/3.9/lib/python/site-packages/plotly/basedatatypes.py:4874\u001b[0m, in \u001b[0;36mBasePlotlyType.__setitem__\u001b[0;34m(self, prop, value)\u001b[0m\n\u001b[1;32m   4870\u001b[0m         \u001b[39mself\u001b[39m\u001b[39m.\u001b[39m_set_array_prop(prop, value)\n\u001b[1;32m   4872\u001b[0m     \u001b[39m# ### Handle simple property ###\u001b[39;00m\n\u001b[1;32m   4873\u001b[0m     \u001b[39melse\u001b[39;00m:\n\u001b[0;32m-> 4874\u001b[0m         \u001b[39mself\u001b[39;49m\u001b[39m.\u001b[39;49m_set_prop(prop, value)\n\u001b[1;32m   4875\u001b[0m \u001b[39melse\u001b[39;00m:\n\u001b[1;32m   4876\u001b[0m     \u001b[39m# Make sure properties dict is initialized\u001b[39;00m\n\u001b[1;32m   4877\u001b[0m     \u001b[39mself\u001b[39m\u001b[39m.\u001b[39m_init_props()\n",
            "File \u001b[0;32m~/Library/Python/3.9/lib/python/site-packages/plotly/basedatatypes.py:5218\u001b[0m, in \u001b[0;36mBasePlotlyType._set_prop\u001b[0;34m(self, prop, val)\u001b[0m\n\u001b[1;32m   5216\u001b[0m         \u001b[39mreturn\u001b[39;00m\n\u001b[1;32m   5217\u001b[0m     \u001b[39melse\u001b[39;00m:\n\u001b[0;32m-> 5218\u001b[0m         \u001b[39mraise\u001b[39;00m err\n\u001b[1;32m   5220\u001b[0m \u001b[39m# val is None\u001b[39;00m\n\u001b[1;32m   5221\u001b[0m \u001b[39m# -----------\u001b[39;00m\n\u001b[1;32m   5222\u001b[0m \u001b[39mif\u001b[39;00m val \u001b[39mis\u001b[39;00m \u001b[39mNone\u001b[39;00m:\n\u001b[1;32m   5223\u001b[0m     \u001b[39m# Check if we should send null update\u001b[39;00m\n",
            "File \u001b[0;32m~/Library/Python/3.9/lib/python/site-packages/plotly/basedatatypes.py:5213\u001b[0m, in \u001b[0;36mBasePlotlyType._set_prop\u001b[0;34m(self, prop, val)\u001b[0m\n\u001b[1;32m   5210\u001b[0m validator \u001b[39m=\u001b[39m \u001b[39mself\u001b[39m\u001b[39m.\u001b[39m_get_validator(prop)\n\u001b[1;32m   5212\u001b[0m \u001b[39mtry\u001b[39;00m:\n\u001b[0;32m-> 5213\u001b[0m     val \u001b[39m=\u001b[39m validator\u001b[39m.\u001b[39;49mvalidate_coerce(val)\n\u001b[1;32m   5214\u001b[0m \u001b[39mexcept\u001b[39;00m \u001b[39mValueError\u001b[39;00m \u001b[39mas\u001b[39;00m err:\n\u001b[1;32m   5215\u001b[0m     \u001b[39mif\u001b[39;00m \u001b[39mself\u001b[39m\u001b[39m.\u001b[39m_skip_invalid:\n",
            "File \u001b[0;32m~/Library/Python/3.9/lib/python/site-packages/_plotly_utils/basevalidators.py:412\u001b[0m, in \u001b[0;36mDataArrayValidator.validate_coerce\u001b[0;34m(self, v)\u001b[0m\n\u001b[1;32m    410\u001b[0m     v \u001b[39m=\u001b[39m to_scalar_or_list(v)\n\u001b[1;32m    411\u001b[0m \u001b[39melse\u001b[39;00m:\n\u001b[0;32m--> 412\u001b[0m     \u001b[39mself\u001b[39;49m\u001b[39m.\u001b[39;49mraise_invalid_val(v)\n\u001b[1;32m    413\u001b[0m \u001b[39mreturn\u001b[39;00m v\n",
            "File \u001b[0;32m~/Library/Python/3.9/lib/python/site-packages/_plotly_utils/basevalidators.py:296\u001b[0m, in \u001b[0;36mBaseValidator.raise_invalid_val\u001b[0;34m(self, v, inds)\u001b[0m\n\u001b[1;32m    293\u001b[0m             \u001b[39mfor\u001b[39;00m i \u001b[39min\u001b[39;00m inds:\n\u001b[1;32m    294\u001b[0m                 name \u001b[39m+\u001b[39m\u001b[39m=\u001b[39m \u001b[39m\"\u001b[39m\u001b[39m[\u001b[39m\u001b[39m\"\u001b[39m \u001b[39m+\u001b[39m \u001b[39mstr\u001b[39m(i) \u001b[39m+\u001b[39m \u001b[39m\"\u001b[39m\u001b[39m]\u001b[39m\u001b[39m\"\u001b[39m\n\u001b[0;32m--> 296\u001b[0m         \u001b[39mraise\u001b[39;00m \u001b[39mValueError\u001b[39;00m(\n\u001b[1;32m    297\u001b[0m \u001b[39m            \u001b[39m\u001b[39m\"\"\"\u001b[39;00m\n\u001b[1;32m    298\u001b[0m \u001b[39m    Invalid value of type {typ} received for the '{name}' property of {pname}\u001b[39;00m\n\u001b[1;32m    299\u001b[0m \u001b[39m        Received value: {v}\u001b[39;00m\n\u001b[1;32m    300\u001b[0m \n\u001b[1;32m    301\u001b[0m \u001b[39m{valid_clr_desc}\"\"\"\u001b[39;00m\u001b[39m.\u001b[39mformat(\n\u001b[1;32m    302\u001b[0m                 name\u001b[39m=\u001b[39mname,\n\u001b[1;32m    303\u001b[0m                 pname\u001b[39m=\u001b[39m\u001b[39mself\u001b[39m\u001b[39m.\u001b[39mparent_name,\n\u001b[1;32m    304\u001b[0m                 typ\u001b[39m=\u001b[39mtype_str(v),\n\u001b[1;32m    305\u001b[0m                 v\u001b[39m=\u001b[39m\u001b[39mrepr\u001b[39m(v),\n\u001b[1;32m    306\u001b[0m                 valid_clr_desc\u001b[39m=\u001b[39m\u001b[39mself\u001b[39m\u001b[39m.\u001b[39mdescription(),\n\u001b[1;32m    307\u001b[0m             )\n\u001b[1;32m    308\u001b[0m         )\n",
            "\u001b[0;31mValueError\u001b[0m: \n    Invalid value of type 'builtins.dict' received for the 'x' property of bar\n        Received value: {}\n\n    The 'x' property is an array that may be specified as a tuple,\n    list, numpy array, or pandas Series"
          ]
        }
      ],
      "source": [
        "df['hit'] = df[\"streams\"] > df[\"streams\"].quantile(0.5)\n",
        "print(df.hit.describe())\n",
        "\n",
        "\n",
        "df['key'] = df['key'].astype('category')\n",
        "df['mode'] = df['mode'].astype('category')\n",
        "\n",
        "X = df[['bpm',\n",
        "        'danceability_%','valence_%','energy_%',\n",
        "        'acousticness_%','instrumentalness_%','liveness_%',\n",
        "        'speechiness_%', 'more_artists', 'artist_count']]\n",
        "\n",
        "y = df['hit']\n",
        "\n",
        "print(X.head())\n",
        "\n",
        "X_train, X_test, y_train, y_test = train_test_split(X, y, test_size = 0.2, random_state = 123)\n",
        "\n",
        "clf_log = Pipeline(steps=[\n",
        "    ('scaler', StandardScaler()),\n",
        "    (\"glm\", LogisticRegression(max_iter=10000, tol=0.1)),\n",
        "])\n",
        "\n",
        "\n",
        "# clf_log = LogisticRegression(max_iter=10000, tol=0.1)\n",
        "clf_log.fit(X_train, y_train)\n",
        "\n",
        "predictions = clf_log.predict(X_test)\n",
        "\n",
        "print(\"Classification report\")\n",
        "print(classification_report(y_test, predictions))\n",
        "\n",
        "print(\"Confusion matrix\")\n",
        "print(confusion_matrix(y_test, predictions))\n",
        "\n",
        "lmc = clf_log.named_steps['glm'].coef_\n",
        "\n",
        "# Plot for LM\n",
        "objects = X.columns\n",
        "y_pos = np.arange(len(objects))\n",
        "coefficients = lmc[0]\n",
        "\n",
        "\n",
        "fig = go.Figure()\n",
        "\n",
        "# Agrego las trazas necesarias\n",
        "fig.add_trace(\n",
        "    go.Bar(\n",
        "        x = coefficients,\n",
        "        y = objects,\n",
        "        name = \"Coeficientes\",\n",
        "        orientation='h'\n",
        "    )\n",
        ")\n",
        "\n",
        "# Agrego las trazas necesarias\n",
        "fig.add_trace(\n",
        "    go.Bar(\n",
        "        x = coefficients,\n",
        "        y = objects,\n",
        "        name = \"Coeficientes\",\n",
        "        orientation='h'\n",
        "    )\n",
        ")\n",
        "\n",
        "# Actualizo el diseño\n",
        "fig.update_layout(title = \"GLM coefficients importance\", xaxis_title = \"Coeficientes normalizados\", yaxis_title = \"Variables\")\n",
        "\n",
        "# Filtrar solo los coeficientes pasados como variables\n",
        "variables_of_interest = ['bpm', 'danceability_%', 'valence_%']\n",
        "filtered_coefficients = [coefficients[i] for i, var in enumerate(objects) if var in variables_of_interest]\n",
        "filtered_objects = [var for var in objects if var in variables_of_interest]\n",
        "\n",
        "# Actualizar los datos de la gráfica con los coeficientes filtrados\n",
        "fig.data[0].x = filtered_coefficients\n",
        "fig.data[0].y = filtered_objects\n",
        "# Actualizo el diseño\n",
        "fig.update_layout(title = \"GLM coefficients importance\", xaxis_title = \"Coeficientes normalizados\", yaxis_title = \"Variables\")\n",
        "\n",
        "# Muestro la figura\n",
        "fig.show()\n",
        "\n",
        "plt.show()\n",
        "     \n",
        "     "
      ]
    },
    {
      "cell_type": "code",
      "execution_count": 46,
      "metadata": {},
      "outputs": [
        {
          "name": "stderr",
          "output_type": "stream",
          "text": [
            "/Users/mariaolivacalero/Library/Python/3.9/lib/python/site-packages/urllib3/__init__.py:34: NotOpenSSLWarning:\n",
            "\n",
            "urllib3 v2.0 only supports OpenSSL 1.1.1+, currently the 'ssl' module is compiled with 'LibreSSL 2.8.3'. See: https://github.com/urllib3/urllib3/issues/3020\n",
            "\n",
            "/var/folders/d7/fq94_spj7t7185m44s3lzkrc0000gn/T/ipykernel_1662/893404073.py:2: UserWarning:\n",
            "\n",
            "\n",
            "The dash_core_components package is deprecated. Please replace\n",
            "`import dash_core_components as dcc` with `from dash import dcc`\n",
            "\n",
            "/var/folders/d7/fq94_spj7t7185m44s3lzkrc0000gn/T/ipykernel_1662/893404073.py:3: UserWarning:\n",
            "\n",
            "\n",
            "The dash_html_components package is deprecated. Please replace\n",
            "`import dash_html_components as html` with `from dash import html`\n",
            "\n"
          ]
        },
        {
          "data": {
            "text/html": [
              "\n",
              "        <iframe\n",
              "            width=\"100%\"\n",
              "            height=\"650\"\n",
              "            src=\"http://127.0.0.1:8050/\"\n",
              "            frameborder=\"0\"\n",
              "            allowfullscreen\n",
              "            \n",
              "        ></iframe>\n",
              "        "
            ],
            "text/plain": [
              "<IPython.lib.display.IFrame at 0x2ae950bb0>"
            ]
          },
          "metadata": {},
          "output_type": "display_data"
        }
      ],
      "source": [
        "import dash\n",
        "import dash_core_components as dcc\n",
        "import dash_html_components as html\n",
        "import plotly.graph_objs as go\n",
        "\n",
        "# Define the Dash app\n",
        "app = dash.Dash(__name__)\n",
        "\n",
        "# Set up the layout\n",
        "app.layout = html.Div([\n",
        "    html.H1(\"Variable Selection\"),\n",
        "    html.Label(\"Select variables to display:\"),\n",
        "    dcc.Dropdown(\n",
        "        id=\"variable-dropdown\",\n",
        "        options=[\n",
        "            {\"label\": \"bpm\", \"value\": \"bpm\"},\n",
        "            {\"label\": \"danceability_%\", \"value\": \"danceability_%\"},\n",
        "            {\"label\": \"valence_%\", \"value\": \"valence_%\"},\n",
        "            {\"label\": \"energy_%\", \"value\": \"energy_%\"},\n",
        "            {\"label\": \"acousticness_%\", \"value\": \"acousticness_%\"},\n",
        "            {\"label\": \"instrumentalness_%\", \"value\": \"instrumentalness_%\"},\n",
        "            {\"label\": \"liveness_%\", \"value\": \"liveness_%\"},\n",
        "            {\"label\": \"speechiness_%\", \"value\": \"speechiness_%\"},\n",
        "            {\"label\": \"more_artists\", \"value\": \"more_artists\"},\n",
        "            {\"label\": \"artist_count\", \"value\": \"artist_count\"}\n",
        "        ],\n",
        "        multi=True\n",
        "    ),\n",
        "    dcc.Graph(id=\"variable-graph\")\n",
        "])\n",
        "\n",
        "# Define the callback function\n",
        "@app.callback(\n",
        "    dash.dependencies.Output(\"variable-graph\", \"figure\"),\n",
        "    [dash.dependencies.Input(\"variable-dropdown\", \"value\")]\n",
        ")\n",
        "def update_graph(selected_variables):\n",
        "    # Filter the coefficients based on the selected variables\n",
        "    filtered_coefficients = [coefficients[i] for i, var in enumerate(objects) if var in selected_variables]\n",
        "    filtered_objects = [var for var in objects if var in selected_variables]\n",
        "    \n",
        "    # Create the figure\n",
        "    fig = go.Figure()\n",
        "    fig.add_trace(go.Bar(\n",
        "        x=filtered_coefficients,\n",
        "        y=filtered_objects,\n",
        "        name=\"Coeficients\",\n",
        "        orientation=\"h\"\n",
        "    ))\n",
        "    \n",
        "    # Update the layout\n",
        "    fig.update_layout(\n",
        "        title=\"GLM Coefficients Importance\",\n",
        "        xaxis_title=\"Normalized Coefficients\",\n",
        "        yaxis_title=\"Variables\"\n",
        "    )\n",
        "    \n",
        "    return fig\n",
        "\n",
        "# Run the app\n",
        "if __name__ == \"__main__\":\n",
        "    app.run_server(debug=True)\n"
      ]
    },
    {
      "cell_type": "code",
      "execution_count": null,
      "metadata": {},
      "outputs": [],
      "source": []
    },
    {
      "cell_type": "code",
      "execution_count": null,
      "metadata": {},
      "outputs": [],
      "source": [
        "import dash\n",
        "import dash_core_components as dcc\n",
        "import dash_html_components as html\n",
        "from dash.dependencies import Input, Output\n",
        "\n",
        "app = dash.Dash(__name__)\n",
        "\n",
        "app.layout = html.Div(children=[\n",
        "    html.H1(children='Dash App'),\n",
        "    dcc.Dropdown(\n",
        "        id='variable-dropdown',\n",
        "        options=[\n",
        "            {'label': 'Variable 1', 'value': 'var1'},\n",
        "            {'label': 'Variable 2', 'value': 'var2'},\n",
        "            {'label': 'Variable 3', 'value': 'var3'}\n",
        "        ],\n",
        "        value='var1'\n",
        "    ),\n",
        "    dcc.Graph(\n",
        "        id='graph',\n",
        "        figure=fig\n",
        "    )\n",
        "])\n",
        "\n",
        "@app.callback(\n",
        "    Output('graph', 'figure'),\n",
        "    Input('variable-dropdown', 'value')\n",
        ")\n",
        "def update_graph(selected_variable):\n",
        "    # Update the graph based on the selected variable\n",
        "    # Add your code here to update the graph based on the selected variable\n",
        "    updated_figure = fig  # Replace with your updated figure\n",
        "    \n",
        "    return updated_figure\n",
        "\n",
        "if __name__ == '__main__':\n",
        "    app.run_server(debug=True)\n",
        "\n"
      ]
    }
  ],
  "metadata": {
    "colab": {
      "provenance": []
    },
    "kernelspec": {
      "display_name": "Python 3",
      "name": "python3"
    },
    "language_info": {
      "codemirror_mode": {
        "name": "ipython",
        "version": 3
      },
      "file_extension": ".py",
      "mimetype": "text/x-python",
      "name": "python",
      "nbconvert_exporter": "python",
      "pygments_lexer": "ipython3",
      "version": "3.9.6"
    }
  },
  "nbformat": 4,
  "nbformat_minor": 0
}
